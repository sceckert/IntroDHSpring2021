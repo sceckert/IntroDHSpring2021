{
 "cells": [
  {
   "cell_type": "markdown",
   "metadata": {},
   "source": [
    "# Topic Modeling: Creating Time Series Visualizations"
   ]
  },
  {
   "cell_type": "markdown",
   "metadata": {},
   "source": [
    "A lesson from [Melanie Walsh's *Introduction to Cultural Analytics*](https://github.com/melaniewalsh/Intro-Cultural-Analytics/blob/master/book/Text-Analysis/Topic-Modeling-Time-Series.ipynb)\n",
    "\n",
    "Last week we learned about \"topic modeling\", using MALLET.\n",
    "\n",
    "In this particular lesson, we’re going to use Little MALLET Wrapper, a Python wrapper for MALLET, to topic model a CSV file of Donald Trump’s tweets and plot the fluctuation of topics over time."
   ]
  },
  {
   "cell_type": "markdown",
   "metadata": {},
   "source": [
    "### Set MALLET Path\n",
    "\n",
    "Since Little MALLET Wrapper is a Python package built around MALLET, we first need to tell it where the bigger, Java-based MALLET lives.\n",
    "\n",
    "We’re going to make a variable called path_to_mallet and assign it the file path of our MALLET program. We need to point it, specifically, to the “mallet” file inside the “bin” folder inside the “mallet-2.0.8” folder."
   ]
  },
  {
   "cell_type": "code",
   "execution_count": 130,
   "metadata": {},
   "outputs": [],
   "source": [
    "path_to_mallet = '../_week9/mallet-2.0.8/bin/mallet'"
   ]
  },
  {
   "cell_type": "markdown",
   "metadata": {},
   "source": [
    "### Install Packages"
   ]
  },
  {
   "cell_type": "code",
   "execution_count": 131,
   "metadata": {},
   "outputs": [],
   "source": [
    "#!pip install little_mallet_wrapper\n",
    "#!pip install seaborn"
   ]
  },
  {
   "cell_type": "markdown",
   "metadata": {},
   "source": [
    "### Import Packages\n",
    "\n",
    "Now let’s import the little_mallet_wrapper and the data viz library seaborn."
   ]
  },
  {
   "cell_type": "code",
   "execution_count": 132,
   "metadata": {},
   "outputs": [],
   "source": [
    "import little_mallet_wrapper\n",
    "import seaborn\n",
    "import glob\n",
    "from pathlib import Path\n",
    "import pandas as pd\n",
    "import random\n",
    "pd.options.display.max_colwidth = 100"
   ]
  },
  {
   "cell_type": "markdown",
   "metadata": {},
   "source": [
    "### Get Training Data From CSV File\n",
    "\n",
    "Before we topic model Donald Trump’s tweets, we need to process the tweets and prepare them for analysis. The steps below demonstrate how to process texts if they come from a CSV file.\n",
    "\n",
    "Note: We’re calling these text files our training data, because we’re training our topic model with these texts. The topic model will be learning and extracting topics based on these texts"
   ]
  },
  {
   "cell_type": "markdown",
   "metadata": {},
   "source": [
    "## Trump Tweets\n",
    "\n",
    "This dataset of Donald Trump’s tweets is taken from Trump Twitter Archive. To read in the CSV file, we’re going to use Pandas."
   ]
  },
  {
   "cell_type": "code",
   "execution_count": 133,
   "metadata": {},
   "outputs": [],
   "source": [
    "trump_df = pd.read_csv(\"../_datasets/texts/politics/Trump-Tweets.csv\", encoding='utf-8')"
   ]
  },
  {
   "cell_type": "code",
   "execution_count": 134,
   "metadata": {},
   "outputs": [
    {
     "data": {
      "text/html": [
       "<div>\n",
       "<style scoped>\n",
       "    .dataframe tbody tr th:only-of-type {\n",
       "        vertical-align: middle;\n",
       "    }\n",
       "\n",
       "    .dataframe tbody tr th {\n",
       "        vertical-align: top;\n",
       "    }\n",
       "\n",
       "    .dataframe thead th {\n",
       "        text-align: right;\n",
       "    }\n",
       "</style>\n",
       "<table border=\"1\" class=\"dataframe\">\n",
       "  <thead>\n",
       "    <tr style=\"text-align: right;\">\n",
       "      <th></th>\n",
       "      <th>source</th>\n",
       "      <th>text</th>\n",
       "      <th>created_at</th>\n",
       "      <th>retweet_count</th>\n",
       "      <th>favorite_count</th>\n",
       "      <th>is_retweet</th>\n",
       "      <th>id_str</th>\n",
       "    </tr>\n",
       "  </thead>\n",
       "  <tbody>\n",
       "    <tr>\n",
       "      <th>0</th>\n",
       "      <td>Twitter for iPhone</td>\n",
       "      <td>Just finished a very good conversation with President Xi of China. Discussed in great detail the...</td>\n",
       "      <td>03-27-2020 05:19:02</td>\n",
       "      <td>33074</td>\n",
       "      <td>202087</td>\n",
       "      <td>False</td>\n",
       "      <td>1243407157321560000</td>\n",
       "    </tr>\n",
       "    <tr>\n",
       "      <th>1</th>\n",
       "      <td>Twitter for iPhone</td>\n",
       "      <td>Will be interviewed on @seanhannity at 9:10 P.M. @FoxNews</td>\n",
       "      <td>03-27-2020 01:05:59</td>\n",
       "      <td>7419</td>\n",
       "      <td>42186</td>\n",
       "      <td>False</td>\n",
       "      <td>1243343475799720000</td>\n",
       "    </tr>\n",
       "    <tr>\n",
       "      <th>2</th>\n",
       "      <td>Twitter for iPhone</td>\n",
       "      <td>The world is at war with a hidden enemy. WE WILL WIN! https://t.co/QLceNWcL6Z</td>\n",
       "      <td>03-26-2020 23:50:02</td>\n",
       "      <td>24472</td>\n",
       "      <td>97346</td>\n",
       "      <td>False</td>\n",
       "      <td>1243324360523490000</td>\n",
       "    </tr>\n",
       "    <tr>\n",
       "      <th>3</th>\n",
       "      <td>Twitter for iPhone</td>\n",
       "      <td>Our great Oil &amp;amp; Gas industry is under under seige after having one of the best years in reco...</td>\n",
       "      <td>03-26-2020 23:06:28</td>\n",
       "      <td>25514</td>\n",
       "      <td>131210</td>\n",
       "      <td>False</td>\n",
       "      <td>1243313399284500000</td>\n",
       "    </tr>\n",
       "    <tr>\n",
       "      <th>4</th>\n",
       "      <td>Twitter for iPhone</td>\n",
       "      <td>Will be going out in 10 minutes for the press conference.</td>\n",
       "      <td>03-26-2020 20:57:15</td>\n",
       "      <td>15797</td>\n",
       "      <td>130201</td>\n",
       "      <td>False</td>\n",
       "      <td>1243280878991790000</td>\n",
       "    </tr>\n",
       "  </tbody>\n",
       "</table>\n",
       "</div>"
      ],
      "text/plain": [
       "               source  \\\n",
       "0  Twitter for iPhone   \n",
       "1  Twitter for iPhone   \n",
       "2  Twitter for iPhone   \n",
       "3  Twitter for iPhone   \n",
       "4  Twitter for iPhone   \n",
       "\n",
       "                                                                                                  text  \\\n",
       "0  Just finished a very good conversation with President Xi of China. Discussed in great detail the...   \n",
       "1                                            Will be interviewed on @seanhannity at 9:10 P.M. @FoxNews   \n",
       "2                        The world is at war with a hidden enemy. WE WILL WIN! https://t.co/QLceNWcL6Z   \n",
       "3  Our great Oil &amp; Gas industry is under under seige after having one of the best years in reco...   \n",
       "4                                            Will be going out in 10 minutes for the press conference.   \n",
       "\n",
       "            created_at  retweet_count  favorite_count is_retweet  \\\n",
       "0  03-27-2020 05:19:02          33074          202087      False   \n",
       "1  03-27-2020 01:05:59           7419           42186      False   \n",
       "2  03-26-2020 23:50:02          24472           97346      False   \n",
       "3  03-26-2020 23:06:28          25514          131210      False   \n",
       "4  03-26-2020 20:57:15          15797          130201      False   \n",
       "\n",
       "                id_str  \n",
       "0  1243407157321560000  \n",
       "1  1243343475799720000  \n",
       "2  1243324360523490000  \n",
       "3  1243313399284500000  \n",
       "4  1243280878991790000  "
      ]
     },
     "execution_count": 134,
     "metadata": {},
     "output_type": "execute_result"
    }
   ],
   "source": [
    "trump_df.head()"
   ]
  },
  {
   "cell_type": "code",
   "execution_count": 135,
   "metadata": {},
   "outputs": [],
   "source": [
    "trump_df['text'] = trump_df['text'].astype(str)\n"
   ]
  },
  {
   "cell_type": "markdown",
   "metadata": {},
   "source": [
    "## Process Trump Tweets"
   ]
  },
  {
   "cell_type": "code",
   "execution_count": 136,
   "metadata": {},
   "outputs": [],
   "source": [
    "training_data = [little_mallet_wrapper.process_string(text, numbers='remove') for text in trump_df['text']]"
   ]
  },
  {
   "cell_type": "markdown",
   "metadata": {},
   "source": [
    "### Get Original Trump Tweets"
   ]
  },
  {
   "cell_type": "code",
   "execution_count": 137,
   "metadata": {},
   "outputs": [],
   "source": [
    "original_trump_tweets = [title for title in trump_df['text']]"
   ]
  },
  {
   "cell_type": "code",
   "execution_count": 138,
   "metadata": {},
   "outputs": [],
   "source": [
    "## Get Dataset Statistics"
   ]
  },
  {
   "cell_type": "code",
   "execution_count": 139,
   "metadata": {},
   "outputs": [
    {
     "name": "stdout",
     "output_type": "stream",
     "text": [
      "Number of Documents: 29395\n",
      "Mean Number of Words per Document: 12.8\n",
      "Vocabulary Size: 34294\n"
     ]
    }
   ],
   "source": [
    "little_mallet_wrapper.print_dataset_stats(training_data)"
   ]
  },
  {
   "cell_type": "markdown",
   "metadata": {},
   "source": [
    "## Training the Topic Model\n",
    "\n",
    "We’re going to train our topic model with the little_mallet_wrapper.train_topic_model() function.\n",
    "\n",
    "So we have to set a few things up first."
   ]
  },
  {
   "cell_type": "markdown",
   "metadata": {},
   "source": [
    "## Set Number of Topics"
   ]
  },
  {
   "cell_type": "code",
   "execution_count": 140,
   "metadata": {},
   "outputs": [],
   "source": [
    "num_topics = 35"
   ]
  },
  {
   "cell_type": "markdown",
   "metadata": {},
   "source": [
    "## Set Training Data"
   ]
  },
  {
   "cell_type": "code",
   "execution_count": 141,
   "metadata": {},
   "outputs": [],
   "source": [
    "training_data = training_data"
   ]
  },
  {
   "cell_type": "markdown",
   "metadata": {},
   "source": [
    "## Set Other MALLET File Paths"
   ]
  },
  {
   "cell_type": "code",
   "execution_count": 142,
   "metadata": {},
   "outputs": [],
   "source": [
    "#Change to your desired output directory\n",
    "output_directory_path = 'topic-model-output/Trump-Tweets'\n",
    "\n",
    "#No need to change anything below here\n",
    "Path(f\"{output_directory_path}\").mkdir(parents=True, exist_ok=True)\n",
    "\n",
    "path_to_training_data           = f\"{output_directory_path}/training.txt\"\n",
    "path_to_formatted_training_data = f\"{output_directory_path}/mallet.training\"\n",
    "path_to_model                   = f\"{output_directory_path}/mallet.model.{str(num_topics)}\"\n",
    "path_to_topic_keys              = f\"{output_directory_path}/mallet.topic_keys.{str(num_topics)}\"\n",
    "path_to_topic_distributions     = f\"{output_directory_path}/mallet.topic_distributions.{str(num_topics)}\"\n"
   ]
  },
  {
   "cell_type": "markdown",
   "metadata": {},
   "source": [
    "## Import Data\n",
    "\n",
    "We’re going to import the data with little_mallet_wrapper.import_data()."
   ]
  },
  {
   "cell_type": "code",
   "execution_count": 143,
   "metadata": {},
   "outputs": [
    {
     "name": "stdout",
     "output_type": "stream",
     "text": [
      "Importing data...\n",
      "Complete\n"
     ]
    }
   ],
   "source": [
    "little_mallet_wrapper.import_data(path_to_mallet,\n",
    "                path_to_training_data,\n",
    "                path_to_formatted_training_data,\n",
    "                training_data)"
   ]
  },
  {
   "cell_type": "markdown",
   "metadata": {},
   "source": [
    "## Train Topic Model\n",
    "The topic model should take 1-2 minutes to complete"
   ]
  },
  {
   "cell_type": "code",
   "execution_count": 144,
   "metadata": {},
   "outputs": [
    {
     "name": "stdout",
     "output_type": "stream",
     "text": [
      "Training topic model...\n",
      "Complete\n"
     ]
    }
   ],
   "source": [
    "little_mallet_wrapper.train_topic_model(path_to_mallet,\n",
    "                      path_to_formatted_training_data,\n",
    "                      path_to_model,\n",
    "                      path_to_topic_keys,\n",
    "                      path_to_topic_distributions,\n",
    "                      num_topics)"
   ]
  },
  {
   "cell_type": "markdown",
   "metadata": {},
   "source": [
    "## Display Topics and Top Words"
   ]
  },
  {
   "cell_type": "code",
   "execution_count": 145,
   "metadata": {},
   "outputs": [
    {
     "name": "stdout",
     "output_type": "stream",
     "text": [
      "✨Topic 0✨\n",
      "\n",
      "['false', 'http', 'twitter', 'client', 'web', 'cont', 'china', 'barackobama', 'oil', 'gas', 'obama', 'beta', 'twitlonger', 'budget', 'energy', 'need', 'debt', 'opec', 'government', 'saudi']\n",
      "\n",
      "✨Topic 1✨\n",
      "\n",
      "['think', 'big', 'deal', 'entrepreneurs', 'like', 'keep', 'work', 'never', 'success', 'focus', 'always', 'know', 'way', 'give', 'business', 'art', 'make', 'best', 'one', 'learn']\n",
      "\n",
      "✨Topic 2✨\n",
      "\n",
      "['great', 'big', 'people', 'forward', 'carolina', 'crowd', 'looking', 'see', 'night', 'speech', 'soon', 'south', 'look', 'tomorrow', 'amazing', 'day', 'last', 'going', 'rally', 'north']\n",
      "\n",
      "✨Topic 3✨\n",
      "\n",
      "['great', 'vote', 'state', 'strong', 'endorsement', 'governor', 'military', 'job', 'total', 'vets', 'get', 'crime', 'senator', 'big', 'win', 'complete', 'john', 'loves', 'amendment', 'done']\n",
      "\n",
      "✨Topic 4✨\n",
      "\n",
      "['obama', 'iran', 'isis', 'attack', 'president', 'syria', 'israel', 'iraq', 'world', 'war', 'nuclear', 'administration', 'turkey', 'radical', 'russia', 'must', 'leader', 'deal', 'terrorist', 'time']\n",
      "\n",
      "✨Topic 5✨\n",
      "\n",
      "['great', 'america', 'make', 'https', 'work', 'keep', 'hard', 'thank', 'together', 'let', 'working', 'country', 'going', 'making', 'job', 'time', 'support', 'need', 'safe', 'help']\n",
      "\n",
      "✨Topic 6✨\n",
      "\n",
      "['last', 'night', 'apprentice', 'nbc', 'show', 'tonight', 'watch', 'live', 'miss', 'ted', 'celebrity', 'week', 'cruz', 'sunday', 'apprenticenbc', 'http', 'great', 'two', 'season', 'rubio']\n",
      "\n",
      "✨Topic 7✨\n",
      "\n",
      "['trump', 'http', 'via', 'donald', 'wind', 'media', 'breitbartnews', 'newsmax', 'macys', 'turbines', 'scotland', 'alexsalmond', 'ties', 'says', 'gop', 'speech', 'speak', 'collection', 'shirts', 'cpac']\n",
      "\n",
      "✨Topic 8✨\n",
      "\n",
      "['thanks', 'great', 'nice', 'thank', 'celebapprentice', 'really', 'job', 'words', 'wonderful', 'guy', 'well', 'love', 'good', 'amazing', 'ivankatrump', 'star', 'fantastic', 'apprenticenbc', 'true', 'omarosa']\n",
      "\n",
      "✨Topic 9✨\n",
      "\n",
      "['http', 'obama', 'barackobama', 'obamacare', 'mittromney', 'interview', 'discussing', 'today', 'debt', 'cont', 'yesterday', 'trumpvlog', 'gop', 'bit', 'college', 'records', 'offer', 'website', 'release', 'questions']\n",
      "\n",
      "✨Topic 10✨\n",
      "\n",
      "['record', 'jobs', 'tax', 'economy', 'market', 'high', 'year', 'since', 'unemployment', 'stock', 'taxes', 'cuts', 'years', 'obamacare', 'numbers', 'low', 'big', 'cut', 'time', 'fed']\n",
      "\n",
      "✨Topic 11✨\n",
      "\n",
      "['one', 'history', 'ever', 'country', 'world', 'president', 'best', 'time', 'years', 'american', 'greatest', 'people', 'far', 'economy', 'great', 'done', 'biggest', 'two', 'first', 'every']\n",
      "\n",
      "✨Topic 12✨\n",
      "\n",
      "['border', 'wall', 'security', 'country', 'must', 'immigration', 'democrats', 'want', 'illegal', 'mexico', 'people', 'stop', 'southern', 'national', 'crime', 'borders', 'strong', 'laws', 'need', 'open']\n",
      "\n",
      "✨Topic 13✨\n",
      "\n",
      "['party', 'republican', 'democrats', 'republicans', 'vote', 'senate', 'dems', 'house', 'court', 'want', 'democrat', 'win', 'nancy', 'pelosi', 'bill', 'left', 'supreme', 'justice', 'nothing', 'must']\n",
      "\n",
      "✨Topic 14✨\n",
      "\n",
      "['new', 'times', 'book', 'one', 'post', 'washington', 'story', 'york', 'real', 'read', 'old', 'office', 'failing', 'trump', 'going', 'street', 'nytimes', 'mark', 'hit', 'must']\n",
      "\n",
      "✨Topic 15✨\n",
      "\n",
      "['back', 'jobs', 'american', 'bring', 'care', 'get', 'home', 'force', 'country', 'many', 'companies', 'workers', 'people', 'coming', 'stay', 'air', 'business', 'take', 'america', 'new']\n",
      "\n",
      "✨Topic 16✨\n",
      "\n",
      "['https', 'realdonaldtrump', 'thank', 'president', 'trump', 'true', 'thanks', 'whitehouse', 'american', 'potus', 'statement', 'promises', 'message', 'donaldjtrumpjr', 'presidential', 'teamtrump', 'co/t', 'draintheswamp', 'gopchairwoman', 'co/q']\n",
      "\n",
      "✨Topic 17✨\n",
      "\n",
      "['great', 'happy', 'congratulations', 'job', 'year', 'birthday', 'new', 'secretary', 'proud', 'well', 'team', 'truly', 'game', 'man', 'national', 'country', 'done', 'wonderful', 'win', 'mike']\n",
      "\n",
      "✨Topic 18✨\n",
      "\n",
      "['http', 'trump', 'golf', 'course', 'national', 'hotel', 'world', 'club', 'tower', 'best', 'doral', 'top', 'international', 'beautiful', 'trumpdoral', 'scotland', 'miami', 'nyc', 'star', 'one']\n",
      "\n",
      "✨Topic 19✨\n",
      "\n",
      "['get', 'much', 'better', 'people', 'would', 'like', 'time', 'let', 'getting', 'done', 'work', 'back', 'know', 'good', 'things', 'never', 'hard', 'could', 'happen', 'bad']\n",
      "\n",
      "✨Topic 20✨\n",
      "\n",
      "['foxnews', 'enjoy', 'tonight', 'morning', 'foxandfriends', 'interviewed', 'show', 'fox', 'watch', 'interview', 'seanhannity', 'cnn', 'friends', 'great', 'news', 'minutes', 'tomorrow', 'oreillyfactor', 'talking', 'bill']\n",
      "\n",
      "✨Topic 21✨\n",
      "\n",
      "['president', 'said', 'call', 'would', 'trump', 'joe', 'biden', 'even', 'wrong', 'ukraine', 'know', 'nothing', 'people', 'think', 'right', 'didn', 'could', 'obama', 'read', 'also']\n",
      "\n",
      "✨Topic 22✨\n",
      "\n",
      "['https', 'today', 'great', 'house', 'white', 'president', 'meeting', 'whitehouse', 'honor', 'united', 'minister', 'prime', 'forward', 'states', 'welcome', 'conference', 'leaders', 'realdonaldtrump', 'look', 'looking']\n",
      "\n",
      "✨Topic 23✨\n",
      "\n",
      "['people', 'many', 'years', 'never', 'ago', 'one', 'would', 'know', 'obama', 'stop', 'losers', 'two', 'ebola', 'made', 'fast', 'went', 'others', 'terrible', 'long', 'like']\n",
      "\n",
      "✨Topic 24✨\n",
      "\n",
      "['good', 'thanks', 'luck', 'true', 'office', 'yes', 'hope', 'general', 'rod', 'yankees', 'hear', 'see', 'eric', 'warren', 'elizabeth', 'today', 'jeff', 'attorney', 'red', 'lightweight']\n",
      "\n",
      "✨Topic 25✨\n",
      "\n",
      "['fbi', 'clinton', 'campaign', 'hillary', 'trump', 'comey', 'crooked', 'james', 'russia', 'jim', 'justice', 'report', 'dossier', 'jordan', 'investigation', 'department', 'information', 'emails', 'tomfitton', 'obama']\n",
      "\n",
      "✨Topic 26✨\n",
      "\n",
      "['https', 'thank', 'trump', 'makeamericagreatagain', 'join', 'maga', 'get', 'tomorrow', 'ohio', 'florida', 'kag', 'vote', 'pennsylvania', 'tickets', 'iowa', 'support', 'see', 'americafirst', 'wisconsin', 'votetrump']\n",
      "\n",
      "✨Topic 27✨\n",
      "\n",
      "['democrats', 'impeachment', 'witch', 'hunt', 'collusion', 'schiff', 'mueller', 'nothing', 'hoax', 'dems', 'never', 'russia', 'report', 'adam', 'house', 'scam', 'obstruction', 'global', 'warming', 'case']\n",
      "\n",
      "✨Topic 28✨\n",
      "\n",
      "['new', 'poll', 'great', 'york', 'trump', 'https', 'hampshire', 'wow', 'thank', 'numbers', 'polls', 'lead', 'big', 'city', 'place', 'mayor', 'iowa', 'won', 'shows', 'love']\n",
      "\n",
      "✨Topic 29✨\n",
      "\n",
      "['money', 'time', 'dollars', 'much', 'millions', 'spent', 'million', 'paid', 'spending', 'nothing', 'pay', 'billion', 'big', 'many', 'little', 'cost', 'billions', 'giving', 'get', 'less']\n",
      "\n",
      "✨Topic 30✨\n",
      "\n",
      "['like', 'really', 'bad', 'total', 'show', 'ratings', 'sad', 'got', 'fired', 'terrible', 'wow', 'dumb', 'going', 'wonder', 'time', 'stupid', 'would', 'loser', 'boring', 'even']\n",
      "\n",
      "✨Topic 31✨\n",
      "\n",
      "['https', 'today', 'law', 'women', 'god', 'nation', 'people', 'day', 'men', 'thank', 'honor', 'families', 'first', 'enforcement', 'hurricane', 'american', 'bless', 'brave', 'prayers', 'safe']\n",
      "\n",
      "✨Topic 32✨\n",
      "\n",
      "['hillary', 'crooked', 'clinton', 'win', 'would', 'bad', 'bernie', 'bush', 'said', 'run', 'presidential', 'won', 'never', 'failed', 'debate', 'jeb', 'one', 'election', 'beat', 'campaign']\n",
      "\n",
      "✨Topic 33✨\n",
      "\n",
      "['china', 'trade', 'states', 'united', 'deal', 'korea', 'many', 'north', 'countries', 'tariffs', 'good', 'deals', 'made', 'great', 'years', 'big', 'much', 'farmers', 'usa', 'make']\n",
      "\n",
      "✨Topic 34✨\n",
      "\n",
      "['news', 'fake', 'media', 'people', 'cnn', 'dishonest', 'story', 'totally', 'made', 'bad', 'even', 'never', 'reporting', 'many', 'corrupt', 'said', 'would', 'big', 'much', 'stories']\n",
      "\n"
     ]
    }
   ],
   "source": [
    "topics = little_mallet_wrapper.load_topic_keys(path_to_topic_keys)\n",
    "\n",
    "for topic_number, topic in enumerate(topics):\n",
    "    print(f\"✨Topic {topic_number}✨\\n\\n{topic}\\n\")"
   ]
  },
  {
   "cell_type": "markdown",
   "metadata": {},
   "source": [
    "## Display Top Tweets Per Topic\n",
    "### Load Topic Distributions\n",
    "To load topic distributions, run the following four cells"
   ]
  },
  {
   "cell_type": "code",
   "execution_count": 146,
   "metadata": {},
   "outputs": [],
   "source": [
    "topic_distributions = little_mallet_wrapper.load_topic_distributions(path_to_topic_distributions)"
   ]
  },
  {
   "cell_type": "code",
   "execution_count": 147,
   "metadata": {},
   "outputs": [],
   "source": [
    "tweet_dict = dict(zip(training_data, original_trump_tweets))"
   ]
  },
  {
   "cell_type": "code",
   "execution_count": 148,
   "metadata": {},
   "outputs": [],
   "source": [
    "def display_top_tweets_per_topic(topic_number=0, number_of_documents=5):\n",
    "    \n",
    "    print(f\"✨Topic {topic_number}✨\\n\\n{topics[topic_number]}\\n\")\n",
    "\n",
    "    for probability, document in little_mallet_wrapper.get_top_docs(training_data, topic_distributions, topic_number, n=number_of_documents):\n",
    "        print(round(probability, 4), tweet_dict[document] + \"\\n\")\n",
    "    return"
   ]
  },
  {
   "cell_type": "markdown",
   "metadata": {},
   "source": [
    "#### Display top tweets in Topic 0"
   ]
  },
  {
   "cell_type": "code",
   "execution_count": 149,
   "metadata": {},
   "outputs": [
    {
     "name": "stdout",
     "output_type": "stream",
     "text": [
      "✨Topic 0✨\n",
      "\n",
      "['false', 'http', 'twitter', 'client', 'web', 'cont', 'china', 'barackobama', 'oil', 'gas', 'obama', 'beta', 'twitlonger', 'budget', 'energy', 'need', 'debt', 'opec', 'government', 'saudi']\n",
      "\n",
      "0.6762 No surprise welfare spending is up over 30% under Obama. http://t.co/pHREg2Cj  He is the food stamp &amp; welfare \"king\"\n",
      "\n",
      "0.6706 I've got news for President @BarackObama: America is not what's wrong with the world. I don't believe we need (cont) http://t.co/DMXg2rEo,02-17-2012 15:10:32,64,8,false,170525543622656000\n",
      "TwitLonger Beta,Government needs to stop pick-pocketing your wallet. Every time it does it slows growth and kills jobs. It's (cont) http://t.co/OhmFhNJb\n",
      "\n",
      "0.6555 While @BarackObama watches China is trying to have the yuan overtake our dollar as the international (cont) http://t.co/kN0XJq96\n",
      "\n",
      "0.6391 When it comes to China @BarackObama practices \"pretty please\" diplomacy. He begs and pleads and bows---and it… (cont) http://t.co/Iyjm0IGl\n",
      "\n",
      "0.6264 $5 a gallon gas and we have yet to approve the Keystone XL Pipeline.  OPEC is laughing at us.\n",
      "\n"
     ]
    }
   ],
   "source": [
    "display_top_tweets_per_topic(topic_number=0, number_of_documents=5)"
   ]
  },
  {
   "cell_type": "markdown",
   "metadata": {},
   "source": [
    "## Plot Topics Over Time\n"
   ]
  },
  {
   "cell_type": "markdown",
   "metadata": {},
   "source": [
    "### Load Topic Distributions"
   ]
  },
  {
   "cell_type": "code",
   "execution_count": 150,
   "metadata": {},
   "outputs": [],
   "source": [
    "topic_distributions = little_mallet_wrapper.load_topic_distributions(path_to_topic_distributions)"
   ]
  },
  {
   "cell_type": "markdown",
   "metadata": {},
   "source": [
    "### Add Topic Distribution Columns\n",
    "\n",
    "Add column with all topic distributions for every tweet"
   ]
  },
  {
   "cell_type": "code",
   "execution_count": 151,
   "metadata": {},
   "outputs": [],
   "source": [
    "trump_df['topic_distributions'] = pd.Series(topic_distributions)"
   ]
  },
  {
   "cell_type": "markdown",
   "metadata": {},
   "source": [
    "Make a separate dataframe with each topic distribution as a separate column"
   ]
  },
  {
   "cell_type": "code",
   "execution_count": 152,
   "metadata": {},
   "outputs": [],
   "source": [
    "topic_distributions_df = trump_df['topic_distributions'].apply(pd.Series)"
   ]
  },
  {
   "cell_type": "markdown",
   "metadata": {},
   "source": [
    "Rename each of those columns with the first four words from the topic"
   ]
  },
  {
   "cell_type": "code",
   "execution_count": 153,
   "metadata": {},
   "outputs": [],
   "source": [
    "topic_distributions_df.columns = [\" \".join(topic[:4]) for topic in topics]"
   ]
  },
  {
   "cell_type": "markdown",
   "metadata": {},
   "source": [
    "Merge that column into the dataframe"
   ]
  },
  {
   "cell_type": "code",
   "execution_count": 154,
   "metadata": {},
   "outputs": [],
   "source": [
    "trump_df = pd.concat([trump_df, topic_distributions_df], axis=1)"
   ]
  },
  {
   "cell_type": "markdown",
   "metadata": {},
   "source": [
    "### Date Formatting For Time Series Plot"
   ]
  },
  {
   "cell_type": "markdown",
   "metadata": {},
   "source": [
    "#### Convert to datetime"
   ]
  },
  {
   "cell_type": "code",
   "execution_count": 155,
   "metadata": {},
   "outputs": [],
   "source": [
    "trump_df['date'] = pd.to_datetime(trump_df['created_at'])"
   ]
  },
  {
   "cell_type": "markdown",
   "metadata": {},
   "source": [
    "#### Extract year"
   ]
  },
  {
   "cell_type": "code",
   "execution_count": 156,
   "metadata": {},
   "outputs": [],
   "source": [
    "trump_df['year'] = pd.to_datetime(trump_df['date'].dt.year, format='%Y')"
   ]
  },
  {
   "cell_type": "markdown",
   "metadata": {},
   "source": [
    "#### Extract year and month"
   ]
  },
  {
   "cell_type": "code",
   "execution_count": 157,
   "metadata": {},
   "outputs": [],
   "source": [
    "trump_df['year-month'] = trump_df['date'].dt.to_period('M')"
   ]
  },
  {
   "cell_type": "code",
   "execution_count": 158,
   "metadata": {},
   "outputs": [],
   "source": [
    "trump_df['Date (by month)'] = [month.to_timestamp() for month in trump_df['year-month']]"
   ]
  },
  {
   "cell_type": "markdown",
   "metadata": {},
   "source": [
    "#### Set year and month as Pandas Index"
   ]
  },
  {
   "cell_type": "code",
   "execution_count": 159,
   "metadata": {},
   "outputs": [],
   "source": [
    "trump_df = trump_df.set_index('Date (by month)')"
   ]
  },
  {
   "cell_type": "markdown",
   "metadata": {},
   "source": [
    "### Plot Individual Topics as Time Series"
   ]
  },
  {
   "cell_type": "markdown",
   "metadata": {},
   "source": [
    "**Topic 10 Label**:\n",
    "\n",
    "(Double-click this cell to enter your own label)"
   ]
  },
  {
   "cell_type": "markdown",
   "metadata": {},
   "source": [
    "### For every Trump tweet, plot the probability of Topic 10:"
   ]
  },
  {
   "cell_type": "code",
   "execution_count": 160,
   "metadata": {},
   "outputs": [
    {
     "data": {
      "text/plain": [
       "<matplotlib.axes._subplots.AxesSubplot at 0x7fc1e8967f40>"
      ]
     },
     "execution_count": 160,
     "metadata": {},
     "output_type": "execute_result"
    },
    {
     "data": {
      "image/png": "[encoded data removed]",
      "text/plain": [
       "<Figure size 432x288 with 1 Axes>"
      ]
     },
     "metadata": {},
     "output_type": "display_data"
    }
   ],
   "source": [
    "topic_number = 10\n",
    "\n",
    "topic_label = \" \".join(topics[topic_number][:4])\n",
    "\n",
    "trump_df[topic_label].plot(style='.', title='Trump Tweets By Topic')"
   ]
  },
  {
   "cell_type": "markdown",
   "metadata": {},
   "source": [
    "### Compare to the total number of Trump tweets per month in our set"
   ]
  },
  {
   "cell_type": "code",
   "execution_count": 161,
   "metadata": {},
   "outputs": [
    {
     "data": {
      "text/plain": [
       "Text(0.5, 0, 'Date (by Month)')"
      ]
     },
     "execution_count": 161,
     "metadata": {},
     "output_type": "execute_result"
    },
    {
     "data": {
      "image/png": "[encoded data removed]",
      "text/plain": [
       "<Figure size 432x288 with 1 Axes>"
      ]
     },
     "metadata": {},
     "output_type": "display_data"
    }
   ],
   "source": [
    "ax= trump_df['year-month'].value_counts().plot(style='.', title='Trump Tweets per Month')\n",
    "ax.set_xlabel(\"Date (by Month)\")"
   ]
  },
  {
   "cell_type": "markdown",
   "metadata": {},
   "source": [
    "## 💡 CHECK-IN\n",
    "> What might this mean for how we interpret the distribution of topic 10 in our corpus?   \n",
    "> How might this graph of the total Trump tweets change how we interpret the distribution of topic 10 in our corpus?"
   ]
  },
  {
   "cell_type": "markdown",
   "metadata": {},
   "source": [
    "### For every month of Trump tweets, plot the average probability of Topic 10"
   ]
  },
  {
   "cell_type": "code",
   "execution_count": 162,
   "metadata": {},
   "outputs": [
    {
     "data": {
      "text/plain": [
       "<matplotlib.axes._subplots.AxesSubplot at 0x7fc1ea4a23d0>"
      ]
     },
     "execution_count": 162,
     "metadata": {},
     "output_type": "execute_result"
    },
    {
     "data": {
      "image/png": "[encoded data removed]",
      "text/plain": [
       "<Figure size 432x288 with 1 Axes>"
      ]
     },
     "metadata": {},
     "output_type": "display_data"
    }
   ],
   "source": [
    "topic_number = 10\n",
    "\n",
    "topic_label = \" \".join(topics[topic_number][:4])\n",
    "\n",
    "trump_df.groupby(trump_df.index)[[topic_label]].mean().plot(title='Trump Tweets By Topic', linewidth=2)"
   ]
  },
  {
   "cell_type": "markdown",
   "metadata": {},
   "source": [
    "## Your Turn!\n",
    "\n",
    "Choose 3 different topics from the Trump Twitter Archive and compare them:"
   ]
  },
  {
   "cell_type": "code",
   "execution_count": null,
   "metadata": {},
   "outputs": [],
   "source": [
    "#### Topic #: (Double-Click to change this Cell and "
   ]
  },
  {
   "cell_type": "code",
   "execution_count": null,
   "metadata": {},
   "outputs": [],
   "source": [
    "## Change the number here to view a different topic\n",
    "topic_number = 0\n",
    "\n",
    "topic_label = \" \".join(topics[topic_number][:4])\n",
    "\n",
    "trump_df.groupby(trump_df.index)[[topic_label]].mean().plot(title='Trump Tweets By Topic', linewidth=2)"
   ]
  },
  {
   "cell_type": "code",
   "execution_count": null,
   "metadata": {},
   "outputs": [],
   "source": [
    "#### Topic #: (Double-Click to change this Cell and "
   ]
  },
  {
   "cell_type": "code",
   "execution_count": null,
   "metadata": {},
   "outputs": [],
   "source": [
    "## Change the number here to view a different topic\n",
    "topic_number = 1\n",
    "\n",
    "topic_label = \" \".join(topics[topic_number][:4])\n",
    "\n",
    "trump_df.groupby(trump_df.index)[[topic_label]].mean().plot(title='Trump Tweets By Topic', linewidth=2)"
   ]
  },
  {
   "cell_type": "code",
   "execution_count": null,
   "metadata": {},
   "outputs": [],
   "source": [
    "#### Topic #: (Double-Click to change this Cell and "
   ]
  },
  {
   "cell_type": "code",
   "execution_count": null,
   "metadata": {},
   "outputs": [],
   "source": [
    "## Change the number here to view a different topic\n",
    "topic_number = 2\n",
    "\n",
    "topic_label = \" \".join(topics[topic_number][:4])\n",
    "\n",
    "trump_df.groupby(trump_df.index)[[topic_label]].mean().plot(title='Trump Tweets By Topic', linewidth=2)"
   ]
  },
  {
   "cell_type": "markdown",
   "metadata": {},
   "source": [
    "## Reflection\n",
    "\n",
    "1. What sorts of things should a digital humanist be aware of when creating a time-series visualization of topics?\n",
    "2. What kinds of things can we do to contextualize a time-series data, so that we can better understand the patterns that we're visualizing\n",
    "\n",
    "Write your reflections below:"
   ]
  },
  {
   "cell_type": "code",
   "execution_count": null,
   "metadata": {},
   "outputs": [],
   "source": []
  }
 ],
 "metadata": {
  "kernelspec": {
   "display_name": "Python 3",
   "language": "python",
   "name": "python3"
  },
  "language_info": {
   "codemirror_mode": {
    "name": "ipython",
    "version": 3
   },
   "file_extension": ".py",
   "mimetype": "text/x-python",
   "name": "python",
   "nbconvert_exporter": "python",
   "pygments_lexer": "ipython3",
   "version": "3.8.3"
  }
 },
 "nbformat": 4,
 "nbformat_minor": 4
}
