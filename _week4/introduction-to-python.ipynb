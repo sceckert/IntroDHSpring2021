{
 "cells": [
  {
   "cell_type": "markdown",
   "metadata": {},
   "source": [
    "### Introduction to Python Basics\n",
    "\n",
    "Adapted from Melanie Walsh's \"Python\" module in [*Introduction to Cultural Analytics and Python* (2020)](https://melaniewalsh.github.io/Intro-Cultural-Analytics/Python/Python.html)\n",
    "\n",
    "This introductory tutorial is broken up into 6 short parts, which are linked below:\n",
    "\n",
    "- [Python and Jupyter Notebook Tips](#Python-and-juypyter-notebook-tips)\n",
    "- [1. Anatomy of a Python Script](#1.-Anatomy-of-a-Python-Script)\n",
    "- [2. Variables](#2.-Variables)\n",
    "- [3. Data Types](#3.-Data-Types)\n",
    "- [4. String Methods](#4.-String-Methods)\n",
    "- [5. Conditionals and Comparisons](#5.-Conditionals-and-Comparisons)\n",
    "- [6. Lists and Loops](#6.-List-and-Loops)\n"
   ]
  },
  {
   "cell_type": "markdown",
   "metadata": {},
   "source": [
    "## Python and Jupyter Notebook Tips:\n",
    "\n",
    "This notebook is a Jupyter Notebook. You can interact with it in a few ways: \n",
    "\n",
    "1. You can click on the Binder version (this is hosted on a cloud server)\n",
    "2. You can run on your own machine through Jupyter Labs: \n",
    "\t- Download this notebook and this folder of data.\n",
    "\t- I encourage you to learn to create Jupyter notebooks on your own machine––this will give you a little more control over writing and saving your own Python code\n",
    "\n",
    "###  Pro Tips:\n",
    "- Running a cell in JupyterLab: Click on the cell, then click ► (the \"Run\" icon) in the menu at the top of this notbook \n",
    "- `Tab` completion. \n",
    "    - Like the command line, Python uses tab completion\n",
    "    - Pressing the `tab` key on your on your keyboard will allow you to search for any variables that you've already defined, as well as matching functions or modules within python.\n",
    "- Run cells in order!\n",
    "    - Python executes code in the order that it's written. This means that some parts of code will depend on parts written earlier. If you get an error, it may mean that you simply haven't defined a variable or function. Make sure to run code in the sequence it's written.\n"
   ]
  },
  {
   "cell_type": "markdown",
   "metadata": {},
   "source": [
    "------\n"
   ]
  },
  {
   "cell_type": "markdown",
   "metadata": {},
   "source": [
    "## 1. Anatomy of a Python Script\n",
    "\n",
    "Below is a chunk of Python code. These lines, when put together, do something simple yet important. They count and display the most frequent words in a text file. (If basic forms of text analysis like countint word frequency sounds familiar, this is because what we'll be learning to do with Python builds on tbe kinds of commands you learned to do with the command line.)\n",
    "\n",
    "The example below specifically counts and displays the 40 most frequent words in Franklin Delanor Roosevelt's 1933 inaugural address:"
   ]
  },
  {
   "cell_type": "code",
   "execution_count": null,
   "metadata": {},
   "outputs": [],
   "source": [
    "# word-frequencies.py\n",
    "\n",
    "# Import Libraries and Modules\n",
    "\n",
    "import re\n",
    "from collections import Counter\n",
    "\n",
    "# Define Functions\n",
    "\n",
    "def split_into_words(any_chunk_of_text):\n",
    "    lowercase_text = any_chunk_of_text.lower()\n",
    "    split_words = re.split(\"\\W+\", lowercase_text)\n",
    "    return split_words\n",
    "\n",
    "# Define Filepaths and Assign Variables\n",
    "\n",
    "filepath_of_text = \"US_Inaugural_Addresses/37_roosevelt_franklin_1933.txt\"\n",
    "number_of_desired_words = 40\n",
    "\n",
    "stopwords = ['i', 'me', 'my', 'myself', 'we', 'our', 'ours', 'ourselves', 'you', 'your', 'yours',\n",
    "'yourself', 'yourselves', 'he', 'him', 'his', 'himself', 'she', 'her', 'hers',\n",
    " 'herself', 'it', 'its', 'itself', 'they', 'them', 'their', 'theirs', 'themselves',\n",
    " 'what', 'which', 'who', 'whom', 'this', 'that', 'these', 'those', 'am', 'is', 'are',\n",
    " 'was', 'were', 'be', 'been', 'being', 'have', 'has', 'had', 'having', 'do', 'does',\n",
    " 'did', 'doing', 'a', 'an', 'the', 'and', 'but', 'if', 'or', 'because', 'as', 'until',\n",
    " 'while', 'of', 'at', 'by', 'for', 'with', 'about', 'against', 'between', 'into',\n",
    " 'through', 'during', 'before', 'after', 'above', 'below', 'to', 'from', 'up', 'down',\n",
    " 'in', 'out', 'on', 'off', 'over', 'under', 'again', 'further', 'then', 'once', 'here',\n",
    " 'there', 'when', 'where', 'why', 'how', 'all', 'any', 'both', 'each', 'few', 'more',\n",
    " 'most', 'other', 'some', 'such', 'no', 'nor', 'not', 'only', 'own', 'same', 'so',\n",
    " 'than', 'too', 'very', 's', 't', 'can', 'will', 'just', 'don', 'should', 'now', 've', 'll', 'amp']\n",
    "\n",
    "# Read in File\n",
    "\n",
    "full_text = open(filepath_of_text, encoding=\"utf-8\").read()\n",
    "\n",
    "# Manipulate and Analyze File\n",
    "\n",
    "all_the_words = split_into_words(full_text)\n",
    "meaningful_words = [word for word in all_the_words if word not in stopwords]\n",
    "meaningful_words_tally = Counter(meaningful_words)\n",
    "most_frequent_meaningful_words = meaningful_words_tally.most_common(number_of_desired_words)\n",
    "\n",
    "# Output Results\n",
    "\n",
    "most_frequent_meaningful_words"
   ]
  },
  {
   "cell_type": "markdown",
   "metadata": {},
   "source": [
    "This might look intimidating, but we can reverse engineer about the differen parts of Python script. \n",
    "\n",
    "Most Python scripts have the same basic anatomy:"
   ]
  },
  {
   "cell_type": "markdown",
   "metadata": {},
   "source": [
    "### Import Libraries and Modules\n",
    "\n",
    "Let's start with those first lines in our script:\n"
   ]
  },
  {
   "cell_type": "code",
   "execution_count": 1,
   "metadata": {},
   "outputs": [],
   "source": [
    "import re\n",
    "from collections import Counter"
   ]
  },
  {
   "cell_type": "markdown",
   "metadata": {},
   "source": [
    "We call the code written and packaged up by other people a \"library,\" \"package,\" or \"module.\" We'll talk more about them in a later lesson. For now simply know that you import libraries/packages/modules at the very top of a Python script for later use.\n",
    "\n",
    "- `Counter` will help us count words\n",
    "- `re`, short for regular expressions, is basically a fancy find-and-replace that will help us split Roosevelt's 1933 address into individual words and get rid of trailing punctuation\n",
    "\n"
   ]
  },
  {
   "cell_type": "markdown",
   "metadata": {},
   "source": [
    "### Define Functions"
   ]
  },
  {
   "cell_type": "markdown",
   "metadata": {},
   "source": [
    "After importing any libraries with pre-defined functions that we might be useing, we define our own functions. Below, the example is a function designed to split words and turn all words lower case"
   ]
  },
  {
   "cell_type": "code",
   "execution_count": 2,
   "metadata": {},
   "outputs": [],
   "source": [
    "def split_into_words(any_chunk_of_text):\n",
    "    words = re.split(\"\\W+\", any_chunk_of_text.lower())\n",
    "    return words "
   ]
  },
  {
   "cell_type": "markdown",
   "metadata": {},
   "source": [
    "\n",
    "\n",
    "Here we're making a function called `split_into_words`, which takes in any chunk of text, transforms that text to lower-case, and splits the text into a list of clean words without punctuation or spaces. We're not actually using the function yet.\n"
   ]
  },
  {
   "cell_type": "markdown",
   "metadata": {},
   "source": [
    "### Define Filepaths and Assign Variables"
   ]
  },
  {
   "cell_type": "markdown",
   "metadata": {},
   "source": [
    "Next, we define filepaths and assign variables that we'll use later in our script:"
   ]
  },
  {
   "cell_type": "code",
   "execution_count": 3,
   "metadata": {},
   "outputs": [],
   "source": [
    "filepath_of_text = \"US_Inaugural_Addresses/37_roosevelt_franklin_1933.txt\"\n",
    "number_of_desired_words = 40\n",
    "stopwords = ['i', 'me', 'my', 'myself', 'we', 'our', 'ours', 'ourselves', 'you', 'your', 'yours',\n",
    " 'yourself', 'yourselves', 'he', 'him', 'his', 'himself', 'she', 'her', 'hers',\n",
    " 'herself', 'it', 'its', 'itself', 'they', 'them', 'their', 'theirs', 'themselves',\n",
    " 'what', 'which', 'who', 'whom', 'this', 'that', 'these', 'those', 'am', 'is', 'are',\n",
    " 'was', 'were', 'be', 'been', 'being', 'have', 'has', 'had', 'having', 'do', 'does',\n",
    " 'did', 'doing', 'a', 'an', 'the', 'and', 'but', 'if', 'or', 'because', 'as', 'until',\n",
    " 'while', 'of', 'at', 'by', 'for', 'with', 'about', 'against', 'between', 'into',\n",
    " 'through', 'during', 'before', 'after', 'above', 'below', 'to', 'from', 'up', 'down',\n",
    " 'in', 'out', 'on', 'off', 'over', 'under', 'again', 'further', 'then', 'once', 'here',\n",
    " 'there', 'when', 'where', 'why', 'how', 'all', 'any', 'both', 'each', 'few', 'more',\n",
    " 'most', 'other', 'some', 'such', 'no', 'nor', 'not', 'only', 'own', 'same', 'so',\n",
    " 'than', 'too', 'very', 's', 't', 'can', 'will', 'just', 'don', 'should', 'now', 've', 'll', 'amp']"
   ]
  },
  {
   "cell_type": "markdown",
   "metadata": {},
   "source": [
    "What did we just do?\n",
    "\n",
    "We created a variable called `filepath_of_text` and assigned it to the filepath the text that we'll be analyzing ––Roosevel's 1933 address––so that we can read it in.\n",
    "\n",
    "We set the `number_of_desired_words` to 40 so we can look at the top words.\n",
    "\n",
    "And we made a variable called `stopwords` and plug in a list of common English language \"stop words\"—that is, a list of some of the most frequently occurring English language words. Stop words are typically removed from a text before computational analysis in order to shift the focus to less frequently occurring, more \"meaningful\" words.\n",
    "\n",
    "> Questions for reflection:  \n",
    "> 1. What are the consequences of excluding stopwords from our analysis?  \n",
    "> 2. Look back at our list of stopwords. When might we want to include such words in analyzing a document like a presidential speech?"
   ]
  },
  {
   "cell_type": "markdown",
   "metadata": {},
   "source": [
    "### Ok, now what can we do with these functions and variables?"
   ]
  },
  {
   "cell_type": "markdown",
   "metadata": {},
   "source": [
    "### Read in a File"
   ]
  },
  {
   "cell_type": "markdown",
   "metadata": {},
   "source": [
    "Here's a quick script that reads in our file (which we set to Roosevelt's 1933 address) and assigns it to the variable `full_text`:"
   ]
  },
  {
   "cell_type": "code",
   "execution_count": 4,
   "metadata": {},
   "outputs": [],
   "source": [
    "full_text = open(filepath_of_text, encoding=\"utf-8\").read()"
   ]
  },
  {
   "cell_type": "markdown",
   "metadata": {},
   "source": [
    "### Manipulate and Analyze a File\n",
    "To count the words in our speech, we'll need to break the text into words. This is where our `split_into_words` function comes in handy. Below we call the function `split_into_words`, which we created earlier, and use it to split the `full_text` of the story into individual words. Then we assign this value to the variable `all_the_words`."
   ]
  },
  {
   "cell_type": "code",
   "execution_count": 5,
   "metadata": {},
   "outputs": [],
   "source": [
    "all_the_words = split_into_words(full_text)"
   ]
  },
  {
   "cell_type": "markdown",
   "metadata": {},
   "source": [
    "We can then remove stopwords. Below we use a `for` loop (more on this in a later lesson!) to cylce through our `all_the_words` and remove stopwords from our list and assign that to a new variable:"
   ]
  },
  {
   "cell_type": "code",
   "execution_count": 6,
   "metadata": {},
   "outputs": [],
   "source": [
    "meaningful_words = [word for word in all_the_words if word not in stopwords] # remove the stopwords from full_text"
   ]
  },
  {
   "cell_type": "markdown",
   "metadata": {},
   "source": [
    "Now we can count!\n",
    "\n",
    "Here we plug our new list of words, `meaningful_words`, into our Counter, which gives us a tally of how many times each word in the speech it appears."
   ]
  },
  {
   "cell_type": "code",
   "execution_count": 7,
   "metadata": {},
   "outputs": [],
   "source": [
    "meaningful_words_tally = Counter(meaningful_words) # Here we're using a function from the Counter library we imported earlier"
   ]
  },
  {
   "cell_type": "markdown",
   "metadata": {},
   "source": [
    "\n",
    "### Output Results\n",
    "\n",
    "Lastly, we pull out the top 40 most frequently occurring words from our complete tally. We make one final variable and grab our top number_of_desired_words, which we previously established as 40.\n"
   ]
  },
  {
   "cell_type": "code",
   "execution_count": 8,
   "metadata": {},
   "outputs": [],
   "source": [
    "most_frequent_meaningful_words = meaningful_words_tally.most_common(number_of_desired_words)"
   ]
  },
  {
   "cell_type": "markdown",
   "metadata": {},
   "source": [
    "Now we display the most frequent meanigful words:"
   ]
  },
  {
   "cell_type": "code",
   "execution_count": 9,
   "metadata": {},
   "outputs": [
    {
     "data": {
      "text/plain": [
       "[('national', 9),\n",
       " ('people', 8),\n",
       " ('may', 8),\n",
       " ('must', 8),\n",
       " ('leadership', 7),\n",
       " ('helped', 7),\n",
       " ('shall', 7),\n",
       " ('nation', 6),\n",
       " ('us', 6),\n",
       " ('action', 6),\n",
       " ('world', 6),\n",
       " ('time', 5),\n",
       " ('money', 5),\n",
       " ('great', 4),\n",
       " ('first', 4),\n",
       " ('efforts', 4),\n",
       " ('every', 4),\n",
       " ('days', 4),\n",
       " ('face', 4),\n",
       " ('values', 4),\n",
       " ('public', 4),\n",
       " ('hand', 4),\n",
       " ('task', 4),\n",
       " ('emergency', 4),\n",
       " ('old', 4),\n",
       " ('upon', 4),\n",
       " ('congress', 4),\n",
       " ('measures', 4),\n",
       " ('respects', 4),\n",
       " ('discipline', 4),\n",
       " ('duty', 4),\n",
       " ('need', 3),\n",
       " ('dark', 3),\n",
       " ('essential', 3),\n",
       " ('spirit', 3),\n",
       " ('common', 3),\n",
       " ('government', 3),\n",
       " ('trade', 3),\n",
       " ('important', 3),\n",
       " ('return', 3)]"
      ]
     },
     "execution_count": 9,
     "metadata": {},
     "output_type": "execute_result"
    }
   ],
   "source": [
    "most_frequent_meaningful_words "
   ]
  },
  {
   "cell_type": "markdown",
   "metadata": {},
   "source": [
    "Or we could use the `print` function to print our most frequent words:"
   ]
  },
  {
   "cell_type": "code",
   "execution_count": 10,
   "metadata": {},
   "outputs": [
    {
     "name": "stdout",
     "output_type": "stream",
     "text": [
      "[('national', 9), ('people', 8), ('may', 8), ('must', 8), ('leadership', 7), ('helped', 7), ('shall', 7), ('nation', 6), ('us', 6), ('action', 6), ('world', 6), ('time', 5), ('money', 5), ('great', 4), ('first', 4), ('efforts', 4), ('every', 4), ('days', 4), ('face', 4), ('values', 4), ('public', 4), ('hand', 4), ('task', 4), ('emergency', 4), ('old', 4), ('upon', 4), ('congress', 4), ('measures', 4), ('respects', 4), ('discipline', 4), ('duty', 4), ('need', 3), ('dark', 3), ('essential', 3), ('spirit', 3), ('common', 3), ('government', 3), ('trade', 3), ('important', 3), ('return', 3)]\n"
     ]
    }
   ],
   "source": [
    "print(most_frequent_meaningful_words)"
   ]
  },
  {
   "cell_type": "markdown",
   "metadata": {},
   "source": [
    "We can also output our results to a text file:"
   ]
  },
  {
   "cell_type": "code",
   "execution_count": 11,
   "metadata": {},
   "outputs": [],
   "source": [
    "with open(\"most-frequent-words-37_roosevelt_franklin_1933.txt\", \"w\") as file_object: # This code defines a new file to open and write to, then describes what to write to it\n",
    "    file_object.write(str(most_frequent_meaningful_words))"
   ]
  },
  {
   "cell_type": "markdown",
   "metadata": {},
   "source": [
    "### Add comments\n",
    "\n",
    "Lines that begin with a hash symbol `#` are ignored from the execution of the code. You can thus use a hash symbol # to insert human language comments directly into the code — notes or instructions to yourself and others.\n",
    "\n",
    "It's good practice to add lines of comments on their own, or at the end of a line of code explaining what a step does. See the comment in the cell above explaining the code to write a new file object.\n",
    "\n",
    "In some cases, you might want to write a long comment. To insert a multi-line comment, you can insert the comment between three quotations marks `\"\"\" \"\"\"`. Or you can \n",
    " "
   ]
  },
  {
   "cell_type": "code",
   "execution_count": 12,
   "metadata": {},
   "outputs": [],
   "source": [
    "# This line is a comment\n",
    "\n",
    "# This line is also a comment \n",
    "\n",
    "# Hashtags can be useful to describe what a line of code is doing\n",
    "# Don't assume that what you're doing will be legible to others ––or to your future self! "
   ]
  },
  {
   "cell_type": "markdown",
   "metadata": {},
   "source": [
    "-----"
   ]
  },
  {
   "cell_type": "markdown",
   "metadata": {},
   "source": [
    "## 2. Variables\n",
    "\n",
    "These are crucial building blocks of any Python code.\n",
    "\n",
    "Variables are where you store filenames, words, numbers, lists of words and numbers.\n",
    "\n",
    "Variables are \"assigned\" values with the = sign.\n",
    "\n",
    "*NOTE*: In Python, `=` is what allows us to assign variables, while `==` (a double equals sign) is the real equals sign."
   ]
  },
  {
   "cell_type": "code",
   "execution_count": 13,
   "metadata": {},
   "outputs": [
    {
     "name": "stdout",
     "output_type": "stream",
     "text": [
      "42\n"
     ]
    }
   ],
   "source": [
    "new_variable = 42\n",
    "print(new_variable)"
   ]
  },
  {
   "cell_type": "code",
   "execution_count": 14,
   "metadata": {},
   "outputs": [
    {
     "name": "stdout",
     "output_type": "stream",
     "text": [
      "I'm another variable!\n"
     ]
    }
   ],
   "source": [
    "another_variable = \"I'm another variable!\"\n",
    "print(another_variable)"
   ]
  },
  {
   "cell_type": "markdown",
   "metadata": {},
   "source": [
    "Let's look at the word frequencies script we wrote again:"
   ]
  },
  {
   "cell_type": "code",
   "execution_count": 15,
   "metadata": {},
   "outputs": [
    {
     "data": {
      "text/plain": [
       "[('national', 9),\n",
       " ('people', 8),\n",
       " ('may', 8),\n",
       " ('must', 8),\n",
       " ('leadership', 7),\n",
       " ('helped', 7),\n",
       " ('shall', 7),\n",
       " ('nation', 6),\n",
       " ('us', 6),\n",
       " ('action', 6),\n",
       " ('world', 6),\n",
       " ('time', 5),\n",
       " ('money', 5),\n",
       " ('great', 4),\n",
       " ('first', 4),\n",
       " ('efforts', 4),\n",
       " ('every', 4),\n",
       " ('days', 4),\n",
       " ('face', 4),\n",
       " ('values', 4),\n",
       " ('public', 4),\n",
       " ('hand', 4),\n",
       " ('task', 4),\n",
       " ('emergency', 4),\n",
       " ('old', 4),\n",
       " ('upon', 4),\n",
       " ('congress', 4),\n",
       " ('measures', 4),\n",
       " ('respects', 4),\n",
       " ('discipline', 4),\n",
       " ('duty', 4),\n",
       " ('need', 3),\n",
       " ('dark', 3),\n",
       " ('essential', 3),\n",
       " ('spirit', 3),\n",
       " ('common', 3),\n",
       " ('government', 3),\n",
       " ('trade', 3),\n",
       " ('important', 3),\n",
       " ('return', 3)]"
      ]
     },
     "execution_count": 15,
     "metadata": {},
     "output_type": "execute_result"
    }
   ],
   "source": [
    "# word-frequencies.py\n",
    "\n",
    "# Import Libraries and Modules\n",
    "\n",
    "import re\n",
    "from collections import Counter\n",
    "\n",
    "# Define Functions\n",
    "\n",
    "def split_into_words(any_chunk_of_text):\n",
    "    lowercase_text = any_chunk_of_text.lower()\n",
    "    split_words = re.split(\"\\W+\", lowercase_text)\n",
    "    return split_words\n",
    "\n",
    "# Define Filepaths and Assign Variables\n",
    "\n",
    "filepath_of_text = \"US_Inaugural_Addresses/37_roosevelt_franklin_1933.txt\"\n",
    "number_of_desired_words = 40\n",
    "\n",
    "stopwords = ['i', 'me', 'my', 'myself', 'we', 'our', 'ours', 'ourselves', 'you', 'your', 'yours',\n",
    "'yourself', 'yourselves', 'he', 'him', 'his', 'himself', 'she', 'her', 'hers',\n",
    " 'herself', 'it', 'its', 'itself', 'they', 'them', 'their', 'theirs', 'themselves',\n",
    " 'what', 'which', 'who', 'whom', 'this', 'that', 'these', 'those', 'am', 'is', 'are',\n",
    " 'was', 'were', 'be', 'been', 'being', 'have', 'has', 'had', 'having', 'do', 'does',\n",
    " 'did', 'doing', 'a', 'an', 'the', 'and', 'but', 'if', 'or', 'because', 'as', 'until',\n",
    " 'while', 'of', 'at', 'by', 'for', 'with', 'about', 'against', 'between', 'into',\n",
    " 'through', 'during', 'before', 'after', 'above', 'below', 'to', 'from', 'up', 'down',\n",
    " 'in', 'out', 'on', 'off', 'over', 'under', 'again', 'further', 'then', 'once', 'here',\n",
    " 'there', 'when', 'where', 'why', 'how', 'all', 'any', 'both', 'each', 'few', 'more',\n",
    " 'most', 'other', 'some', 'such', 'no', 'nor', 'not', 'only', 'own', 'same', 'so',\n",
    " 'than', 'too', 'very', 's', 't', 'can', 'will', 'just', 'don', 'should', 'now', 've', 'll', 'amp']\n",
    "\n",
    "# Read in File\n",
    "\n",
    "full_text = open(filepath_of_text, encoding=\"utf-8\").read()\n",
    "\n",
    "# Manipulate and Analyze File\n",
    "\n",
    "all_the_words = split_into_words(full_text)\n",
    "meaningful_words = [word for word in all_the_words if word not in stopwords]\n",
    "meaningful_words_tally = Counter(meaningful_words)\n",
    "most_frequent_meaningful_words = meaningful_words_tally.most_common(number_of_desired_words)\n",
    "\n",
    "# Output Results\n",
    "\n",
    "most_frequent_meaningful_words"
   ]
  },
  {
   "cell_type": "markdown",
   "metadata": {},
   "source": [
    "In the above, our variables are:\n",
    "\n",
    "- `filepath_of_text`\n",
    "- `stopwords`\n",
    "- `number_of_desired_words`\n",
    "- `full_text`\n",
    "\n",
    "\n",
    "Variable names can be as long or as short as you want, and they can include:\n",
    "\n",
    "- upper and lower-case letters (A-Z)\n",
    "\n",
    "- digits (0-9)\n",
    "\n",
    "- underscores (_)\n",
    "\n",
    "However, variable names cannot include:\n",
    "\n",
    "- other punctuation (-.!?@)\n",
    "\n",
    "- spaces ( )\n",
    "\n",
    "- a reserved Python word (like `print` or `True`)\n"
   ]
  },
  {
   "cell_type": "markdown",
   "metadata": {},
   "source": [
    "### Jupyter Display\n",
    "\n",
    "We can use the Jupyter display function by simply running a cell with a variable's name. This is a special function in Jupyter that allows us to display the contents of a variable."
   ]
  },
  {
   "cell_type": "code",
   "execution_count": 16,
   "metadata": {},
   "outputs": [
    {
     "data": {
      "text/plain": [
       "'US_Inaugural_Addresses/37_roosevelt_franklin_1933.txt'"
      ]
     },
     "execution_count": 16,
     "metadata": {},
     "output_type": "execute_result"
    }
   ],
   "source": [
    "filepath_of_text"
   ]
  },
  {
   "cell_type": "markdown",
   "metadata": {},
   "source": [
    "### Your turn! \n"
   ]
  },
  {
   "cell_type": "markdown",
   "metadata": {},
   "source": [
    "We can also modify our script! This next exercise will show you how we can use the modularity of Python code to change what text we're analyzing and the variable settings,  \n",
    "\n",
    "## Exercise 1a:\n",
    "\n",
    "PIckk now it's your turn to change some variables and calculate a new word frequency! First, pick a new text file from one of our US_Inaugural_Addresses. \n",
    "\n",
    "Then, assign `filepath_of_text` to the corresponding filepath. (Remeber that you must include the path to the folder enclosing it!\n",
    "\n",
    "Try to change the `number_of_desired_words` as well:"
   ]
  },
  {
   "cell_type": "code",
   "execution_count": null,
   "metadata": {},
   "outputs": [],
   "source": [
    "import re\n",
    "from collections import Counter\n",
    "\n",
    "def split_into_words(any_chunk_of_text):\n",
    "    lowercase_text = any_chunk_of_text.lower()\n",
    "    split_words = re.split(\"\\W+\", lowercase_text)\n",
    "    return split_words\n",
    "\n",
    "filepath_of_text = #Insert a New Text File Here (remeber to include the enclosing folder, US_Inaugural_Addresses)\n",
    "number_of_desired_words = #Change number of desired words\n",
    "\n",
    "#Explore how the stopwords below affect word frequency by adding or removing stopwords\n",
    "stopwords = ['i', 'me', 'my', 'myself', 'we', 'our', 'ours', 'ourselves', 'you', 'your', 'yours',\n",
    " 'yourself', 'yourselves', 'he', 'him', 'his', 'himself', 'she', 'her', 'hers',\n",
    " 'herself', 'it', 'its', 'itself', 'they', 'them', 'their', 'theirs', 'themselves',\n",
    " 'what', 'which', 'who', 'whom', 'this', 'that', 'these', 'those', 'am', 'is', 'are',\n",
    " 'was', 'were', 'be', 'been', 'being', 'have', 'has', 'had', 'having', 'do', 'does',\n",
    " 'did', 'doing', 'a', 'an', 'the', 'and', 'but', 'if', 'or', 'because', 'as', 'until',\n",
    " 'while', 'of', 'at', 'by', 'for', 'with', 'about', 'against', 'between', 'into',\n",
    " 'through', 'during', 'before', 'after', 'above', 'below', 'to', 'from', 'up', 'down',\n",
    " 'in', 'out', 'on', 'off', 'over', 'under', 'again', 'further', 'then', 'once', 'here',\n",
    " 'there', 'when', 'where', 'why', 'how', 'all', 'any', 'both', 'each', 'few', 'more',\n",
    " 'most', 'other', 'some', 'such', 'no', 'nor', 'not', 'only', 'own', 'same', 'so',\n",
    " 'than', 'too', 'very', 's', 't', 'can', 'will', 'just', 'don', 'should', 'now', 've', 'll', 'amp']\n",
    "\n",
    "full_text = open(filepath_of_text, encoding=\"utf-8\").read()\n",
    "\n",
    "all_the_words = split_into_words(full_text)\n",
    "meaningful_words = [word for word in all_the_words if word not in stopwords]\n",
    "meaningful_words_tally = Counter(meaningful_words)\n",
    "most_frequent_meaningful_words = meaningful_words_tally.most_common(number_of_desired_words)\n",
    "\n",
    "most_frequent_meaningful_words"
   ]
  },
  {
   "cell_type": "markdown",
   "metadata": {},
   "source": [
    "## Exercise 1b:\n",
    "\n",
    "Let's try and spend a little more time thinking about those stopwords we've been removing from our text. \n",
    "\n",
    "Using our code above, and one of the other inaugural addresses you've been looking at, try to remove ALL of the stopwords. How does this change our list of `most_frequent_meaningful_words`? What might we have missed in aassuming that the stopwords were not \"meaningful\" words?\n",
    "\n",
    "Write your reflection below:"
   ]
  },
  {
   "cell_type": "markdown",
   "metadata": {},
   "source": [
    "**=> Double Click HERE to type in a text box**"
   ]
  },
  {
   "cell_type": "markdown",
   "metadata": {},
   "source": [
    "----"
   ]
  },
  {
   "cell_type": "markdown",
   "metadata": {},
   "source": [
    "## 3. Data Types\n",
    "\n",
    "\n",
    "There are four basic types of data in Python, each of which can be used to do different things: \n",
    "\n",
    "- Strings (Text), eg: \"37_roosevelt_franklin_1933.txt\"\n",
    "- Integers (Whole Numbers), eg `40`\n",
    "- Floats (Decimal Numbers), eg `40.3`\n",
    "- Booleans (True/False), eg `False`\n"
   ]
  },
  {
   "cell_type": "markdown",
   "metadata": {},
   "source": [
    "You can check a data type using `type`. Try checking the data type by running the cells below."
   ]
  },
  {
   "cell_type": "code",
   "execution_count": 17,
   "metadata": {},
   "outputs": [
    {
     "data": {
      "text/plain": [
       "str"
      ]
     },
     "execution_count": 17,
     "metadata": {},
     "output_type": "execute_result"
    }
   ],
   "source": [
    "type(\"yellow\")"
   ]
  },
  {
   "cell_type": "code",
   "execution_count": 18,
   "metadata": {},
   "outputs": [
    {
     "data": {
      "text/plain": [
       "str"
      ]
     },
     "execution_count": 18,
     "metadata": {},
     "output_type": "execute_result"
    }
   ],
   "source": [
    "type(filepath_of_text)"
   ]
  },
  {
   "cell_type": "code",
   "execution_count": 19,
   "metadata": {},
   "outputs": [
    {
     "data": {
      "text/plain": [
       "int"
      ]
     },
     "execution_count": 19,
     "metadata": {},
     "output_type": "execute_result"
    }
   ],
   "source": [
    "type(40)"
   ]
  },
  {
   "cell_type": "code",
   "execution_count": 20,
   "metadata": {},
   "outputs": [
    {
     "data": {
      "text/plain": [
       "int"
      ]
     },
     "execution_count": 20,
     "metadata": {},
     "output_type": "execute_result"
    }
   ],
   "source": [
    "type(number_of_desired_words)"
   ]
  },
  {
   "cell_type": "code",
   "execution_count": 21,
   "metadata": {},
   "outputs": [
    {
     "data": {
      "text/plain": [
       "float"
      ]
     },
     "execution_count": 21,
     "metadata": {},
     "output_type": "execute_result"
    }
   ],
   "source": [
    "type(40.3)"
   ]
  },
  {
   "cell_type": "code",
   "execution_count": 22,
   "metadata": {},
   "outputs": [
    {
     "data": {
      "text/plain": [
       "bool"
      ]
     },
     "execution_count": 22,
     "metadata": {},
     "output_type": "execute_result"
    }
   ],
   "source": [
    "type(False)"
   ]
  },
  {
   "cell_type": "markdown",
   "metadata": {},
   "source": [
    "### Strings\n",
    "\n",
    "\n",
    "A *string* is a Python data type that is treated like text, even if it contains a number. Strings are always enclosed by either single quotation marks 'this is a string' or double quotation marks \"this is a string\". \n",
    "\n",
    "There are special things that you can do with strings. You can *index\n"
   ]
  },
  {
   "cell_type": "code",
   "execution_count": 23,
   "metadata": {},
   "outputs": [
    {
     "data": {
      "text/plain": [
       "'this is also a string, even though it contains a number like 42'"
      ]
     },
     "execution_count": 23,
     "metadata": {},
     "output_type": "execute_result"
    }
   ],
   "source": [
    "\"this is also a string, even though it contains a number like 42\""
   ]
  },
  {
   "cell_type": "markdown",
   "metadata": {},
   "source": [
    "#### String Methods"
   ]
  },
  {
   "cell_type": "code",
   "execution_count": 24,
   "metadata": {},
   "outputs": [],
   "source": [
    "lemonade_snippet = \"Hold up, they don't love you like I love you\""
   ]
  },
  {
   "cell_type": "markdown",
   "metadata": {},
   "source": [
    "##### Index"
   ]
  },
  {
   "cell_type": "code",
   "execution_count": 25,
   "metadata": {},
   "outputs": [
    {
     "data": {
      "text/plain": [
       "'H'"
      ]
     },
     "execution_count": 25,
     "metadata": {},
     "output_type": "execute_result"
    }
   ],
   "source": [
    "lemonade_snippet[0] # gives us a character, given an index position "
   ]
  },
  {
   "cell_type": "markdown",
   "metadata": {},
   "source": [
    "The above gives us the character starting at the first index position, 0.\n",
    "\n",
    "NOTE: in Python, indexes start at 0 rather than 1"
   ]
  },
  {
   "cell_type": "markdown",
   "metadata": {},
   "source": [
    "##### Slice\n",
    "We can use slice to get the first 20 characters:"
   ]
  },
  {
   "cell_type": "code",
   "execution_count": 26,
   "metadata": {},
   "outputs": [
    {
     "data": {
      "text/plain": [
       "\"Hold up, they don't \""
      ]
     },
     "execution_count": 26,
     "metadata": {},
     "output_type": "execute_result"
    }
   ],
   "source": [
    "lemonade_snippet[0:20]"
   ]
  },
  {
   "cell_type": "markdown",
   "metadata": {},
   "source": [
    "##### Add\n",
    "We can add another string to our string, `lemonade_snippet`"
   ]
  },
  {
   "cell_type": "code",
   "execution_count": 27,
   "metadata": {},
   "outputs": [
    {
     "data": {
      "text/plain": [
       "\"Hold up, they don't love you like I love you // Slow down, they don't love you like I love you\""
      ]
     },
     "execution_count": 27,
     "metadata": {},
     "output_type": "execute_result"
    }
   ],
   "source": [
    "lemonade_snippet + \" // Slow down, they don't love you like I love you\""
   ]
  },
  {
   "cell_type": "markdown",
   "metadata": {},
   "source": [
    "##### Make uppercase"
   ]
  },
  {
   "cell_type": "code",
   "execution_count": 28,
   "metadata": {},
   "outputs": [
    {
     "data": {
      "text/plain": [
       "\"HOLD UP, THEY DON'T LOVE YOU LIKE I LOVE YOU\""
      ]
     },
     "execution_count": 28,
     "metadata": {},
     "output_type": "execute_result"
    }
   ],
   "source": [
    "lemonade_snippet.upper()"
   ]
  },
  {
   "cell_type": "markdown",
   "metadata": {},
   "source": [
    "#### f-Strings\n",
    " An f-string, short for formatted string literal, allows you to insert a variable directly into a string.\n",
    " \n",
    " An f-string must begin with an f outside the quotation marks. Then, inside the quotation marks, the inserted variable must be placed within curly brackets {}."
   ]
  },
  {
   "cell_type": "code",
   "execution_count": 29,
   "metadata": {},
   "outputs": [
    {
     "name": "stdout",
     "output_type": "stream",
     "text": [
      "Beyonce burst out of the building and sang: \n",
      "\n",
      "'Hold up, they don't love you like I love you'\n"
     ]
    }
   ],
   "source": [
    "print(f\"Beyonce burst out of the building and sang: \\n\\n'{lemonade_snippet}'\")"
   ]
  },
  {
   "cell_type": "markdown",
   "metadata": {},
   "source": [
    "What does `\\n` mean in the statement above?\n",
    "`\\n` is a symbol for \"new line\"."
   ]
  },
  {
   "cell_type": "markdown",
   "metadata": {},
   "source": [
    "### Integers & Floats\n",
    "\n",
    "\n",
    "An integer and a float (short for floating point number) are two Python data types for representing numbers. Integers represent whole numbers. Floats represent numbers with decimal points. They do not need to be placed in quotation marks.\n"
   ]
  },
  {
   "cell_type": "code",
   "execution_count": 30,
   "metadata": {},
   "outputs": [
    {
     "data": {
      "text/plain": [
       "int"
      ]
     },
     "execution_count": 30,
     "metadata": {},
     "output_type": "execute_result"
    }
   ],
   "source": [
    "type(40)"
   ]
  },
  {
   "cell_type": "code",
   "execution_count": 31,
   "metadata": {},
   "outputs": [
    {
     "data": {
      "text/plain": [
       "float"
      ]
     },
     "execution_count": 31,
     "metadata": {},
     "output_type": "execute_result"
    }
   ],
   "source": [
    "type(40.5)"
   ]
  },
  {
   "cell_type": "markdown",
   "metadata": {},
   "source": [
    "We can do mathematical calculations with both integers and floats."
   ]
  },
  {
   "cell_type": "markdown",
   "metadata": {},
   "source": [
    "Multiplication:"
   ]
  },
  {
   "cell_type": "code",
   "execution_count": 32,
   "metadata": {},
   "outputs": [
    {
     "data": {
      "text/plain": [
       "8"
      ]
     },
     "execution_count": 32,
     "metadata": {},
     "output_type": "execute_result"
    }
   ],
   "source": [
    "variable1 = 4\n",
    "variable2 = 2\n",
    "variable1 * variable2"
   ]
  },
  {
   "cell_type": "markdown",
   "metadata": {},
   "source": [
    "Exponents:"
   ]
  },
  {
   "cell_type": "code",
   "execution_count": 33,
   "metadata": {},
   "outputs": [
    {
     "data": {
      "text/plain": [
       "16"
      ]
     },
     "execution_count": 33,
     "metadata": {},
     "output_type": "execute_result"
    }
   ],
   "source": [
    "variable1 ** variable2"
   ]
  },
  {
   "cell_type": "markdown",
   "metadata": {},
   "source": [
    "Remainder:"
   ]
  },
  {
   "cell_type": "code",
   "execution_count": 34,
   "metadata": {},
   "outputs": [
    {
     "data": {
      "text/plain": [
       "2"
      ]
     },
     "execution_count": 34,
     "metadata": {},
     "output_type": "execute_result"
    }
   ],
   "source": [
    "72 % 10"
   ]
  },
  {
   "cell_type": "markdown",
   "metadata": {},
   "source": [
    "### Booleans\n",
    "Booleans are a data type for logical \"true/false\" statemetns. They report on whether or not   things are Tue or False, based on variables you've assigned.\n",
    "\n",
    "For example, we can assign a variable called `beyonce` the value \"Grammy award-winner\""
   ]
  },
  {
   "cell_type": "code",
   "execution_count": 35,
   "metadata": {},
   "outputs": [],
   "source": [
    "beyonce = \"Grammy award-winner\""
   ]
  },
  {
   "cell_type": "markdown",
   "metadata": {},
   "source": [
    "Now we can test whether the variable `beyonce` equals \"Grammy award-winner\""
   ]
  },
  {
   "cell_type": "code",
   "execution_count": 36,
   "metadata": {},
   "outputs": [
    {
     "data": {
      "text/plain": [
       "True"
      ]
     },
     "execution_count": 36,
     "metadata": {},
     "output_type": "execute_result"
    }
   ],
   "source": [
    "beyonce == \"Grammy award-winner\" # Notice: here we're using the == sign, the \"real\" equals sign in PYthon"
   ]
  },
  {
   "cell_type": "markdown",
   "metadata": {},
   "source": [
    "If we then evaluate whether Beoynce is an award winner (using the == double equals sign to evaluate our bBoelan)"
   ]
  },
  {
   "cell_type": "code",
   "execution_count": 37,
   "metadata": {},
   "outputs": [
    {
     "data": {
      "text/plain": [
       "False"
      ]
     },
     "execution_count": 37,
     "metadata": {},
     "output_type": "execute_result"
    }
   ],
   "source": [
    "beyonce == \"Oscar award-winner\""
   ]
  },
  {
   "cell_type": "markdown",
   "metadata": {},
   "source": [
    "### Your turn!\n",
    "\n",
    "## Exercise 2: \n",
    "Let's try practicing playing with data types!\n",
    "\n",
    "Run the following cells:"
   ]
  },
  {
   "cell_type": "code",
   "execution_count": 38,
   "metadata": {},
   "outputs": [],
   "source": [
    "name = 'Prof. Eckert' #string\n",
    "age = 1000 #integer\n",
    "place = 'New York' #string \n",
    "favorite_food = 'cheese' #string\n",
    "dog_years_age = age * 7.5 #float\n",
    "student = False #boolean"
   ]
  },
  {
   "cell_type": "code",
   "execution_count": 39,
   "metadata": {},
   "outputs": [
    {
     "name": "stdout",
     "output_type": "stream",
     "text": [
      "✨This is...Prof. Eckert!✨\n",
      "Prof. Eckert likes cheese and once lived in New York.\n",
      "Prof. Eckert is 1000 years old, which is 7500.0 in dog years.\n",
      "The statement 'Prof. Eckert is a student' is False.\n"
     ]
    }
   ],
   "source": [
    "print(f'✨This is...{name}!✨')\n",
    "\n",
    "print(f\"\"\"{name} likes {favorite_food} and once lived in {place}.\n",
    "{name} is {age} years old, which is {dog_years_age} in dog years.\n",
    "The statement '{name} is a student' is {student}.\"\"\")"
   ]
  },
  {
   "cell_type": "code",
   "execution_count": 40,
   "metadata": {},
   "outputs": [
    {
     "name": "stdout",
     "output_type": "stream",
     "text": [
      "\n",
      "name = <class 'str'>\n",
      "age = <class 'int'>\n",
      "place = <class 'str'>\n",
      "favorite_food = <class 'str'>\n",
      "dog_years_age = <class 'float'>\n",
      "student = <class 'bool'>\n",
      "\n"
     ]
    }
   ],
   "source": [
    "print(f\"\"\"\n",
    "name = {type(name)}\n",
    "age = {type(age)}\n",
    "place = {type(place)}\n",
    "favorite_food = {type(favorite_food)}\n",
    "dog_years_age = {type(dog_years_age)}\n",
    "student = {type(student)}\n",
    "\"\"\")"
   ]
  },
  {
   "cell_type": "code",
   "execution_count": null,
   "metadata": {},
   "outputs": [],
   "source": [
    "name = #Your code here\n",
    "age =  #Your code here\n",
    "home_town =  #Your code here\n",
    "favorite_food =  #Your code here\n",
    "dog_years_age = age * 7.5 #Your code here * 7.5\n",
    "student = False #boolean\n",
    "favorite_movie = "
   ]
  },
  {
   "cell_type": "code",
   "execution_count": null,
   "metadata": {},
   "outputs": [],
   "source": [
    "print(f'✨This is...{name}!✨')\n",
    "\n",
    "print(f\"\"\"{name} likes {favorite_food} and once lived on {home_town}.\n",
    "{name} is {age} years old, which is {dog_years_age} in dog years.\n",
    "The statement \"{name} is a student\" is {student}.\n",
    "She loves {favorite_movie}.\"\"\")"
   ]
  },
  {
   "cell_type": "markdown",
   "metadata": {},
   "source": [
    "----"
   ]
  },
  {
   "cell_type": "markdown",
   "metadata": {},
   "source": [
    "## 4. String Methods"
   ]
  },
  {
   "cell_type": "markdown",
   "metadata": {},
   "source": [
    "### Practicing more with strings\n",
    "\n",
    "We're going to practice using Franz Kafka's 1915 novela *The Metamorphosis."
   ]
  },
  {
   "cell_type": "markdown",
   "metadata": {},
   "source": [
    "#### Read a text file\n",
    "File objects are not readable. In order to make it readable, we need to first `open` it and  use the `.read()` method to make it readable"
   ]
  },
  {
   "cell_type": "code",
   "execution_count": 41,
   "metadata": {},
   "outputs": [],
   "source": [
    "sample_text = open(\"Kafka-The-Metamorphosis.txt\", encoding=\"utf-8\").read() # we need to both open and read tehe file\n",
    "# Note that the read() operation is important!\n",
    "# Notice the \"utf-8\" encoding"
   ]
  },
  {
   "cell_type": "code",
   "execution_count": 42,
   "metadata": {},
   "outputs": [
    {
     "name": "stdout",
     "output_type": "stream",
     "text": [
      "One morning, when Gregor Samsa woke from troubled dreams, he found\n",
      "himself transformed in his bed into a horrible vermin.  He lay on\n",
      "his armour-like back, and if he lifted his head a little he could\n",
      "see his brown belly, slightly domed and divided by arches into stiff\n",
      "sections.  The bedding was hardly able to cover it and seemed ready\n",
      "to slide off any moment.  His many legs, pitifully thin compared\n",
      "with the size of the rest of him, waved about helplessly as he\n",
      "looked.\n",
      "\n",
      "\"What's happened to me?\" he thought.  It wasn't a dream.  His room,\n",
      "a proper human room although a little too small, lay peacefully\n",
      "between its four familiar walls.  A collection of textile samples\n",
      "lay spread out on the table - Samsa was a travelling salesman - and\n",
      "above it there hung a picture that he had recently cut out of an\n",
      "illustrated magazine and housed in a nice, gilded frame.  It showed\n",
      "a lady fitted out with a fur hat and fur boa who sat upright,\n",
      "raising a heavy fur muff that covered the whole of her lower arm\n",
      "towards the viewer.\n",
      "\n",
      "Gregor then turned to look out the window at the dull weather.\n",
      "Drops of rain could be heard hitting the pane, which made him feel\n",
      "quite sad.  \"How about if I sleep a little bit longer and forget all\n",
      "this nonsense\", he thought, but that was something he was unable to\n",
      "do because he was used to sleeping on his right, and in his present\n",
      "state couldn't get into that position.  However hard he threw\n",
      "himself onto his right, he always rolled back to where he was.  He\n",
      "must have tried it a hundred times, shut his eyes so that he\n",
      "wouldn't have to look at the floundering legs, and only stopped when\n",
      "he began to feel a mild, dull pain there that he had never felt\n",
      "before.\n",
      "\n",
      "\"Oh, God\", he thought, \"what a strenuous career it is that I've\n",
      "chosen! Travelling day in and day out.  Doing business like this\n",
      "takes much more effort than doing your own business at home, and on\n",
      "top of that there's the curse of travelling, worries about making\n",
      "train connections, bad and irregular food, contact with different\n",
      "people all the time so that you can never get to know anyone or\n",
      "become friendly with them.  It can all go to Hell!\"  He felt a\n",
      "slight itch up on his belly; pushed himself slowly up on his back\n",
      "towards the headboard so that he could lift his head better; found\n",
      "where the itch was, and saw that it was covered with lots of little\n",
      "white spots which he didn't know what to make of; and when he tried\n",
      "to feel the place with one of his legs he drew it quickly back\n",
      "because as soon as he touched it he was overcome by a cold shudder.\n",
      "\n",
      "He slid back into his former position.  \"Getting up early all the\n",
      "time\", he thought, \"it makes you stupid.  You've got to get enough\n",
      "sleep.  Other travelling salesmen live a life of luxury.  For\n",
      "instance, whenever I go back to the guest house during the morning\n",
      "to copy out the contract, these gentlemen are always still sitting\n",
      "there eating their breakfasts.  I ought to just try that with my\n",
      "boss; I'd get kicked out on the spot.  But who knows, maybe that\n",
      "would be the best thing for me.  If I didn't have my parents to\n",
      "think about I'd have given in my notice a long time ago, I'd have\n",
      "gone up to the boss and told him just what I think, tell him\n",
      "everything I would, let him know just what I feel.  He'd fall right\n",
      "off his desk! And it's a funny sort of business to be sitting up\n",
      "there at your desk, talking down at your subordinates from up there,\n",
      "especially when you have to go right up close because the boss is\n",
      "hard of hearing.  Well, there's still some hope; once I've got the\n",
      "money together to pay off my parents' debt to him - another five or\n",
      "six years I suppose - that's definitely what I'll do.  That's when\n",
      "I'll make the big change.  First of all though, I've got to get up,\n",
      "my train leaves at five.\"\n",
      "\n",
      "And he looked over at the alarm clock, ticking on the chest of\n",
      "drawers.  \"God in Heaven!\" he thought.  It was half past six and the\n",
      "hands were quietly moving forwards, it was even later than half\n",
      "past, more like quarter to seven.  Had the alarm clock not rung? He\n",
      "could see from the bed that it had been set for four o'clock as it\n",
      "should have been; it certainly must have rung.  Yes, but was it\n",
      "possible to quietly sleep through that furniture-rattling noise?\n",
      "True, he had not slept peacefully, but probably all the more deeply\n",
      "because of that.  What should he do now? The next train went at\n",
      "seven; if he were to catch that he would have to rush like mad and\n",
      "the collection of samples was still not packed, and he did not at\n",
      "all feel particularly fresh and lively.  And even if he did catch\n",
      "the train he would not avoid his boss's anger as the office\n",
      "assistant would have been there to see the five o'clock train go, he\n",
      "would have put in his report about Gregor's not being there a long\n",
      "time ago.  The office assistant was the boss's man, spineless, and\n",
      "with no understanding.  What about if he reported sick? But that\n",
      "would be extremely strained and suspicious as in fifteen years of\n",
      "service Gregor had never once yet been ill.  His boss would\n",
      "certainly come round with the doctor from the medical insurance\n",
      "company, accuse his parents of having a lazy son, and accept the\n",
      "doctor's recommendation not to make any claim as the doctor believed\n",
      "that no-one was ever ill but that many were workshy.  And what's\n",
      "more, would he have been entirely wrong in this case? Gregor did in\n",
      "fact, apart from excessive sleepiness after sleeping for so long,\n",
      "feel completely well and even felt much hungrier than usual.\n",
      "\n",
      "He was still hurriedly thinking all this through, unable to decide\n",
      "to get out of the bed, when the clock struck quarter to seven.\n",
      "There was a cautious knock at the door near his head.  \"Gregor\",\n",
      "somebody called - it was his mother - \"it's quarter to seven.\n",
      "Didn't you want to go somewhere?\"  That gentle voice! Gregor was\n",
      "shocked when he heard his own voice answering, it could hardly be\n",
      "recognised as the voice he had had before.  As if from deep inside\n",
      "him, there was a painful and uncontrollable squeaking mixed in with\n",
      "it, the words could be made out at first but then there was a sort\n",
      "of echo which made them unclear, leaving the hearer unsure whether\n",
      "he had heard properly or not.  Gregor had wanted to give a full\n",
      "answer and explain everything, but in the circumstances contented\n",
      "himself with saying: \"Yes, mother, yes, thank-you, I'm getting up\n",
      "now.\"  The change in Gregor's voice probably could not be noticed\n",
      "outside through the wooden door, as his mother was satisfied with\n",
      "this explanation and shuffled away.  But this short conversation\n",
      "made the other members of the family aware that Gregor, against\n",
      "their expectations was still at home, and soon his father came\n",
      "knocking at one of the side doors, gently, but with his fist.\n",
      "\"Gregor, Gregor\", he called, \"what's wrong?\"  And after a short\n",
      "while he called again with a warning deepness in his voice: \"Gregor!\n",
      "Gregor!\"  At the other side door his sister came plaintively:\n",
      "\"Gregor? Aren't you well? Do you need anything?\"  Gregor answered to\n",
      "both sides: \"I'm ready, now\", making an effort to remove all the\n",
      "strangeness from his voice by enunciating very carefully and putting\n",
      "long pauses between each, individual word.  His father went back to\n",
      "his breakfast, but his sister whispered: \"Gregor, open the door, I\n",
      "beg of you.\"  Gregor, however, had no thought of opening the door,\n",
      "and instead congratulated himself for his cautious habit, acquired\n",
      "from his travelling, of locking all doors at night even when he was\n",
      "at home.\n",
      "\n",
      "The first thing he wanted to do was to get up in peace without being\n",
      "disturbed, to get dressed, and most of all to have his breakfast.\n",
      "Only then would he consider what to do next, as he was well aware\n",
      "that he would not bring his thoughts to any sensible conclusions by\n",
      "lying in bed.  He remembered that he had often felt a slight pain in\n",
      "bed, perhaps caused by lying awkwardly, but that had always turned\n",
      "out to be pure imagination and he wondered how his imaginings would\n",
      "slowly resolve themselves today.  He did not have the slightest\n",
      "doubt that the change in his voice was nothing more than the first\n",
      "sign of a serious cold, which was an occupational hazard for\n",
      "travelling salesmen.\n",
      "\n",
      "It was a simple matter to throw off the covers; he only had to blow\n",
      "himself up a little and they fell off by themselves.  But it became\n",
      "difficult after that, especially as he was so exceptionally broad.\n",
      "He would have used his arms and his hands to push himself up; but\n",
      "instead of them he only had all those little legs continuously\n",
      "moving in different directions, and which he was moreover unable to\n",
      "control.  If he wanted to bend one of them, then that was the first\n",
      "one that would stretch itself out; and if he finally managed to do\n",
      "what he wanted with that leg, all the others seemed to be set free\n",
      "and would move about painfully.  \"This is something that can't be\n",
      "done in bed\", Gregor said to himself, \"so don't keep trying to do\n",
      "it\".\n",
      "\n",
      "The first thing he wanted to do was get the lower part of his body\n",
      "out of the bed, but he had never seen this lower part, and could not\n",
      "imagine what it looked like; it turned out to be too hard to move;\n",
      "it went so slowly; and finally, almost in a frenzy, when he\n",
      "carelessly shoved himself forwards with all the force he could\n",
      "gather, he chose the wrong direction, hit hard against the lower\n",
      "bedpost, and learned from the burning pain he felt that the lower\n",
      "part of his body might well, at present, be the most sensitive.\n",
      "\n",
      "So then he tried to get the top part of his body out of the bed\n",
      "first, carefully turning his head to the side.  This he managed\n",
      "quite easily, and despite its breadth and its weight, the bulk of\n",
      "his body eventually followed slowly in the direction of the head.\n",
      "But when he had at last got his head out of the bed and into the\n",
      "fresh air it occurred to him that if he let himself fall it would be\n",
      "a miracle if his head were not injured, so he became afraid to carry\n",
      "on pushing himself forward the same way.  And he could not knock\n",
      "himself out now at any price; better to stay in bed than lose\n",
      "consciousness.\n",
      "\n",
      "It took just as much effort to get back to where he had been\n",
      "earlier, but when he lay there sighing, and was once more watching\n",
      "his legs as they struggled against each other even harder than\n",
      "before, if that was possible, he could think of no way of bringing\n",
      "peace and order to this chaos.  He told himself once more that it\n",
      "was not possible for him to stay in bed and that the most sensible\n",
      "thing to do would be to get free of it in whatever way he could at\n",
      "whatever sacrifice.  At the same time, though, he did not forget to\n",
      "remind himself that calm consideration was much better than rushing\n",
      "to desperate conclusions.  At times like this he would direct his\n",
      "eyes to the window and look out as clearly as he could, but\n",
      "unfortunately, even the other side of the narrow street was\n",
      "enveloped in morning fog and the view had little confidence or cheer\n",
      "to offer him.  \"Seven o'clock, already\", he said to himself when the\n",
      "clock struck again, \"seven o'clock, and there's still a fog like\n",
      "this.\"  And he lay there quietly a while longer, breathing lightly\n",
      "as if he perhaps expected the total stillness to bring things back\n",
      "to their real and natural state.\n",
      "\n",
      "But then he said to himself: \"Before it strikes quarter past seven\n",
      "I'll definitely have to have got properly out of bed.  And by then\n",
      "somebody will have come round from work to ask what's happened to me\n",
      "as well, as they open up at work before seven o'clock.\"  And so he\n",
      "set himself to the task of swinging the entire length of his body\n",
      "out of the bed all at the same time.  If he succeeded in falling out\n",
      "of bed in this way and kept his head raised as he did so he could\n",
      "probably avoid injuring it.  His back seemed to be quite hard, and\n",
      "probably nothing would happen to it falling onto the carpet.  His\n",
      "main concern was for the loud noise he was bound to make, and which\n",
      "even through all the doors would probably raise concern if not\n",
      "alarm.  But it was something that had to be risked.\n",
      "\n",
      "When Gregor was already sticking half way out of the bed - the new\n",
      "method was more of a game than an effort, all he had to do was rock\n",
      "back and forth - it occurred to him how simple everything would be\n",
      "if somebody came to help him.  Two strong people - he had his father\n",
      "and the maid in mind - would have been more than enough; they would\n",
      "only have to push their arms under the dome of his back, peel him\n",
      "away from the bed, bend down with the load and then be patient and\n",
      "careful as he swang over onto the floor, where, hopefully, the\n",
      "little legs would find a use.  Should he really call for help\n",
      "though, even apart from the fact that all the doors were locked?\n",
      "Despite all the difficulty he was in, he could not suppress a smile\n",
      "at this thought.\n",
      "\n",
      "After a while he had already moved so far across that it would have\n",
      "been hard for him to keep his balance if he rocked too hard.  The\n",
      "time was now ten past seven and he would have to make a final\n",
      "decision very soon.  Then there was a ring at the door of the flat.\n",
      "\"That'll be someone from work\", he said to himself, and froze very\n",
      "still, although his little legs only became all the more lively as\n",
      "they danced around.  For a moment everything remained quiet.\n",
      "\"They're not opening the door\", Gregor said to himself, caught in\n",
      "some nonsensical hope.  But then of course, the maid's firm steps\n",
      "went to the door as ever and opened it.  Gregor only needed to hear\n",
      "the visitor's first words of greeting and he knew who it was - the\n",
      "chief clerk himself.  Why did Gregor have to be the only one\n",
      "condemned to work for a company where they immediately became highly\n",
      "suspicious at the slightest shortcoming? Were all employees, every\n",
      "one of them, louts, was there not one of them who was faithful and\n",
      "devoted who would go so mad with pangs of conscience that he\n",
      "couldn't get out of bed if he didn't spend at least a couple of\n",
      "hours in the morning on company business? Was it really not enough\n",
      "to let one of the trainees make enquiries - assuming enquiries were\n",
      "even necessary - did the chief clerk have to come himself, and did\n",
      "they have to show the whole, innocent family that this was so\n",
      "suspicious that only the chief clerk could be trusted to have the\n",
      "wisdom to investigate it? And more because these thoughts had made\n",
      "him upset than through any proper decision, he swang himself with\n",
      "all his force out of the bed.  There was a loud thump, but it wasn't\n",
      "really a loud noise.  His fall was softened a little by the carpet,\n",
      "and Gregor's back was also more elastic than he had thought, which\n",
      "made the sound muffled and not too noticeable.  He had not held his\n",
      "head carefully enough, though, and hit it as he fell; annoyed and in\n",
      "pain, he turned it and rubbed it against the carpet.\n",
      "\n",
      "\"Something's fallen down in there\", said the chief clerk in the room\n",
      "on the left.  Gregor tried to imagine whether something of the sort\n",
      "that had happened to him today could ever happen to the chief clerk\n",
      "too; you had to concede that it was possible.  But as if in gruff\n",
      "reply to this question, the chief clerk's firm footsteps in his\n",
      "highly polished boots could now be heard in the adjoining room.\n",
      "From the room on his right, Gregor's sister whispered to him to let\n",
      "him know: \"Gregor, the chief clerk is here.\"  \"Yes, I know\", said\n",
      "Gregor to himself; but without daring to raise his voice loud enough\n",
      "for his sister to hear him.\n",
      "\n",
      "\"Gregor\", said his father now from the room to his left, \"the chief\n",
      "clerk has come round and wants to know why you didn't leave on the\n",
      "early train.  We don't know what to say to him.  And anyway, he\n",
      "wants to speak to you personally.  So please open up this door.  I'm\n",
      "sure he'll be good enough to forgive the untidiness of your room.\"\n",
      "Then the chief clerk called \"Good morning,  Mr. Samsa\". \"He isn't\n",
      "well\", said his mother to the chief clerk, while his father\n",
      "continued to speak through the door.  \"He isn't well, please believe\n",
      "me.  Why else would Gregor have missed a train! The lad only ever\n",
      "thinks about the business.  It nearly makes me cross the way he\n",
      "never goes out in the evenings; he's been in town for a week now but\n",
      "stayed home every evening.  He sits with us in the kitchen and just\n",
      "reads the paper or studies train timetables.  His idea of relaxation\n",
      "is working with his fretsaw.  He's made a little frame, for\n",
      "instance, it only took him two or three evenings, you'll be amazed\n",
      "how nice it is; it's hanging up in his room; you'll see it as soon\n",
      "as Gregor opens the door.  Anyway, I'm glad you're here; we wouldn't\n",
      "have been able to get Gregor to open the door by ourselves; he's so\n",
      "stubborn; and I'm sure he isn't well, he said this morning that he\n",
      "is, but he isn't.\"  \"I'll be there in a moment\", said Gregor slowly\n",
      "and thoughtfully, but without moving so that he would not miss any\n",
      "word of the conversation.  \"Well I can't think of any other way of\n",
      "explaining it,  Mrs. Samsa\", said the chief clerk, \"I hope it's\n",
      "nothing serious.  But on the other hand, I must say that if we\n",
      "people in commerce ever become slightly unwell then, fortunately or\n",
      "unfortunately as you like, we simply have to overcome it because of\n",
      "business considerations.\"  \"Can the chief clerk come in to see you\n",
      "now then?\", asked his father impatiently, knocking at the door\n",
      "again.  \"No\", said Gregor.  In the room on his right there followed\n",
      "a painful silence; in the room on his left his sister began to cry.\n",
      "\n",
      "So why did his sister not go and join the others? She had probably\n",
      "only just got up and had not even begun to get dressed.  And why was\n",
      "she crying? Was it because he had not got up, and had not let the\n",
      "chief clerk in, because he was in danger of losing his job and if\n",
      "that happened his boss would once more pursue their parents with the\n",
      "same demands as before? There was no need to worry about things like\n",
      "that yet.  Gregor was still there and had not the slightest\n",
      "intention of abandoning his family.  For the time being he just lay\n",
      "there on the carpet, and no-one who knew the condition he was in\n",
      "would seriously have expected him to let the chief clerk in.  It was\n",
      "only a minor discourtesy, and a suitable excuse could easily be\n",
      "found for it later on, it was not something for which Gregor could\n",
      "be sacked on the spot.  And it seemed to Gregor much more sensible\n",
      "to leave him now in peace instead of disturbing him with talking at\n",
      "him and crying.  But the others didn't know what was happening, they\n",
      "were worried, that would excuse their behaviour.\n",
      "\n",
      "The chief clerk now raised his voice, \"Mr. Samsa\", he called to him,\n",
      "\"what is wrong? You barricade yourself in your room, give us no more\n",
      "than yes or no for an answer, you are causing serious and\n",
      "unnecessary concern to your parents and you fail - and I mention\n",
      "this just by the way - you fail to carry out your business duties in\n",
      "a way that is quite unheard of.  I'm speaking here on behalf of your\n",
      "parents and of your employer, and really must request a clear and\n",
      "immediate explanation.  I am astonished, quite astonished.  I\n",
      "thought I knew you as a calm and sensible person, and now you\n",
      "suddenly seem to be showing off with peculiar whims.  This morning,\n",
      "your employer did suggest a possible reason for your failure to\n",
      "appear, it's true - it had to do with the money that was recently\n",
      "entrusted to you - but I came near to giving him my word of honour\n",
      "that that could not be the right explanation.  But now that I see\n",
      "your incomprehensible stubbornness I no longer feel any wish\n",
      "whatsoever to intercede on your behalf.  And nor is your position\n",
      "all that secure.  I had originally intended to say all this to you\n",
      "in private, but since you cause me to waste my time here for no good\n",
      "reason I don't see why your parents should not also learn of it.\n",
      "Your turnover has been very unsatisfactory of late; I grant you that\n",
      "it's not the time of year to do especially good business, we\n",
      "recognise that; but there simply is no time of year to do no\n",
      "business at all,  Mr. Samsa, we cannot allow there to be.\"\n",
      "\n",
      "\"But Sir\", called Gregor, beside himself and forgetting all else in\n",
      "the excitement, \"I'll open up immediately, just a moment.  I'm\n",
      "slightly unwell, an attack of dizziness, I haven't been able to get\n",
      "up.  I'm still in bed now.  I'm quite fresh again now, though.  I'm\n",
      "just getting out of bed.  Just a moment.  Be patient! It's not quite\n",
      "as easy as I'd thought.  I'm quite alright now, though.  It's\n",
      "shocking, what can suddenly happen to a person! I was quite alright\n",
      "last night, my parents know about it, perhaps better than me, I had\n",
      "a small symptom of it last night already.  They must have noticed\n",
      "it.  I don't know why I didn't let you know at work! But you always\n",
      "think you can get over an illness without staying at home.  Please,\n",
      "don't make my parents suffer! There's no basis for any of the\n",
      "accusations you're making; nobody's ever said a word to me about any\n",
      "of these things.  Maybe you haven't read the latest contracts I sent\n",
      "in.  I'll set off with the eight o'clock train, as well, these few\n",
      "hours of rest have given me strength.  You don't need to wait, sir;\n",
      "I'll be in the office soon after you, and please be so good as to\n",
      "tell that to the boss and recommend me to him!\"\n",
      "\n",
      "And while Gregor gushed out these words, hardly knowing what he was\n",
      "saying, he made his way over to the chest of drawers - this was\n",
      "easily done, probably because of the practise he had already had in\n",
      "bed - where he now tried to get himself upright.  He really did want\n",
      "to open the door, really did want to let them see him and to speak\n",
      "with the chief clerk; the others were being so insistent, and he was\n",
      "curious to learn what they would say when they caught sight of him.\n",
      "If they were shocked then it would no longer be Gregor's\n",
      "responsibility and he could rest.  If, however, they took everything\n",
      "calmly he would still have no reason to be upset, and if he hurried\n",
      "he really could be at the station for eight o'clock.  The first few\n",
      "times he tried to climb up on the smooth chest of drawers he just\n",
      "slid down again, but he finally gave himself one last swing and\n",
      "stood there upright; the lower part of his body was in serious pain\n",
      "but he no longer gave any attention to it.  Now he let himself fall\n",
      "against the back of a nearby chair and held tightly to the edges of\n",
      "it with his little legs.  By now he had also calmed down, and kept\n",
      "quiet so that he could listen to what the chief clerk was saying.\n",
      "\n",
      "\"Did you understand a word of all that?\" the chief clerk asked his\n",
      "parents, \"surely he's not trying to make fools of us\". \"Oh, God!\"\n",
      "called his mother, who was already in tears, \"he could be seriously\n",
      "ill and we're making him suffer.  Grete! Grete!\" she then cried.\n",
      "\"Mother?\" his sister called from the other side.  They communicated\n",
      "across Gregor's room.  \"You'll have to go for the doctor straight\n",
      "away.  Gregor is ill.  Quick, get the doctor.  Did you hear the way\n",
      "Gregor spoke just now?\"  \"That was the voice of an animal\", said the\n",
      "chief clerk, with a calmness that was in contrast with his mother's\n",
      "screams.  \"Anna! Anna!\" his father called into the kitchen through\n",
      "the entrance hall, clapping his hands, \"get a locksmith here, now!\"\n",
      "And the two girls, their skirts swishing, immediately ran out\n",
      "through the hall, wrenching open the front door of the flat as they\n",
      "went.  How had his sister managed to get dressed so quickly? There\n",
      "was no sound of the door banging shut again; they must have left it\n",
      "open;  people often do in homes where something awful has happened.\n",
      "\n",
      "Gregor, in contrast, had become much calmer.  So they couldn't\n",
      "understand his words any more, although they seemed clear enough to\n",
      "him, clearer than before - perhaps his ears had become used to the\n",
      "sound.  They had realised, though, that there was something wrong\n",
      "with him, and were ready to help.  The first response to his\n",
      "situation had been confident and wise, and that made him feel\n",
      "better.  He felt that he had been drawn back in among people, and\n",
      "from the doctor and the locksmith he expected great and surprising\n",
      "achievements - although he did not really distinguish one from the\n",
      "other.  Whatever was said next would be crucial, so, in order to\n",
      "make his voice as clear as possible, he coughed a little, but taking\n",
      "care to do this not too loudly as even this might well sound\n",
      "different from the way that a human coughs and he was no longer sure\n",
      "he could judge this for himself.  Meanwhile, it had become very\n",
      "quiet in the next room.  Perhaps his parents were sat at the table\n",
      "whispering with the chief clerk, or perhaps they were all pressed\n",
      "against the door and listening.\n",
      "\n",
      "Gregor slowly pushed his way over to the door with the chair.  Once\n",
      "there he let go of it and threw himself onto the door, holding\n",
      "himself upright against it using the adhesive on the tips of his\n",
      "legs.  He rested there a little while to recover from the effort\n",
      "involved and then set himself to the task of turning the key in the\n",
      "lock with his mouth.  He seemed, unfortunately, to have no proper\n",
      "teeth - how was he, then, to grasp the key? - but the lack of teeth\n",
      "was, of course, made up for with a very strong jaw; using the jaw,\n",
      "he really was able to start the key turning, ignoring the fact that\n",
      "he must have been causing some kind of damage as a brown fluid came\n",
      "from his mouth, flowed over the key and dripped onto the floor.\n",
      "\"Listen\", said the chief clerk in the next room, \"he's turning the\n",
      "key.\"  Gregor was greatly encouraged by this; but they all should\n",
      "have been calling to him, his father and his mother too: \"Well done,\n",
      "Gregor\", they should have cried, \"keep at it, keep hold of the\n",
      "lock!\"  And with the idea that they were all excitedly following his\n",
      "efforts, he bit on the key with all his strength, paying no\n",
      "attention to the pain he was causing himself.  As the key turned\n",
      "round he turned around the lock with it, only holding himself\n",
      "upright with his mouth, and hung onto the key or pushed it down\n",
      "again with the whole weight of his body as needed.  The clear sound\n",
      "of the lock as it snapped back was Gregor's sign that he could break\n",
      "his concentration, and as he regained his breath he said to himself:\n",
      "\"So, I didn't need the locksmith after all\". Then he lay his head on\n",
      "the handle of the door to open it completely.\n",
      "\n",
      "Because he had to open the door in this way, it was already wide\n",
      "open before he could be seen.  He had first to slowly turn himself\n",
      "around one of the double doors, and he had to do it very carefully\n",
      "if he did not want to fall flat on his back before entering the\n",
      "room.  He was still occupied with this difficult movement, unable to\n",
      "pay attention to anything else, when he heard the chief clerk\n",
      "exclaim a loud \"Oh!\", which sounded like the soughing of the wind.\n",
      "Now he also saw him - he was the nearest to the door - his hand\n",
      "pressed against his open mouth and slowly retreating as if driven by\n",
      "a steady and invisible force.  Gregor's mother, her hair still\n",
      "dishevelled from bed despite the chief clerk's being there, looked\n",
      "at his father.  Then she unfolded her arms, took two steps forward\n",
      "towards Gregor and sank down onto the floor into her skirts that\n",
      "spread themselves out around her as her head disappeared down onto\n",
      "her breast.  His father looked hostile, and clenched his fists as if\n",
      "wanting to knock Gregor back into his room.  Then he looked\n",
      "uncertainly round the living room, covered his eyes with his hands\n",
      "and wept so that his powerful chest shook.\n",
      "\n",
      "So Gregor did not go into the room, but leant against the inside of\n",
      "the other door which was still held bolted in place.  In this way\n",
      "only half of his body could be seen, along with his head above it\n",
      "which he leant over to one side as he peered out at the others.\n",
      "Meanwhile the day had become much lighter; part of the endless,\n",
      "grey-black building on the other side of the street - which was a\n",
      "hospital - could be seen quite clearly with the austere and regular\n",
      "line of windows piercing its facade; the rain was still\n",
      "falling, now throwing down large, individual droplets which hit the\n",
      "ground one at a time.  The washing up from breakfast lay on the\n",
      "table; there was so much of it because, for Gregor's father,\n",
      "breakfast was the most important meal of the day and he would\n",
      "stretch it out for several hours as he sat reading a number of\n",
      "different newspapers.  On the wall exactly opposite there was\n",
      "photograph of Gregor when he was a lieutenant in the army, his sword\n",
      "in his hand and a carefree smile on his face as he called forth\n",
      "respect for his uniform and bearing.  The door to the entrance hall\n",
      "was open and as the front door of the flat was also open he could\n",
      "see onto the landing and the stairs where they began their way down\n",
      "below.\n",
      "\n",
      "\"Now, then\", said Gregor, well aware that he was the only one to\n",
      "have kept calm, \"I'll get dressed straight away now, pack up my\n",
      "samples and set off.  Will you please just let me leave? You can\n",
      "see\", he said to the chief clerk, \"that I'm not stubborn and I\n",
      "like to do my job; being a commercial traveller is arduous but\n",
      "without travelling I couldn't earn my living.  So where are you\n",
      "going, in to the office? Yes? Will you report everything accurately,\n",
      "then? It's quite possible for someone to be temporarily unable to\n",
      "work, but that's just the right time to remember what's been\n",
      "achieved in the past and consider that later on, once the difficulty\n",
      "has been removed, he will certainly work with all the more diligence\n",
      "and concentration.  You're well aware that I'm seriously in debt to\n",
      "our employer as well as having to look after my parents and my\n",
      "sister, so that I'm trapped in a difficult situation, but I will\n",
      "work my way out of it again.  Please don't make things any harder\n",
      "for me than they are already, and don't take sides against me at the\n",
      "office.  I know that nobody likes the travellers.  They think we\n",
      "earn an enormous wage as well as having a soft time of it.  That's\n",
      "just prejudice but they have no particular reason to think better of\n",
      "it.  But you, sir, you have a better overview than the rest of the\n",
      "staff, in fact, if I can say this in confidence, a better overview\n",
      "than the boss himself - it's very easy for a businessman like him to\n",
      "make mistakes about his employees and judge them more harshly than\n",
      "he should.  And you're also well aware that we travellers spend\n",
      "almost the whole year away from the office, so that we can very\n",
      "easily fall victim to gossip and chance and groundless complaints,\n",
      "and it's almost impossible to defend yourself from that sort of\n",
      "thing, we don't usually even hear about them, or if at all it's when\n",
      "we arrive back home exhausted from a trip, and that's when we feel\n",
      "the harmful effects of what's been going on without even knowing\n",
      "what caused them.  Please, don't go away, at least first say\n",
      "something to show that you grant that I'm at least partly right!\"\n",
      "\n",
      "But the chief clerk had turned away as soon as Gregor had started to\n",
      "speak, and, with protruding lips, only stared back at him over his\n",
      "trembling shoulders as he left.  He did not keep still for a moment\n",
      "while Gregor was speaking, but moved steadily towards the door\n",
      "without taking his eyes off him.  He moved very gradually, as if\n",
      "there had been some secret prohibition on leaving the room.  It was\n",
      "only when he had reached the entrance hall that he made a sudden\n",
      "movement, drew his foot from the living room, and rushed forward in\n",
      "a panic.  In the hall, he stretched his right hand far out towards\n",
      "the stairway as if out there, there were some supernatural force\n",
      "waiting to save him.\n",
      "\n",
      "Gregor realised that it was out of the question to let the chief\n",
      "clerk go away in this mood if his position in the firm was not to be\n",
      "put into extreme danger.  That was something his parents did not\n",
      "understand very well; over the years, they had become convinced that\n",
      "this job would provide for Gregor for his entire life, and besides,\n",
      "they had so much to worry about at present that they had lost sight\n",
      "of any thought for the future.  Gregor, though, did think about the\n",
      "future.  The chief clerk had to be held back, calmed down, convinced\n",
      "and finally won over; the future of Gregor and his family depended\n",
      "on it! If only his sister were here! She was clever; she was already\n",
      "in tears while Gregor was still lying peacefully on his back.  And\n",
      "the chief clerk was a lover of women, surely she could persuade him;\n",
      "she would close the front door in the entrance hall and talk him out\n",
      "of his shocked state.  But his sister was not there, Gregor would\n",
      "have to do the job himself.  And without considering that he still\n",
      "was not familiar with how well he could move about in his present\n",
      "state, or that his speech still might not - or probably would not -\n",
      "be understood, he let go of the door; pushed himself through the\n",
      "opening; tried to reach the chief clerk on the landing who,\n",
      "ridiculously, was holding on to the banister with both hands; but\n",
      "Gregor fell immediately over and, with a little scream as he sought\n",
      "something to hold onto, landed on his numerous little legs.  Hardly\n",
      "had that happened than, for the first time that day, he began to\n",
      "feel alright with his body; the little legs had the solid ground\n",
      "under them; to his pleasure, they did exactly as he told them; they\n",
      "were even making the effort to carry him where he wanted to go; and\n",
      "he was soon believing that all his sorrows would soon be finally at\n",
      "an end.  He held back the urge to move but swayed from side to side\n",
      "as he crouched there on the floor.  His mother was not far away in\n",
      "front of him and seemed, at first, quite engrossed in herself, but\n",
      "then she suddenly jumped up with her arms outstretched and her\n",
      "fingers spread shouting: \"Help, for pity's sake, Help!\"  The way she\n",
      "held her head suggested she wanted to see Gregor better, but the\n",
      "unthinking way she was hurrying backwards showed that she did not;\n",
      "she had forgotten that the table was behind her with all the\n",
      "breakfast things on it; when she reached the table she sat quickly\n",
      "down on it without knowing what she was doing; without even seeming\n",
      "to notice that the coffee pot had been knocked over and a gush of\n",
      "coffee was pouring down onto the carpet.\n",
      "\n",
      "\"Mother, mother\", said Gregor gently, looking up at her.  He had\n",
      "completely forgotten the chief clerk for the moment, but could not\n",
      "help himself snapping in the air with his jaws at the sight of the\n",
      "flow of coffee.  That set his mother screaming anew, she fled from\n",
      "the table and into the arms of his father as he rushed towards her.\n",
      "Gregor, though, had no time to spare for his parents now; the chief\n",
      "clerk had already reached the stairs; with his chin on the banister,\n",
      "he looked back for the last time.  Gregor made a run for him; he\n",
      "wanted to be sure of reaching him; the chief clerk must have\n",
      "expected something, as he leapt down several steps at once and\n",
      "disappeared; his shouts resounding all around the staircase.  The\n",
      "flight of the chief clerk seemed, unfortunately, to put Gregor's\n",
      "father into a panic as well.  Until then he had been relatively self\n",
      "controlled, but now, instead of running after the chief clerk\n",
      "himself, or at least not impeding Gregor as he ran after him,\n",
      "Gregor's father seized the chief clerk's stick in his right hand\n",
      "(the chief clerk had left it behind on a chair, along with his hat\n",
      "and overcoat), picked up a large newspaper from the table with his\n",
      "left, and used them to drive Gregor back into his room, stamping his\n",
      "foot at him as he went.  Gregor's appeals to his father were of no\n",
      "help, his appeals were simply not understood, however much he humbly\n",
      "turned his head his father merely stamped his foot all the harder.\n",
      "Across the room, despite the chilly weather, Gregor's mother had\n",
      "pulled open a window, leant far out of it and pressed her hands to\n",
      "her face.  A strong draught of air flew in from the street towards\n",
      "the stairway, the curtains flew up, the newspapers on the table\n",
      "fluttered and some of them were blown onto the floor.  Nothing would\n",
      "stop Gregor's father as he drove him back, making hissing noises at\n",
      "him like a wild man.  Gregor had never had any practice in moving\n",
      "backwards and was only able to go very slowly.  If Gregor had only\n",
      "been allowed to turn round he would have been back in his room\n",
      "straight away, but he was afraid that if he took the time to do that\n",
      "his father would become impatient, and there was the threat of a\n",
      "lethal blow to his back or head from the stick in his father's hand\n",
      "any moment.  Eventually, though, Gregor realised that he had no\n",
      "choice as he saw, to his disgust, that he was quite incapable of\n",
      "going backwards in a straight line; so he began, as quickly as\n",
      "possible and with frequent anxious glances at his father, to turn\n",
      "himself round.  It went very slowly, but perhaps his father was able\n",
      "to see his good intentions as he did nothing to hinder him, in fact\n",
      "now and then he used the tip of his stick to give directions from a\n",
      "distance as to which way to turn.  If only his father would stop\n",
      "that unbearable hissing! It was making Gregor quite confused.  When\n",
      "he had nearly finished turning round, still listening to that\n",
      "hissing, he made a mistake and turned himself back a little the way\n",
      "he had just come.  He was pleased when he finally had his head in\n",
      "front of the doorway, but then saw that it was too narrow, and his\n",
      "body was too broad to get through it without further difficulty.  In\n",
      "his present mood, it obviously did not occur to his father to open\n",
      "the other of the double doors so that Gregor would have enough space\n",
      "to get through.  He was merely fixed on the idea that Gregor should\n",
      "be got back into his room as quickly as possible.  Nor would he ever\n",
      "have allowed Gregor the time to get himself upright as preparation\n",
      "for getting through the doorway.  What he did, making more noise\n",
      "than ever, was to drive Gregor forwards all the harder as if there\n",
      "had been nothing in the way; it sounded to Gregor as if there was\n",
      "now more than one father behind him; it was not a pleasant\n",
      "experience, and Gregor pushed himself into the doorway without\n",
      "regard for what might happen.  One side of his body lifted itself,\n",
      "he lay at an angle in the doorway, one flank scraped on the white\n",
      "door and was painfully injured, leaving vile brown flecks on it,\n",
      "soon he was stuck fast and would not have been able to move at all\n",
      "by himself, the little legs along one side hung quivering in the air\n",
      "while those on the other side were pressed painfully against the\n",
      "ground.  Then his father gave him a hefty shove from behind which\n",
      "released him from where he was held and sent him flying, and heavily\n",
      "bleeding, deep into his room.  The door was slammed shut with the\n",
      "stick, then, finally, all was quiet.\n",
      "\n",
      "\n",
      "\n",
      "II\n",
      "\n",
      "\n",
      "It was not until it was getting dark that evening that Gregor awoke\n",
      "from his deep and coma-like sleep.  He would have woken soon\n",
      "afterwards anyway even if he hadn't been disturbed, as he had had\n",
      "enough sleep and felt fully rested.  But he had the impression that\n",
      "some hurried steps and the sound of the door leading into the front\n",
      "room being carefully shut had woken him.  The light from the\n",
      "electric street lamps shone palely here and there onto the ceiling\n",
      "and tops of the furniture, but down below, where Gregor was, it was\n",
      "dark.  He pushed himself over to the door, feeling his way clumsily\n",
      "with his antennae - of which he was now beginning to learn the value\n",
      "- in order to see what had been happening there.  The whole of his\n",
      "left side seemed like one, painfully stretched scar,  and he limped\n",
      "badly on his two rows of legs.  One of the legs had been badly\n",
      "injured in the events of that morning - it was nearly a miracle that\n",
      "only one of them had been - and dragged along lifelessly.\n",
      "\n",
      "It was only when he had reached the door that he realised what it\n",
      "actually was that had drawn him over to it; it was the smell of\n",
      "something to eat.  By the door there was a dish filled with\n",
      "sweetened milk with little pieces of white bread floating in it.  He\n",
      "was so pleased he almost laughed, as he was even hungrier than he\n",
      "had been that morning, and immediately dipped his head into the\n",
      "milk, nearly covering his eyes with it.  But he soon drew his head\n",
      "back again in disappointment; not only did the pain in his tender\n",
      "left side make it difficult to eat the food - he was only able to\n",
      "eat if his whole body worked together as a snuffling whole - but the\n",
      "milk did not taste at all nice.  Milk like this was normally his\n",
      "favourite drink, and his sister had certainly left it there for him\n",
      "because of that, but he turned, almost against his own will, away\n",
      "from the dish and crawled back into the centre of the room.\n",
      "\n",
      "Through the crack in the door, Gregor could see that the gas had\n",
      "been lit in the living room.  His father at this time would normally\n",
      "be sat with his evening paper, reading it out in a loud voice to\n",
      "Gregor's mother, and sometimes to his sister, but there was now not\n",
      "a sound to be heard.  Gregor's sister would often write and tell him\n",
      "about this reading, but maybe his father had lost the habit in\n",
      "recent times.  It was so quiet all around too, even though there\n",
      "must have been somebody in the flat.  \"What a quiet life it is the\n",
      "family lead\", said Gregor to himself, and, gazing into the darkness,\n",
      "felt a great pride that he was able to provide a life like that in\n",
      "such a nice home for his sister and parents.  But what now, if all\n",
      "this peace and wealth and comfort should come to a horrible and\n",
      "frightening end? That was something that Gregor did not want to\n",
      "think about too much, so he started to move about, crawling up and\n",
      "down the room.\n",
      "\n",
      "Once during that long evening, the door on one side of the room was\n",
      "opened very slightly and hurriedly closed again; later on the door\n",
      "on the other side did the same; it seemed that someone needed to\n",
      "enter the room but thought better of it.  Gregor went and waited\n",
      "immediately by the door, resolved either to bring the timorous\n",
      "visitor into the room in some way or at least to find out who it\n",
      "was; but the door was opened no more that night and Gregor waited in\n",
      "vain.  The previous morning while the doors were locked everyone had\n",
      "wanted to get in there to him, but now, now that he had opened up\n",
      "one of the doors and the other had clearly been unlocked some time\n",
      "during the day, no-one came, and the keys were in the other sides.\n",
      "\n",
      "It was not until late at night that the gaslight in the living room\n",
      "was put out, and now it was easy to see that his parents and sister had\n",
      "stayed awake all that time, as they all could be distinctly heard as\n",
      "they went away together on tip-toe.  It was clear that no-one would\n",
      "come into Gregor's room any more until morning; that gave him plenty\n",
      "of time to think undisturbed about how he would have to re-arrange\n",
      "his life.  For some reason, the tall, empty room where he was forced\n",
      "to remain made him feel uneasy as he lay there flat on the floor,\n",
      "even though he had been living in it for five years.  Hardly aware\n",
      "of what he was doing other than a slight feeling of shame, he\n",
      "hurried under the couch.  It pressed down on his back a little, and\n",
      "he was no longer able to lift his head, but he nonetheless felt\n",
      "immediately at ease and his only regret was that his body was too\n",
      "broad to get it all underneath.\n",
      "\n",
      "He spent the whole night there.  Some of the time he passed in a\n",
      "light sleep, although he frequently woke from it in alarm because of\n",
      "his hunger, and some of the time was spent in worries and vague\n",
      "hopes which, however, always led to the same conclusion: for the\n",
      "time being he must remain calm, he must show patience and the\n",
      "greatest consideration so that his family could bear the\n",
      "unpleasantness that he, in his present condition, was forced to\n",
      "impose on them.\n",
      "\n",
      "Gregor soon had the opportunity to test the strength of his\n",
      "decisions, as early the next morning, almost before the night had\n",
      "ended, his sister, nearly fully dressed, opened the door from the\n",
      "front room and looked anxiously in.  She did not see him straight\n",
      "away, but when she did notice him under the couch - he had to be\n",
      "somewhere, for God's sake, he couldn't have flown away - she was so\n",
      "shocked that she lost control of herself and slammed the door shut\n",
      "again from outside.  But she seemed to regret her behaviour, as she\n",
      "opened the door again straight away and came in on tip-toe as if\n",
      "entering the room of someone seriously ill or even of a stranger.\n",
      "Gregor had pushed his head forward, right to the edge of the couch,\n",
      "and watched her.  Would she notice that he had left the milk as it\n",
      "was, realise that it was not from any lack of hunger and bring him\n",
      "in some other food that was more suitable? If she didn't do it\n",
      "herself he would rather go hungry than draw her attention to it,\n",
      "although he did feel a terrible urge to rush forward from under the\n",
      "couch, throw himself at his sister's feet and beg her for something\n",
      "good to eat.  However, his sister noticed the full dish immediately\n",
      "and looked at it and the few drops of milk splashed around it with\n",
      "some surprise.  She immediately picked it up - using a rag,\n",
      "not her bare hands - and carried it out.  Gregor was extremely\n",
      "curious as to what she would bring in its place, imagining the\n",
      "wildest possibilities, but he never could have guessed what his\n",
      "sister, in her goodness, actually did bring.  In order to test his\n",
      "taste, she brought him a whole selection of things, all spread out\n",
      "on an old newspaper.  There were old, half-rotten vegetables; bones\n",
      "from the evening meal, covered in white sauce that had gone hard; a\n",
      "few raisins and almonds; some cheese that Gregor had declared\n",
      "inedible two days before; a dry roll and some bread spread with\n",
      "butter and salt.  As well as all that she had poured some water into\n",
      "the dish, which had probably been permanently set aside for Gregor's\n",
      "use, and placed it beside them.  Then, out of consideration for\n",
      "Gregor's feelings, as she knew that he would not eat in front of\n",
      "her, she hurried out again and even turned the key in the lock so\n",
      "that Gregor would know he could make things as comfortable for\n",
      "himself as he liked.  Gregor's little legs whirred, at last he could\n",
      "eat.  What's more, his injuries must already have completely healed\n",
      "as he found no difficulty in moving.  This amazed him, as more than\n",
      "a month earlier he had cut his finger slightly with a knife, he\n",
      "thought of how his finger had still hurt the day before yesterday.\n",
      "\"Am I less sensitive than I used to be, then?\", he thought, and was\n",
      "already sucking greedily at the cheese which had immediately, almost\n",
      "compellingly, attracted him much more than the other foods on the\n",
      "newspaper.  Quickly one after another, his eyes watering with\n",
      "pleasure, he consumed the cheese, the vegetables and the sauce; the\n",
      "fresh foods, on the other hand, he didn't like at all, and even\n",
      "dragged the things he did want to eat a little way away from them\n",
      "because he couldn't stand the smell.  Long after he had finished\n",
      "eating and lay lethargic in the same place, his sister slowly turned\n",
      "the key in the lock as a sign to him that he should withdraw.  He\n",
      "was immediately startled, although he had been half asleep, and he\n",
      "hurried back under the couch.  But he needed great self-control to\n",
      "stay there even for the short time that his sister was in the room,\n",
      "as eating so much food had rounded out his body a little and he\n",
      "could hardly breathe in that narrow space.  Half suffocating, he\n",
      "watched with bulging eyes as his sister unselfconsciously took a\n",
      "broom and swept up the left-overs, mixing them in with the food he\n",
      "had not even touched at all as if it could not be used any more.\n",
      "She quickly dropped it all into a bin, closed it with its wooden\n",
      "lid, and carried everything out.  She had hardly turned her back\n",
      "before Gregor came out again from under the couch and stretched\n",
      "himself.\n",
      "\n",
      "This was how Gregor received his food each day now, once in the\n",
      "morning while his parents and the maid were still asleep, and the\n",
      "second time after everyone had eaten their meal at midday as his\n",
      "parents would sleep for a little while then as well, and Gregor's\n",
      "sister would send the maid away on some errand.  Gregor's father and\n",
      "mother certainly did not want him to starve either, but perhaps it\n",
      "would have been more than they could stand to have any more\n",
      "experience of his feeding than being told about it, and perhaps his\n",
      "sister wanted to spare them what distress she could as they were\n",
      "indeed suffering enough.\n",
      "\n",
      "It was impossible for Gregor to find out what they had told the\n",
      "doctor and the locksmith that first morning to get them out of the\n",
      "flat.  As nobody could understand him, nobody, not even his sister,\n",
      "thought that he could understand them, so he had to be content to\n",
      "hear his sister's sighs and appeals to the saints as she moved about\n",
      "his room.  It was only later, when she had become a little more used\n",
      "to everything - there was, of course, no question of her ever\n",
      "becoming fully used to the situation - that Gregor would sometimes\n",
      "catch a friendly comment, or at least a comment that could be\n",
      "construed as friendly.  \"He's enjoyed his dinner today\", she might\n",
      "say when he had diligently cleared away all the food left for him,\n",
      "or if he left most of it, which slowly became more and more\n",
      "frequent, she would often say, sadly, \"now everything's just been\n",
      "left there again\".\n",
      "\n",
      "Although Gregor wasn't able to hear any news directly he did listen\n",
      "to much of what was said in the next rooms, and whenever he heard\n",
      "anyone speaking he would scurry straight to the appropriate door and\n",
      "press his whole body against it.  There was seldom any conversation,\n",
      "especially at first, that was not about him in some way, even if\n",
      "only in secret.  For two whole days, all the talk at every mealtime\n",
      "was about what they should do now; but even between meals they spoke\n",
      "about the same subject as there were always at least two members of\n",
      "the family at home - nobody wanted to be at home by themselves and\n",
      "it was out of the question to leave the flat entirely empty.  And on\n",
      "the very first day the maid had fallen to her knees and begged\n",
      "Gregor's mother to let her go without delay.  It was not very clear\n",
      "how much she knew of what had happened but she left within a quarter\n",
      "of an hour, tearfully thanking Gregor's mother for her dismissal as\n",
      "if she had done her an enormous service.  She even swore\n",
      "emphatically not to tell anyone the slightest about what had\n",
      "happened, even though no-one had asked that of her.\n",
      "\n",
      "Now Gregor's sister also had to help his mother with the cooking;\n",
      "although that was not so much bother as no-one ate very much.\n",
      "Gregor often heard how one of them would unsuccessfully urge another\n",
      "to eat, and receive no more answer than \"no thanks, I've had enough\"\n",
      "or something similar.  No-one drank very much either.  His sister\n",
      "would sometimes ask his father whether he would like a beer, hoping\n",
      "for the chance to go and fetch it herself.  When his father then\n",
      "said nothing she would add, so that he would not feel selfish, that\n",
      "she could send the housekeeper for it, but then his father would\n",
      "close the matter with a big, loud \"No\", and no more would be said.\n",
      "\n",
      "Even before the first day had come to an end, his father had\n",
      "explained to Gregor's mother and sister what their finances and\n",
      "prospects were.  Now and then he stood up from the table and took\n",
      "some receipt or document from the little cash box he had saved from\n",
      "his business when it had collapsed five years earlier.  Gregor heard\n",
      "how he opened the complicated lock and then closed it again after he\n",
      "had taken the item he wanted.  What he heard his father say was some\n",
      "of the first good news that Gregor heard since he had first been\n",
      "incarcerated in his room.  He had thought that nothing at all\n",
      "remained from his father's business, at least he had never told him\n",
      "anything different, and Gregor had never asked him about it anyway.\n",
      "Their business misfortune had reduced the family to a state of total\n",
      "despair, and Gregor's only concern at that time had been to arrange\n",
      "things so that they could all forget about it as quickly as\n",
      "possible.  So then he started working especially hard, with a fiery\n",
      "vigour that raised him from a junior salesman to a travelling\n",
      "representative almost overnight, bringing with it the chance to earn\n",
      "money in quite different ways.  Gregor converted his success at work\n",
      "straight into cash that he could lay on the table at home for the\n",
      "benefit of his astonished and delighted family.  They had been good\n",
      "times and they had never come again, at least not with the same\n",
      "splendour, even though Gregor had later earned so much that he was\n",
      "in a position to bear the costs of the whole family, and did bear\n",
      "them.  They had even got used to it, both Gregor and the family,\n",
      "they took the money with gratitude and he was glad to provide it,\n",
      "although there was no longer much warm affection given in return.\n",
      "Gregor only remained close to his sister now.  Unlike him, she was\n",
      "very fond of music and a gifted and expressive violinist, it was his\n",
      "secret plan to send her to the conservatory next year even though it\n",
      "would cause great expense that would have to be made up for in some\n",
      "other way.  During Gregor's short periods in town, conversation with\n",
      "his sister would often turn to the conservatory but it was only ever\n",
      "mentioned as a lovely dream that could never be realised.  Their\n",
      "parents did not like to hear this innocent talk, but Gregor thought\n",
      "about it quite hard and decided he would let them know what he\n",
      "planned with a grand announcement of it on Christmas day.\n",
      "\n",
      "That was the sort of totally pointless thing that went through his\n",
      "mind in his present state, pressed upright against the door and\n",
      "listening.  There were times when he simply became too tired to\n",
      "continue listening, when his head would fall wearily against the\n",
      "door and he would pull it up again with a start, as even the\n",
      "slightest noise he caused would be heard next door and they would\n",
      "all go silent.  \"What's that he's doing now\", his father would say\n",
      "after a while, clearly having gone over to the door, and only then\n",
      "would the interrupted conversation slowly be taken up again.\n",
      "\n",
      "When explaining things, his father repeated himself several times,\n",
      "partly because it was a long time since he had been occupied with\n",
      "these matters himself and partly because Gregor's mother did not\n",
      "understand everything the first time.  From these repeated explanations\n",
      "Gregor learned, to his pleasure, that despite all their misfortunes\n",
      "there was still some money available from the old days.  It was not\n",
      "a lot, but it had not been touched in the meantime and some interest\n",
      "had accumulated.  Besides that, they had not been using up all the\n",
      "money that Gregor had been bringing home every month, keeping only a\n",
      "little for himself, so that that, too, had been accumulating.\n",
      "Behind the door, Gregor nodded with enthusiasm in his pleasure at\n",
      "this unexpected thrift and caution.  He could actually have used\n",
      "this surplus money to reduce his father's debt to his boss, and the\n",
      "day when he could have freed himself from that job would have come\n",
      "much closer, but now it was certainly better the way his father had\n",
      "done things.\n",
      "\n",
      "This money, however, was certainly not enough to enable the family\n",
      "to live off the interest; it was enough to maintain them for,\n",
      "perhaps, one or two years, no more.  That's to say, it was money\n",
      "that should not really be touched but set aside for emergencies;\n",
      "money to live on had to be earned.  His father was healthy but old,\n",
      "and lacking in self confidence.  During the five years that he had\n",
      "not been working - the first holiday in a life that had been full of\n",
      "strain and no success - he had put on a lot of weight and become\n",
      "very slow and clumsy.  Would Gregor's elderly mother now have to go\n",
      "and earn money? She suffered from asthma and it was a strain for her\n",
      "just to move about the home, every other day would be spent\n",
      "struggling for breath on the sofa by the open window.  Would his\n",
      "sister have to go and earn money? She was still a child of\n",
      "seventeen, her life up till then had been very enviable, consisting\n",
      "of wearing nice clothes, sleeping late, helping out in the business,\n",
      "joining in with a few modest pleasures and most of all playing the\n",
      "violin.  Whenever they began to talk of the need to earn money,\n",
      "Gregor would always first let go of the door and then throw himself\n",
      "onto the cool, leather sofa next to it, as he became quite hot with\n",
      "shame and regret.\n",
      "\n",
      "He would often lie there the whole night through, not sleeping a\n",
      "wink but scratching at the leather for hours on end.  Or he might go\n",
      "to all the effort of pushing a chair to the window, climbing up onto\n",
      "the sill and, propped up in the chair, leaning on the window to\n",
      "stare out of it.  He had used to feel a great sense of freedom from\n",
      "doing this, but doing it now was obviously something more remembered\n",
      "than experienced,  as what he actually saw in this way was becoming\n",
      "less distinct every day, even things that were quite near; he had\n",
      "used to curse the ever-present view of the hospital across the\n",
      "street, but now he could not see it at all, and if he had not known\n",
      "that he lived in Charlottenstrasse, which was a quiet street despite\n",
      "being in the middle of the city, he could have thought that he was\n",
      "looking out the window at a barren waste where the grey sky and the\n",
      "grey earth mingled inseparably.  His observant sister only needed to\n",
      "notice the chair twice before she would always push it back to its\n",
      "exact position by the window after she had tidied up the room, and\n",
      "even left the inner pane of the window open from then on.\n",
      "\n",
      "If Gregor had only been able to speak to his sister and thank her\n",
      "for all that she had to do for him it would have been easier for him\n",
      "to bear it; but as it was it caused him pain.  His sister,\n",
      "naturally, tried as far as possible to pretend there was nothing\n",
      "burdensome about it, and the longer it went on, of course, the\n",
      "better she was able to do so, but as time went by Gregor was also\n",
      "able to see through it all so much better.  It had even become very\n",
      "unpleasant for him, now, whenever she entered the room.  No sooner\n",
      "had she come in than she would quickly close the door as a\n",
      "precaution so that no-one would have to suffer the view into\n",
      "Gregor's room, then she would go straight to the window and pull it\n",
      "hurriedly open almost as if she were suffocating.  Even if it was\n",
      "cold, she would stay at the window breathing deeply for a little\n",
      "while.  She would alarm Gregor twice a day with this running about\n",
      "and noise making; he would stay under the couch shivering the whole\n",
      "while, knowing full well that she would certainly have liked to\n",
      "spare him this ordeal, but it was impossible for her to be in the\n",
      "same room with him with the windows closed.\n",
      "\n",
      "One day, about a month after Gregor's transformation when his sister\n",
      "no longer had any particular reason to be shocked at his appearance,\n",
      "she came into the room a little earlier than usual and found him\n",
      "still staring out the window, motionless, and just where he would be\n",
      "most horrible.  In itself, his sister's not coming into the room\n",
      "would have been no surprise for Gregor as it would have been\n",
      "difficult for her to immediately open the window while he was still\n",
      "there, but not only did she not come in, she went straight back and\n",
      "closed the door behind her, a stranger would have thought he had\n",
      "threatened her and tried to bite her.  Gregor went straight to hide\n",
      "himself under the couch, of course, but he had to wait until midday\n",
      "before his sister came back and she seemed much more uneasy than\n",
      "usual.  It made him realise that she still found his appearance\n",
      "unbearable and would continue to do so, she probably even had to\n",
      "overcome the urge to flee when she saw the little bit of him that\n",
      "protruded from under the couch.  One day, in order to spare her even\n",
      "this sight, he spent four hours carrying the bedsheet over to the\n",
      "couch on his back and arranged it so that he was completely covered\n",
      "and his sister would not be able to see him even if she bent down.\n",
      "If she did not think this sheet was necessary then all she had to do\n",
      "was take it off again, as it was clear enough that it was no\n",
      "pleasure for Gregor to cut himself off so completely.  She left the\n",
      "sheet where it was.  Gregor even thought he glimpsed a look of\n",
      "gratitude one time when he carefully looked out from under the sheet\n",
      "to see how his sister liked the new arrangement.\n",
      "\n",
      "For the first fourteen days, Gregor's parents could not bring\n",
      "themselves to come into the room to see him.  He would often hear\n",
      "them say how they appreciated all the new work his sister was doing\n",
      "even though, before, they had seen her as a girl who was somewhat\n",
      "useless and frequently been annoyed with her.  But now the two of\n",
      "them, father and mother, would often both wait outside the door of\n",
      "Gregor's room while his sister tidied up in there, and as soon as\n",
      "she went out again she would have to tell them exactly how\n",
      "everything looked, what Gregor had eaten, how he had behaved this\n",
      "time and whether, perhaps, any slight improvement could be seen.\n",
      "His mother also wanted to go in and visit Gregor relatively soon but\n",
      "his father and sister at first persuaded her against it.  Gregor\n",
      "listened very closely to all this, and approved fully.  Later,\n",
      "though, she had to be held back by force, which made her call out:\n",
      "\"Let me go and see Gregor, he is my unfortunate son! Can't you\n",
      "understand I have to see him?\", and Gregor would think to himself\n",
      "that maybe it would be better if his mother came in, not every day\n",
      "of course, but one day a week, perhaps; she could understand\n",
      "everything much better than his sister who, for all her courage, was\n",
      "still just a child after all, and really might not have had an\n",
      "adult's appreciation of the burdensome job she had taken on.\n",
      "\n",
      "Gregor's wish to see his mother was soon realised.  Out of\n",
      "consideration for his parents, Gregor wanted to avoid being seen at\n",
      "the window during the day, the few square meters of the floor did\n",
      "not give him much room to crawl about, it was hard to just lie\n",
      "quietly through the night, his food soon stopped giving him any\n",
      "pleasure at all, and so, to entertain himself, he got into the habit\n",
      "of crawling up and down the walls and ceiling.  He was especially\n",
      "fond of hanging from the ceiling; it was quite different from lying\n",
      "on the floor; he could breathe more freely; his body had a light\n",
      "swing to it; and up there, relaxed and almost happy, it might happen\n",
      "that he would surprise even himself by letting go of the ceiling and\n",
      "landing on the floor with a crash.  But now, of course, he had far\n",
      "better control of his body than before and, even with a fall as\n",
      "great as that, caused himself no damage.  Very soon his sister\n",
      "noticed Gregor's new way of entertaining himself - he had, after\n",
      "all, left traces of the adhesive from his feet as he crawled about -\n",
      "and got it into her head to make it as easy as possible for him by\n",
      "removing the furniture that got in his way, especially the chest of\n",
      "drawers and the desk.  Now, this was not something that she would be\n",
      "able to do by herself; she did not dare to ask for help from her\n",
      "father; the sixteen year old maid had carried on bravely since the\n",
      "cook had left but she certainly would not have helped in this, she\n",
      "had even asked to be allowed to keep the kitchen locked at all times\n",
      "and never to have to open the door unless it was especially\n",
      "important; so his sister had no choice but to choose some time when\n",
      "Gregor's father was not there and fetch his mother to help her.  As\n",
      "she approached the room, Gregor could hear his mother express her\n",
      "joy, but once at the door she went silent.  First, of course, his\n",
      "sister came in and looked round to see that everything in the room\n",
      "was alright; and only then did she let her mother enter.  Gregor had\n",
      "hurriedly pulled the sheet down lower over the couch and put more\n",
      "folds into it so that everything really looked as if it had just\n",
      "been thrown down by chance.  Gregor also refrained, this time, from\n",
      "spying out from under the sheet; he gave up the chance to see his\n",
      "mother until later and was simply glad that she had come.  \"You can\n",
      "come in, he can't be seen\", said his sister, obviously leading her\n",
      "in by the hand.  The old chest of drawers was too heavy for a pair\n",
      "of feeble women to be heaving about, but Gregor listened as they\n",
      "pushed it from its place, his sister always taking on the heaviest\n",
      "part of the work for herself and ignoring her mother's warnings that\n",
      "she would strain herself.  This lasted a very long time.  After\n",
      "labouring at it for fifteen minutes or more his mother said it would\n",
      "be better to leave the chest where it was, for one thing it was too\n",
      "heavy for them to get the job finished before Gregor's father got\n",
      "home and leaving it in the middle of the room it would be in his way\n",
      "even more, and for another thing it wasn't even sure that taking the\n",
      "furniture away would really be any help to him.  She thought just\n",
      "the opposite; the sight of the bare walls saddened her right to her\n",
      "heart; and why wouldn't Gregor feel the same way about it, he'd been\n",
      "used to this furniture in his room for a long time and it would make\n",
      "him feel abandoned to be in an empty room like that.  Then, quietly,\n",
      "almost whispering as if wanting Gregor (whose whereabouts she did\n",
      "not know) to hear not even the tone of her voice, as she was\n",
      "convinced that he did not understand her words, she added \"and by\n",
      "taking the furniture away, won't it seem like we're showing that\n",
      "we've given up all hope of improvement and we're abandoning him to\n",
      "cope for himself? I think it'd be best to leave the room exactly the\n",
      "way it was before so that when Gregor comes back to us again he'll\n",
      "find everything unchanged and he'll be able to forget the time in\n",
      "between all the easier\".\n",
      "\n",
      "Hearing these words from his mother made Gregor realise that the\n",
      "lack of any direct human communication, along with the monotonous\n",
      "life led by the family during these two months, must have made him\n",
      "confused - he could think of no other way of explaining to himself\n",
      "why he had seriously wanted his room emptied out.  Had he really\n",
      "wanted to transform his room into a cave, a warm room fitted out\n",
      "with the nice furniture he had inherited? That would have let him\n",
      "crawl around unimpeded in any direction, but it would also have let\n",
      "him quickly forget his past when he had still been human.  He had\n",
      "come very close to forgetting, and it had only been the voice of his\n",
      "mother, unheard for so long, that had shaken him out of it.  Nothing\n",
      "should be removed; everything had to stay; he could not do without\n",
      "the good influence the furniture had on his condition; and if the\n",
      "furniture made it difficult for him to crawl about mindlessly that\n",
      "was not a loss but a great advantage.\n",
      "\n",
      "His sister, unfortunately, did not agree; she had become used to the\n",
      "idea, not without reason, that she was Gregor's spokesman to his\n",
      "parents about the things that concerned him.  This meant that his\n",
      "mother's advice now was sufficient reason for her to insist on\n",
      "removing not only the chest of drawers and the desk, as she had\n",
      "thought at first, but all the furniture apart from the all-important\n",
      "couch.  It was more than childish perversity, of course, or the\n",
      "unexpected confidence she had recently acquired, that made her\n",
      "insist; she had indeed noticed that Gregor needed a lot of room to\n",
      "crawl about in, whereas the furniture, as far as anyone could see,\n",
      "was of no use to him at all.  Girls of that age, though, do become\n",
      "enthusiastic about things and feel they must get their way whenever\n",
      "they can.  Perhaps this was what tempted Grete to make Gregor's\n",
      "situation seem even more shocking than it was so that she could do\n",
      "even more for him.  Grete would probably be the only one who would\n",
      "dare enter a room dominated by Gregor crawling about the bare walls\n",
      "by himself.\n",
      "\n",
      "So she refused to let her mother dissuade her.  Gregor's mother\n",
      "already looked uneasy in his room, she soon stopped speaking and\n",
      "helped Gregor's sister to get the chest of drawers out with what\n",
      "strength she had.  The chest of drawers was something that Gregor\n",
      "could do without if he had to, but the writing desk had to stay.\n",
      "Hardly had the two women pushed the chest of drawers, groaning, out\n",
      "of the room than Gregor poked his head out from under the couch to\n",
      "see what he could do about it.  He meant to be as careful and\n",
      "considerate as he could, but, unfortunately, it was his mother who\n",
      "came back first while Grete in the next room had her arms round the\n",
      "chest, pushing and pulling at it from side to side by herself\n",
      "without, of course, moving it an inch.  His mother was not used to\n",
      "the sight of Gregor, he might have made her ill, so Gregor hurried\n",
      "backwards to the far end of the couch.  In his startlement, though,\n",
      "he was not able to prevent the sheet at its front from moving a\n",
      "little.  It was enough to attract his mother's attention.  She stood\n",
      "very still, remained there a moment, and then went back out to\n",
      "Grete.\n",
      "\n",
      "Gregor kept trying to assure himself that nothing unusual was\n",
      "happening, it was just a few pieces of furniture being moved after\n",
      "all, but he soon had to admit that the women going to and fro, their\n",
      "little calls to each other, the scraping of the furniture on the\n",
      "floor, all these things made him feel as if he were being assailed\n",
      "from all sides.  With his head and legs pulled in against him and\n",
      "his body pressed to the floor, he was forced to admit to himself\n",
      "that he could not stand all of this much longer.  They were emptying\n",
      "his room out; taking away everything that was dear to him; they had\n",
      "already taken out the chest containing his fretsaw and other tools;\n",
      "now they threatened to remove the writing desk with its place\n",
      "clearly worn into the floor, the desk where he had done his homework\n",
      "as a business trainee, at high school, even while he had been at\n",
      "infant school--he really could not wait any longer to see whether\n",
      "the two women's intentions were good.  He had nearly forgotten they\n",
      "were there anyway, as they were now too tired to say anything while\n",
      "they worked and he could only hear their feet as they stepped\n",
      "heavily on the floor.\n",
      "\n",
      "So, while the women were leant against the desk in the other room\n",
      "catching their breath, he sallied out, changed direction four times\n",
      "not knowing what he should save first before his attention was\n",
      "suddenly caught by the picture on the wall - which was already\n",
      "denuded of everything else that had been on it - of the lady dressed\n",
      "in copious fur.  He hurried up onto the picture and pressed himself\n",
      "against its glass, it held him firmly and felt good on his hot\n",
      "belly.  This picture at least, now totally covered by Gregor, would\n",
      "certainly be taken away by no-one.  He turned his head to face the\n",
      "door into the living room so that he could watch the women when they\n",
      "came back.\n",
      "\n",
      "They had not allowed themselves a long rest and came back quite\n",
      "soon; Grete had put her arm around her mother and was nearly\n",
      "carrying her.  \"What shall we take now, then?\", said Grete and\n",
      "looked around.  Her eyes met those of Gregor on the wall.  Perhaps\n",
      "only because her mother was there, she remained calm, bent her face\n",
      "to her so that she would not look round and said, albeit hurriedly\n",
      "and with a tremor in her voice: \"Come on, let's go back in the\n",
      "living room for a while?\"  Gregor could see what Grete had in mind,\n",
      "she wanted to take her mother somewhere safe and then chase him down\n",
      "from the wall.  Well, she could certainly try it! He sat unyielding\n",
      "on his picture.  He would rather jump at Grete's face.\n",
      "\n",
      "But Grete's words had made her mother quite worried, she stepped to\n",
      "one side, saw the enormous brown patch against the flowers of the\n",
      "wallpaper, and before she even realised it was Gregor that she saw\n",
      "screamed: \"Oh God, oh God!\"  Arms outstretched, she fell onto the\n",
      "couch as if she had given up everything and stayed there immobile.\n",
      "\"Gregor!\" shouted his sister, glowering at him and shaking her fist.\n",
      " That was the first word she had spoken to him directly since his\n",
      "transformation.  She ran into the other room to fetch some kind of\n",
      "smelling salts to bring her mother out of her faint; Gregor wanted\n",
      "to help too - he could save his picture later, although he stuck\n",
      "fast to the glass and had to pull himself off by force; then he,\n",
      "too, ran into the next room as if he could advise his sister like in\n",
      "the old days; but he had to just stand behind her doing nothing; she\n",
      "was looking into various bottles, he startled her when she turned\n",
      "round; a bottle fell to the ground and broke; a splinter cut\n",
      "Gregor's face, some kind of caustic medicine splashed all over him;\n",
      "now, without delaying any longer, Grete took hold of all the bottles\n",
      "she could and ran with them in to her mother; she slammed the door\n",
      "shut with her foot.  So now Gregor was shut out from his mother,\n",
      "who, because of him, might be near to death; he could not open the\n",
      "door if he did not want to chase his sister away, and she had to\n",
      "stay with his mother; there was nothing for him to do but wait; and,\n",
      "oppressed with anxiety and self-reproach, he began to crawl about,\n",
      "he crawled over everything, walls, furniture, ceiling, and finally\n",
      "in his confusion as the whole room began to spin around him he fell\n",
      "down into the middle of the dinner table.\n",
      "\n",
      "He lay there for a while, numb and immobile, all around him it was\n",
      "quiet, maybe that was a good sign.  Then there was someone at the\n",
      "door.  The maid, of course, had locked herself in her kitchen so\n",
      "that Grete would have to go and answer it.  His father had arrived\n",
      "home.  \"What's happened?\" were his first words; Grete's appearance\n",
      "must have made everything clear to him.  She answered him with\n",
      "subdued voice, and openly pressed her face into his chest: \"Mother's\n",
      "fainted, but she's better now.  Gregor got out.\"  \"Just as I\n",
      "expected\", said his father, \"just as I always said, but you women\n",
      "wouldn't listen, would you.\"  It was clear to Gregor that Grete had\n",
      "not said enough and that his father took it to mean that something\n",
      "bad had happened, that he was responsible for some act of violence.\n",
      "That meant Gregor would now have to try to calm his father, as he\n",
      "did not have the time to explain things to him even if that had been\n",
      "possible.  So he fled to the door of his room and pressed himself\n",
      "against it so that his father, when he came in from the hall, could\n",
      "see straight away that Gregor had the best intentions and would go\n",
      "back into his room without delay, that it would not be necessary to\n",
      "drive him back but that they had only to open the door and he would\n",
      "disappear.\n",
      "\n",
      "His father, though, was not in the mood to notice subtleties like\n",
      "that; \"Ah!\", he shouted as he came in, sounding as if he were both\n",
      "angry and glad at the same time.  Gregor drew his head back from the\n",
      "door and lifted it towards his father.  He really had not imagined\n",
      "his father the way he stood there now; of late, with his new habit\n",
      "of crawling about, he had neglected to pay attention to what was\n",
      "going on the rest of the flat the way he had done before.  He really\n",
      "ought to have expected things to have changed, but still, still, was\n",
      "that really his father? The same tired man as used to be laying\n",
      "there entombed in his bed when Gregor came back from his business\n",
      "trips, who would receive him sitting in the armchair in his\n",
      "nightgown when he came back in the evenings; who was hardly even\n",
      "able to stand up but, as a sign of his pleasure, would just raise\n",
      "his arms and who, on the couple of times a year when they went for a\n",
      "walk together on a Sunday or public holiday wrapped up tightly in\n",
      "his overcoat between Gregor and his mother, would always labour his\n",
      "way forward a little more slowly than them, who were already walking\n",
      "slowly for his sake; who would place his stick down carefully and,\n",
      "if he wanted to say something would invariably stop and gather his\n",
      "companions around him.  He was standing up straight enough now;\n",
      "dressed in a smart blue uniform with gold buttons, the sort worn by\n",
      "the employees at the banking institute; above the high, stiff collar\n",
      "of the coat his strong double-chin emerged; under the bushy\n",
      "eyebrows, his piercing, dark eyes looked out fresh and alert; his\n",
      "normally unkempt white hair was combed down painfully close to his\n",
      "scalp.  He took his cap, with its gold monogram from, probably, some\n",
      "bank, and threw it in an arc right across the room onto the sofa,\n",
      "put his hands in his trouser pockets, pushing back the bottom of his\n",
      "long uniform coat, and, with look of determination, walked towards\n",
      "Gregor.  He probably did not even know himself what he had in mind,\n",
      "but nonetheless lifted his feet unusually high.  Gregor was amazed\n",
      "at the enormous size of the soles of his boots, but wasted no time\n",
      "with that - he knew full well, right from the first day of his new\n",
      "life, that his father thought it necessary to always be extremely\n",
      "strict with him.  And so he ran up to his father, stopped when his\n",
      "father stopped, scurried forwards again when he moved, even\n",
      "slightly.  In this way they went round the room several times\n",
      "without anything decisive happening, without even giving the\n",
      "impression of a chase as everything went so slowly.  Gregor remained\n",
      "all this time on the floor, largely because he feared his father\n",
      "might see it as especially provoking if he fled onto the wall or\n",
      "ceiling.  Whatever he did, Gregor had to admit that he certainly\n",
      "would not be able to keep up this running about for long, as for\n",
      "each step his father took he had to carry out countless movements.\n",
      "He became noticeably short of breath, even in his earlier life his\n",
      "lungs had not been very reliable.  Now, as he lurched about in his\n",
      "efforts to muster all the strength he could for running he could\n",
      "hardly keep his eyes open; his thoughts became too slow for him to\n",
      "think of any other way of saving himself than running; he almost\n",
      "forgot that the walls were there for him to use although, here, they\n",
      "were concealed behind carefully carved furniture full of notches and\n",
      "protrusions - then, right beside him, lightly tossed, something flew\n",
      "down and rolled in front of him.  It was an apple; then another one\n",
      "immediately flew at him; Gregor froze in shock; there was no longer\n",
      "any point in running as his father had decided to bombard him.  He\n",
      "had filled his pockets with fruit from the bowl on the sideboard and\n",
      "now, without even taking the time for careful aim, threw one apple\n",
      "after another.  These little, red apples rolled about on the floor,\n",
      "knocking into each other as if they had electric motors.  An apple\n",
      "thrown without much force glanced against Gregor's back and slid off\n",
      "without doing any harm.  Another one however, immediately following\n",
      "it, hit squarely and lodged in his back; Gregor wanted to drag\n",
      "himself away, as if he could remove the surprising, the incredible\n",
      "pain by changing his position; but he felt as if nailed to the spot\n",
      "and spread himself out, all his senses in confusion.  The last thing\n",
      "he saw was the door of his room being pulled open, his sister was\n",
      "screaming, his mother ran out in front of her in her blouse (as his\n",
      "sister had taken off some of her clothes after she had fainted to\n",
      "make it easier for her to breathe), she ran to his father, her\n",
      "skirts unfastened and sliding one after another to the ground,\n",
      "stumbling over the skirts she pushed herself to his father, her arms\n",
      "around him, uniting herself with him totally - now Gregor lost his\n",
      "ability to see anything - her hands behind his father's head begging\n",
      "him to spare Gregor's life.\n",
      "\n",
      "\n",
      "\n",
      "III\n",
      "\n",
      "\n",
      "No-one dared to remove the apple lodged in Gregor's flesh, so it\n",
      "remained there as a visible reminder of his injury.  He had suffered\n",
      "it there for more than a month, and his condition seemed serious\n",
      "enough to remind even his father that Gregor, despite his current\n",
      "sad and revolting form, was a family member who could not be treated\n",
      "as an enemy.  On the contrary, as a family there was a duty to\n",
      "swallow any revulsion for him and to be patient, just to be patient.\n",
      "\n",
      "Because of his injuries, Gregor had lost much of his mobility -\n",
      "probably permanently.  He had been reduced to the condition of an\n",
      "ancient invalid and it took him long, long minutes to crawl across\n",
      "his room - crawling over the ceiling was out of the question - but\n",
      "this deterioration in his condition was fully (in his opinion) made\n",
      "up for by the door to the living room being left open every evening.\n",
      " He got into the habit of closely watching it for one or two hours\n",
      "before it was opened and then, lying in the darkness of his room\n",
      "where he could not be seen from the living room, he could watch the\n",
      "family in the light of the dinner table and listen to their\n",
      "conversation - with everyone's permission, in a way, and thus quite\n",
      "differently from before.\n",
      "\n",
      "They no longer held the lively conversations of earlier times, of\n",
      "course, the ones that Gregor always thought about with longing when\n",
      "he was tired and getting into the damp bed in some small hotel room.\n",
      " All of them were usually very quiet nowadays.  Soon after dinner,\n",
      "his father would go to sleep in his chair; his mother and sister\n",
      "would urge each other to be quiet; his mother, bent deeply under the\n",
      "lamp, would sew fancy underwear for a fashion shop; his sister, who\n",
      "had taken a sales job, learned shorthand and French in the evenings\n",
      "so that she might be able to get a better position later on.\n",
      "Sometimes his father would wake up and say to Gregor's mother\n",
      "\"you're doing so much sewing again today!\", as if he did not know\n",
      "that he had been dozing - and then he would go back to sleep again\n",
      "while mother and sister would exchange a tired grin.\n",
      "\n",
      "With a kind of stubbornness, Gregor's father refused to take his\n",
      "uniform off even at home; while his nightgown hung unused on its peg\n",
      "Gregor's father would slumber where he was, fully dressed, as if\n",
      "always ready to serve and expecting to hear the voice of his\n",
      "superior even here.  The uniform had not been new to start with, but\n",
      "as a result of this it slowly became even shabbier despite the\n",
      "efforts of Gregor's mother and sister to look after it.  Gregor\n",
      "would often spend the whole evening looking at all the stains on\n",
      "this coat, with its gold buttons always kept polished and shiny,\n",
      "while the old man in it would sleep, highly uncomfortable but\n",
      "peaceful.\n",
      "\n",
      "As soon as it struck ten, Gregor's mother would speak gently to his\n",
      "father to wake him and try to persuade him to go to bed, as he\n",
      "couldn't sleep properly where he was and he really had to get his\n",
      "sleep if he was to be up at six to get to work.  But since he had\n",
      "been in work he had become more obstinate and would always insist on\n",
      "staying longer at the table, even though he regularly fell asleep\n",
      "and it was then harder than ever to persuade him to exchange the\n",
      "chair for his bed.  Then, however much mother and sister would\n",
      "importune him with little reproaches and warnings he would keep\n",
      "slowly shaking his head for a quarter of an hour with his eyes\n",
      "closed and refusing to get up.  Gregor's mother would tug at his\n",
      "sleeve, whisper endearments into his ear, Gregor's sister would\n",
      "leave her work to help her mother, but nothing would have any effect\n",
      "on him.  He would just sink deeper into his chair.  Only when the\n",
      "two women took him under the arms he would abruptly open his eyes,\n",
      "look at them one after the other and say: \"What a life! This is what\n",
      "peace I get in my old age!\"  And supported by the two women he would\n",
      "lift himself up carefully as if he were carrying the greatest load\n",
      "himself, let the women take him to the door, send them off and carry\n",
      "on by himself while Gregor's mother would throw down her needle and\n",
      "his sister her pen so that they could run after his father and\n",
      "continue being of help to him.\n",
      "\n",
      "Who, in this tired and overworked family, would have had time to\n",
      "give more attention to Gregor than was absolutely necessary? The\n",
      "household budget became even smaller; so now the maid was dismissed;\n",
      "an enormous, thick-boned charwoman with white hair that flapped\n",
      "around her head came every morning and evening to do the heaviest\n",
      "work; everything else was looked after by Gregor's mother on top of\n",
      "the large amount of sewing work she did.  Gregor even learned,\n",
      "listening to the evening conversation about what price they had\n",
      "hoped for, that several items of jewellery belonging to the family\n",
      "had been sold, even though both mother and sister had been very fond\n",
      "of wearing them at functions and celebrations.  But the loudest\n",
      "complaint was that although the flat was much too big for their\n",
      "present circumstances, they could not move out of it, there was no\n",
      "imaginable way of transferring Gregor to the new address.  He could\n",
      "see quite well, though, that there were more reasons than\n",
      "consideration for him that made it difficult for them to move, it\n",
      "would have been quite easy to transport him in any suitable crate\n",
      "with a few air holes in it; the main thing holding the family back\n",
      "from their decision to move was much more to do with their total\n",
      "despair, and the thought that they had been struck with a misfortune\n",
      "unlike anything experienced by anyone else they knew or were related\n",
      "to.  They carried out absolutely everything that the world expects\n",
      "from poor people, Gregor's father brought bank employees their\n",
      "breakfast, his mother sacrificed herself by washing clothes for\n",
      "strangers, his sister ran back and forth behind her desk at the\n",
      "behest of the customers, but they just did not have the strength to\n",
      "do any more.  And the injury in Gregor's back began to hurt as much\n",
      "as when it was new.  After they had come back from taking his father\n",
      "to bed Gregor's mother and sister would now leave their work where\n",
      "it was and sit close together, cheek to cheek; his mother would\n",
      "point to Gregor's room and say \"Close that door, Grete\", and then,\n",
      "when he was in the dark again, they would sit in the next room and\n",
      "their tears would mingle, or they would simply sit there staring\n",
      "dry-eyed at the table.\n",
      "\n",
      "Gregor hardly slept at all, either night or day.  Sometimes he would\n",
      "think of taking over the family's affairs, just like before, the\n",
      "next time the door was opened; he had long forgotten about his boss\n",
      "and the chief clerk, but they would appear again in his thoughts,\n",
      "the salesmen and the apprentices, that stupid teaboy, two or three\n",
      "friends from other businesses, one of the chambermaids from a\n",
      "provincial hotel, a tender memory that appeared and disappeared\n",
      "again, a cashier from a hat shop for whom his attention had been\n",
      "serious but too slow, - all of them appeared to him, mixed together\n",
      "with strangers and others he had forgotten, but instead of helping\n",
      "him and his family they were all of them inaccessible, and he was\n",
      "glad when they disappeared.  Other times he was not at all in the\n",
      "mood to look after his family, he was filled with simple rage about\n",
      "the lack of attention he was shown, and although he could think of\n",
      "nothing he would have wanted, he made plans of how he could get into\n",
      "the pantry where he could take all the things he was entitled to,\n",
      "even if he was not hungry.  Gregor's sister no longer thought about\n",
      "how she could please him but would hurriedly push some food or other\n",
      "into his room with her foot before she rushed out to work in the\n",
      "morning and at midday, and in the evening she would sweep it away\n",
      "again with the broom, indifferent as to whether it had been eaten or\n",
      "- more often than not - had been left totally untouched.  She still\n",
      "cleared up the room in the evening, but now she could not have been\n",
      "any quicker about it.  Smears of dirt were left on the walls, here\n",
      "and there were little balls of dust and filth.  At first, Gregor\n",
      "went into one of the worst of these places when his sister arrived\n",
      "as a reproach to her, but he could have stayed there for weeks\n",
      "without his sister doing anything about it; she could see the dirt\n",
      "as well as he could but she had simply decided to leave him to it.\n",
      "At the same time she became touchy in a way that was quite new for\n",
      "her and which everyone in the family understood - cleaning up\n",
      "Gregor's room was for her and her alone.  Gregor's mother did once\n",
      "thoroughly clean his room, and needed to use several bucketfuls of\n",
      "water to do it - although that much dampness also made Gregor ill\n",
      "and he lay flat on the couch, bitter and immobile.  But his mother\n",
      "was to be punished still more for what she had done, as hardly had\n",
      "his sister arrived home in the evening than she noticed the change\n",
      "in Gregor's room and, highly aggrieved, ran back into the living\n",
      "room where, despite her mothers raised and imploring hands, she\n",
      "broke into convulsive tears.  Her father, of course, was startled\n",
      "out of his chair and the two parents looked on astonished and\n",
      "helpless; then they, too, became agitated; Gregor's father, standing\n",
      "to the right of his mother, accused her of not leaving the cleaning\n",
      "of Gregor's room to his sister; from her left, Gregor's sister\n",
      "screamed at her that she was never to clean Gregor's room again;\n",
      "while his mother tried to draw his father, who was beside himself\n",
      "with anger, into the bedroom; his sister, quaking with tears,\n",
      "thumped on the table with her small fists; and Gregor hissed in\n",
      "anger that no-one had even thought of closing the door to save him\n",
      "the sight of this and all its noise.\n",
      "\n",
      "Gregor's sister was exhausted from going out to work, and looking\n",
      "after Gregor as she had done before was even more work for her, but\n",
      "even so his mother ought certainly not to have taken her place.\n",
      "Gregor, on the other hand, ought not to be neglected.  Now, though,\n",
      "the charwoman was here.  This elderly widow, with a robust bone\n",
      "structure that made her able to withstand the hardest of things in\n",
      "her long life, wasn't really repelled by Gregor.  Just by chance one\n",
      "day, rather than any real curiosity, she opened the door to Gregor's\n",
      "room and found herself face to face with him.  He was taken totally\n",
      "by surprise, no-one was chasing him but he began to rush to and fro\n",
      "while she just stood there in amazement with her hands crossed in\n",
      "front of her.  From then on she never failed to open the door\n",
      "slightly every evening and morning and look briefly in on him.  At\n",
      "first she would call to him as she did so with words that she\n",
      "probably considered friendly, such as \"come on then, you old\n",
      "dung-beetle!\", or \"look at the old dung-beetle there!\"  Gregor never\n",
      "responded to being spoken to in that way, but just remained where he\n",
      "was without moving as if the door had never even been opened.  If\n",
      "only they had told this charwoman to clean up his room every day\n",
      "instead of letting her disturb him for no reason whenever she felt\n",
      "like it! One day, early in the morning while a heavy rain struck the\n",
      "windowpanes, perhaps indicating that spring was coming, she began to\n",
      "speak to him in that way once again.  Gregor was so resentful of it\n",
      "that he started to move toward her, he was slow and infirm, but it\n",
      "was like a kind of attack.  Instead of being afraid, the charwoman\n",
      "just lifted up one of the chairs from near the door and stood there\n",
      "with her mouth open, clearly intending not to close her mouth until\n",
      "the chair in her hand had been slammed down into Gregor's back.\n",
      "\"Aren't you coming any closer, then?\", she asked when Gregor turned\n",
      "round again, and she calmly put the chair back in the corner.\n",
      "\n",
      "Gregor had almost entirely stopped eating.  Only if he happened to\n",
      "find himself next to the food that had been prepared for him he\n",
      "might take some of it into his mouth to play with it, leave it there\n",
      "a few hours and then, more often than not, spit it out again.  At\n",
      "first he thought it was distress at the state of his room that\n",
      "stopped him eating, but he had soon got used to the changes made\n",
      "there.  They had got into the habit of putting things into this room\n",
      "that they had no room for anywhere else, and there were now many\n",
      "such things as one of the rooms in the flat had been rented out to\n",
      "three gentlemen.  These earnest gentlemen - all three of them had\n",
      "full beards, as Gregor learned peering through the crack in the door\n",
      "one day - were painfully insistent on things' being tidy.  This\n",
      "meant not only in their own room but, since they had taken a room in\n",
      "this establishment, in the entire flat and especially in the\n",
      "kitchen.  Unnecessary clutter was something they could not tolerate,\n",
      "especially if it was dirty.  They had moreover brought most of their\n",
      "own furnishings and equipment with them.  For this reason, many\n",
      "things had become superfluous which, although they could not be\n",
      "sold, the family did not wish to discard.  All these things found\n",
      "their way into Gregor's room.  The dustbins from the kitchen found\n",
      "their way in there too.  The charwoman was always in a hurry, and\n",
      "anything she couldn't use for the time being she would just chuck in\n",
      "there.  He, fortunately, would usually see no more than the object\n",
      "and the hand that held it.  The woman most likely meant to fetch the\n",
      "things back out again when she had time and the opportunity, or to\n",
      "throw everything out in one go, but what actually happened was that\n",
      "they were left where they landed when they had first been thrown\n",
      "unless Gregor made his way through the junk and moved it somewhere\n",
      "else.  At first he moved it because, with no other room free where\n",
      "he could crawl about, he was forced to, but later on he came to\n",
      "enjoy it although moving about in that way left him sad and tired to\n",
      "death, and he would remain immobile for hours afterwards.\n",
      "\n",
      "The gentlemen who rented the room would sometimes take their evening\n",
      "meal at home in the living room that was used by everyone, and so\n",
      "the door to this room was often kept closed in the evening.  But\n",
      "Gregor found it easy to give up having the door open, he had, after\n",
      "all, often failed to make use of it when it was open and, without\n",
      "the family having noticed it, lain in his room in its darkest\n",
      "corner.  One time, though, the charwoman left the door to the living\n",
      "room slightly open, and it remained open when the gentlemen who\n",
      "rented the room came in in the evening and the light was put on.\n",
      "They sat up at the table where, formerly, Gregor had taken his meals\n",
      "with his father and mother, they unfolded the serviettes and picked\n",
      "up their knives and forks.  Gregor's mother immediately appeared in\n",
      "the doorway with a dish of meat and soon behind her came his sister\n",
      "with a dish piled high with potatoes.  The food was steaming, and\n",
      "filled the room with its smell.  The gentlemen bent over the dishes\n",
      "set in front of them as if they wanted to test the food before\n",
      "eating it, and the gentleman in the middle, who seemed to count as\n",
      "an authority for the other two, did indeed cut off a piece of meat\n",
      "while it was still in its dish, clearly wishing to establish whether\n",
      "it was sufficiently cooked or whether it should be sent back to the\n",
      "kitchen.  It was to his satisfaction, and Gregor's mother and\n",
      "sister, who had been looking on anxiously, began to breathe again\n",
      "and smiled.\n",
      "\n",
      "The family themselves ate in the kitchen.  Nonetheless, Gregor's\n",
      "father came into the living room before he went into the kitchen,\n",
      "bowed once with his cap in his hand and did his round of the table.\n",
      "The gentlemen stood as one, and mumbled something into their beards.\n",
      " Then, once they were alone, they ate in near perfect silence.  It\n",
      "seemed remarkable to Gregor that above all the various noises of\n",
      "eating their chewing teeth could still be heard, as if they had\n",
      "wanted to show Gregor that you need teeth in order to eat and it was\n",
      "not possible to perform anything with jaws that are toothless\n",
      "however nice they might be.  \"I'd like to eat something\", said\n",
      "Gregor anxiously, \"but not anything like they're eating.  They do\n",
      "feed themselves.  And here I am, dying!\"\n",
      "\n",
      "Throughout all this time, Gregor could not remember having heard the\n",
      "violin being played, but this evening it began to be heard from the\n",
      "kitchen.  The three gentlemen had already finished their meal, the\n",
      "one in the middle had produced a newspaper, given a page to each of\n",
      "the others, and now they leant back in their chairs reading them and\n",
      "smoking.  When the violin began playing they became attentive, stood\n",
      "up and went on tip-toe over to the door of the hallway where they\n",
      "stood pressed against each other.  Someone must have heard them in\n",
      "the kitchen, as Gregor's father called out: \"Is the playing perhaps\n",
      "unpleasant for the gentlemen? We can stop it straight away.\"  \"On\n",
      "the contrary\", said the middle gentleman, \"would the young lady not\n",
      "like to come in and play for us here in the room, where it is, after\n",
      "all, much more cosy and comfortable?\"  \"Oh yes, we'd love to\",\n",
      "called back Gregor's father as if he had been the violin player\n",
      "himself.  The gentlemen stepped back into the room and waited.\n",
      "Gregor's father soon appeared with the music stand, his mother with\n",
      "the music and his sister with the violin.  She calmly prepared\n",
      "everything for her to begin playing; his parents, who had never\n",
      "rented a room out before and therefore showed an exaggerated\n",
      "courtesy towards the three gentlemen, did not even dare to sit on\n",
      "their own chairs; his father leant against the door with his right\n",
      "hand pushed in between two buttons on his uniform coat; his mother,\n",
      "though, was offered a seat by one of the gentlemen and sat - leaving\n",
      "the chair where the gentleman happened to have placed it - out of\n",
      "the way in a corner.\n",
      "\n",
      "His sister began to play; father and mother paid close attention,\n",
      "one on each side, to the movements of her hands.  Drawn in by the\n",
      "playing, Gregor had dared to come forward a little and already had\n",
      "his head in the living room.  Before, he had taken great pride in\n",
      "how considerate he was but now it hardly occurred to him that he had\n",
      "become so thoughtless about the others.  What's more, there was now\n",
      "all the more reason to keep himself hidden as he was covered in the\n",
      "dust that lay everywhere in his room and flew up at the slightest\n",
      "movement; he carried threads, hairs, and remains of food about on\n",
      "his back and sides; he was much too indifferent to everything now to\n",
      "lay on his back and wipe himself on the carpet like he had used to\n",
      "do several times a day.  And despite this condition, he was not too\n",
      "shy to move forward a little onto the immaculate floor of the living\n",
      "room.\n",
      "\n",
      "No-one noticed him, though.  The family was totally preoccupied with\n",
      "the violin playing; at first, the three gentlemen had put their\n",
      "hands in their pockets and come up far too close behind the music\n",
      "stand to look at all the notes being played, and they must have\n",
      "disturbed Gregor's sister, but soon, in contrast with the family,\n",
      "they  withdrew back to the window with their heads sunk and talking\n",
      "to each other at half volume, and they stayed by the window while\n",
      "Gregor's father observed them anxiously.  It really now seemed very\n",
      "obvious that they had expected to hear some beautiful or\n",
      "entertaining violin playing but had been disappointed, that they had\n",
      "had enough of the whole performance and it was only now out of\n",
      "politeness that they allowed their peace to be disturbed.  It was\n",
      "especially unnerving, the way they all blew the smoke from their\n",
      "cigarettes upwards from their mouth and noses.  Yet Gregor's sister\n",
      "was playing so beautifully.  Her face was leant to one side,\n",
      "following the lines of music with a careful and melancholy\n",
      "expression.  Gregor crawled a little further forward, keeping his\n",
      "head close to the ground so that he could meet her eyes if the\n",
      "chance came.  Was he an animal if music could captivate him so? It\n",
      "seemed to him that he was being shown the way to the unknown\n",
      "nourishment he had been yearning for.  He was determined to make his\n",
      "way forward to his sister and tug at her skirt to show her she might\n",
      "come into his room with her violin, as no-one appreciated her\n",
      "playing here as much as he would.  He never wanted to let her out of\n",
      "his room, not while he lived, anyway; his shocking appearance\n",
      "should, for once, be of some use to him; he wanted to be at every\n",
      "door of his room at once to hiss and spit at the attackers; his\n",
      "sister should not be forced to stay with him, though, but stay of\n",
      "her own free will; she would sit beside him on the couch with her\n",
      "ear bent down to him while he told her how he had always intended to\n",
      "send her to the conservatory, how he would have told everyone about\n",
      "it last Christmas - had Christmas really come and gone already? - if\n",
      "this misfortune hadn't got in the way, and refuse to let anyone\n",
      "dissuade him from it.  On hearing all this, his sister would break\n",
      "out in tears of emotion, and Gregor would climb up to her shoulder\n",
      "and kiss her neck, which, since she had been going out to work, she\n",
      "had kept free without any necklace or collar.\n",
      "\n",
      "\"Mr. Samsa!\", shouted the middle gentleman to Gregor's father,\n",
      "pointing, without wasting any more words, with his forefinger at\n",
      "Gregor as he slowly moved forward.  The violin went silent, the\n",
      "middle of the three gentlemen first smiled at his two friends,\n",
      "shaking his head, and then looked back at Gregor.  His father seemed\n",
      "to think it more important to calm the three gentlemen before\n",
      "driving Gregor out, even though they were not at all upset and\n",
      "seemed to think Gregor was more entertaining than the violin playing\n",
      "had been.  He rushed up to them with his arms spread out and\n",
      "attempted to drive them back into their room at the same time as\n",
      "trying to block their view of Gregor with his body.  Now they did\n",
      "become a little annoyed, and it was not clear whether it was his\n",
      "father's behaviour that annoyed them or the dawning realisation that\n",
      "they had had a neighbour like Gregor in the next room without\n",
      "knowing it.  They asked Gregor's father for explanations, raised\n",
      "their arms like he had, tugged excitedly at their beards and moved\n",
      "back towards their room only very slowly.  Meanwhile Gregor's sister\n",
      "had overcome the despair she had fallen into when her playing was\n",
      "suddenly interrupted.  She had let her hands drop and let violin and\n",
      "bow hang limply for a while but continued to look at the music as if\n",
      "still playing, but then she suddenly pulled herself together, lay\n",
      "the instrument on her mother's lap who still sat laboriously\n",
      "struggling for breath where she was, and ran into the next room\n",
      "which, under pressure from her father, the three gentlemen were more\n",
      "quickly moving toward.  Under his sister's experienced hand, the\n",
      "pillows and covers on the beds flew up and were put into order and\n",
      "she had already finished making the beds and slipped out again\n",
      "before the three gentlemen had reached the room.  Gregor's father\n",
      "seemed so obsessed with what he was doing that he forgot all the\n",
      "respect he owed to his tenants.  He urged them and pressed them\n",
      "until, when he was already at the door of the room, the middle of\n",
      "the three gentlemen shouted like thunder and stamped his foot and\n",
      "thereby brought Gregor's father to a halt.  \"I declare here and\n",
      "now\", he said, raising his hand and glancing at Gregor's mother and\n",
      "sister to gain their attention too, \"that with regard to the\n",
      "repugnant conditions that prevail in this flat and with this family\"\n",
      "- here he looked briefly but decisively at the floor - \"I give\n",
      "immediate notice on my room.  For the days that I have been living\n",
      "here I will, of course, pay nothing at all, on the contrary I will\n",
      "consider whether to proceed with some kind of action for damages\n",
      "from you, and believe me it would be very easy to set out the\n",
      "grounds for such an action.\"  He was silent and looked straight\n",
      "ahead as if waiting for something.  And indeed, his two friends\n",
      "joined in with the words: \"And we also give immediate notice.\"  With\n",
      "that, he took hold of the door handle and slammed the door.\n",
      "\n",
      "Gregor's father staggered back to his seat, feeling his way with his\n",
      "hands, and fell into it; it looked as if he was stretching himself\n",
      "out for his usual evening nap but from the uncontrolled way his head\n",
      "kept nodding it could be seen that he was not sleeping at all.\n",
      "Throughout all this, Gregor had lain still where the three gentlemen\n",
      "had first seen him.  His disappointment at the failure of his plan,\n",
      "and perhaps also because he was weak from hunger, made it impossible\n",
      "for him to move.  He was sure that everyone would turn on him any\n",
      "moment, and he waited.  He was not even startled out of this state\n",
      "when the violin on his mother's lap fell from her trembling fingers\n",
      "and landed loudly on the floor.\n",
      "\n",
      "\"Father, Mother\", said his sister, hitting the table with her hand\n",
      "as introduction, \"we can't carry on like this.  Maybe you can't see\n",
      "it, but I can.  I don't want to call this monster my brother, all I\n",
      "can say is: we have to try and get rid of it.  We've done all that's\n",
      "humanly possible to look after it and be patient, I don't think\n",
      "anyone could accuse us of doing anything wrong.\"\n",
      "\n",
      "\"She's absolutely right\", said Gregor's father to himself.  His\n",
      "mother, who still had not had time to catch her breath, began to\n",
      "cough dully, her hand held out in front of her and a deranged\n",
      "expression in her eyes.\n",
      "\n",
      "Gregor's sister rushed to his mother and put her hand on her\n",
      "forehead.  Her words seemed to give Gregor's father some more\n",
      "definite ideas.  He sat upright, played with his uniform cap between\n",
      "the plates left by the three gentlemen after their meal, and\n",
      "occasionally looked down at Gregor as he lay there immobile.\n",
      "\n",
      "\"We have to try and get rid of it\", said Gregor's sister, now\n",
      "speaking only to her father, as her mother was too occupied with\n",
      "coughing to listen, \"it'll be the death of both of you, I can see it\n",
      "coming.  We can't all work as hard as we have to and then come home\n",
      "to be tortured like this, we can't endure it.  I can't endure it any\n",
      "more.\"  And she broke out so heavily in tears that they flowed down\n",
      "the face of her mother, and she wiped them away with mechanical hand\n",
      "movements.\n",
      "\n",
      "\"My child\", said her father with sympathy and obvious understanding,\n",
      "\"what are we to do?\"\n",
      "\n",
      "His sister just shrugged her shoulders as a sign of the helplessness\n",
      "and tears that had taken hold of her, displacing her earlier\n",
      "certainty.\n",
      "\n",
      "\"If he could just understand us\", said his father almost as a\n",
      "question; his sister shook her hand vigorously through her tears as\n",
      "a sign that of that there was no question.\n",
      "\n",
      "\"If he could just understand us\", repeated Gregor's father, closing\n",
      "his eyes in acceptance of his sister's certainty that that was quite\n",
      "impossible, \"then perhaps we could come to some kind of arrangement\n",
      "with him.  But as it is ...\"\n",
      "\n",
      "\"It's got to go\", shouted his sister, \"that's the only way, Father.\n",
      "You've got to get rid of the idea that that's Gregor.  We've only\n",
      "harmed ourselves by believing it for so long.  How can that be\n",
      "Gregor? If it were Gregor he would have seen long ago that it's not\n",
      "possible for human beings to live with an animal like that and he\n",
      "would have gone of his own free will.  We wouldn't have a brother\n",
      "any more, then, but we could carry on with our lives and remember\n",
      "him with respect.  As it is this animal is persecuting us, it's\n",
      "driven out our tenants, it obviously wants to take over the whole\n",
      "flat and force us to sleep on the streets.  Father, look, just\n",
      "look\", she suddenly screamed, \"he's starting again!\"   In her alarm,\n",
      "which was totally beyond Gregor's comprehension, his sister even\n",
      "abandoned his mother as she pushed herself vigorously out of her\n",
      "chair as if more willing to sacrifice her own mother than stay\n",
      "anywhere near Gregor.  She rushed over to behind her father, who had\n",
      "become excited merely because she was and stood up half raising his\n",
      "hands in front of Gregor's sister as if to protect her.\n",
      "\n",
      "But Gregor had had no intention of frightening anyone, least of all\n",
      "his sister.  All he had done was begin to turn round so that he\n",
      "could go back into his room, although that was in itself quite\n",
      "startling as his pain-wracked condition meant that turning round\n",
      "required a great deal of effort and he was using his head to help\n",
      "himself do it, repeatedly raising it and striking it against the\n",
      "floor.  He stopped and looked round.  They seemed to have realised\n",
      "his good intention and had only been alarmed briefly.  Now they all\n",
      "looked at him in unhappy silence.  His mother lay in her chair with\n",
      "her legs stretched out and pressed against each other, her eyes\n",
      "nearly closed with exhaustion; his sister sat next to his father\n",
      "with her arms around his neck.\n",
      "\n",
      "\"Maybe now they'll let me turn round\", thought Gregor and went back\n",
      "to work.  He could not help panting loudly with the effort and had\n",
      "sometimes to stop and take a rest.  No-one was making him rush any\n",
      "more, everything was left up to him.  As soon as he had finally\n",
      "finished turning round he began to move straight ahead.  He was\n",
      "amazed at the great distance that separated him from his room, and\n",
      "could not understand how he had covered that distance in his weak\n",
      "state a little while before and almost without noticing it.  He\n",
      "concentrated on crawling as fast as he could and hardly noticed that\n",
      "there was not a word, not any cry, from his family to distract him.\n",
      "He did not turn his head until he had reached the doorway.  He did\n",
      "not turn it all the way round as he felt his neck becoming stiff,\n",
      "but it was nonetheless enough to see that nothing behind him had\n",
      "changed, only his sister had stood up.  With his last glance he saw\n",
      "that his mother had now fallen completely asleep.\n",
      "\n",
      "He was hardly inside his room before the door was hurriedly shut,\n",
      "bolted and locked.  The sudden noise behind Gregor so startled him\n",
      "that his little legs collapsed under him.  It was his sister who had\n",
      "been in so much of a rush.  She had been standing there waiting and\n",
      "sprung forward lightly, Gregor had not heard her coming at all, and\n",
      "as she turned the key in the lock she said loudly to her parents \"At\n",
      "last!\".\n",
      "\n",
      "\"What now, then?\", Gregor asked himself as he looked round in the\n",
      "darkness.  He soon made the discovery that he could no longer move\n",
      "at all.  This was no surprise to him, it seemed rather that being\n",
      "able to actually move around on those spindly little legs until then\n",
      "was unnatural.  He also felt relatively comfortable.  It is true\n",
      "that his entire body was aching, but the pain seemed to be slowly\n",
      "getting weaker and weaker and would finally disappear altogether.\n",
      "He could already hardly feel the decayed apple in his back or the\n",
      "inflamed area around it, which was entirely covered in white dust.\n",
      "He thought back of his family with emotion and love.  If it was\n",
      "possible, he felt that he must go away even more strongly than his\n",
      "sister.  He remained in this state of empty and peaceful rumination\n",
      "until he heard the clock tower strike three in the morning.  He\n",
      "watched as it slowly began to get light everywhere outside the\n",
      "window too.  Then, without his willing it, his head sank down\n",
      "completely, and his last breath flowed weakly from his nostrils.\n",
      "\n",
      "When the cleaner came in early in the morning - they'd often asked\n",
      "her not to keep slamming the doors but with her strength and in her\n",
      "hurry she still did, so that everyone in the flat knew when she'd\n",
      "arrived and from then on it was impossible to sleep in peace - she\n",
      "made her usual brief look in on Gregor and at first found nothing\n",
      "special.  She thought he was laying there so still on purpose,\n",
      "playing the martyr; she attributed all possible understanding to\n",
      "him.  She happened to be holding the long broom in her hand, so she\n",
      "tried to tickle Gregor with it from the doorway.  When she had no\n",
      "success with that she tried to make a nuisance of herself and poked\n",
      "at him a little, and only when she found she could shove him across\n",
      "the floor with no resistance at all did she start to pay attention.\n",
      "She soon realised what had really happened, opened her eyes wide,\n",
      "whistled to herself, but did not waste time to yank open the bedroom\n",
      "doors and shout loudly into the darkness of the bedrooms: \"Come and\n",
      "'ave a look at this, it's dead, just lying there, stone dead!\"\n",
      "\n",
      "Mr. and  Mrs. Samsa sat upright there in their marriage bed and had\n",
      "to make an effort to get over the shock caused by the cleaner before\n",
      "they could grasp what she was saying.  But then, each from his own\n",
      "side, they hurried out of bed.  Mr. Samsa threw the blanket over his\n",
      "shoulders,  Mrs. Samsa just came out in her nightdress; and that is\n",
      "how they went into Gregor's room.  On the way they opened the door\n",
      "to the living room where Grete had been sleeping since the three\n",
      "gentlemen had moved in; she was fully dressed as if she had never\n",
      "been asleep, and the paleness of her face seemed to confirm this.\n",
      "\"Dead?\", asked  Mrs. Samsa, looking at the charwoman enquiringly,\n",
      "even though she could have checked for herself and could have known\n",
      "it even without checking.  \"That's what I said\",  replied the\n",
      "cleaner, and to prove it she gave Gregor's body another shove with\n",
      "the broom, sending it sideways across the floor.  Mrs. Samsa made a\n",
      "movement as if she wanted to hold back the broom, but did not\n",
      "complete it.  \"Now then\", said  Mr. Samsa, \"let's give thanks to God\n",
      "for that\". He crossed himself, and the three women followed his\n",
      "example.  Grete, who had not taken her eyes from the corpse, said:\n",
      "\"Just look how thin he was.  He didn't eat anything for so long.\n",
      "The food came out again just the same as when it went in\". Gregor's\n",
      "body was indeed completely dried up and flat, they had not seen it\n",
      "until then, but now he was not lifted up on his little legs, nor did\n",
      "he do anything to make them look away.\n",
      "\n",
      "\"Grete, come with us in here for a little while\", said  Mrs. Samsa\n",
      "with a pained smile, and Grete followed her parents into the bedroom\n",
      "but not without looking back at the body.  The cleaner shut the door\n",
      "and opened the window wide.  Although it was still early in the\n",
      "morning the fresh air had something of warmth mixed in with it.  It\n",
      "was already the end of March, after all.\n",
      "\n",
      "The three gentlemen stepped out of their room and looked round in\n",
      "amazement for their breakfasts;  they had been forgotten about.\n",
      "\"Where is our breakfast?\", the middle gentleman asked the cleaner\n",
      "irritably.  She just put her finger on her lips and made a quick and\n",
      "silent sign to the men that they might like to come into Gregor's\n",
      "room.  They did so, and stood around Gregor's corpse with their\n",
      "hands in the pockets of their well-worn coats. It was now quite\n",
      "light in the room.\n",
      "\n",
      "Then the door of the bedroom opened and  Mr. Samsa appeared in his\n",
      "uniform with his wife on one arm and his daughter on the other.  All\n",
      "of them had been crying a little; Grete now and then pressed her\n",
      "face against her father's arm.\n",
      "\n",
      "\"Leave my home.  Now!\", said  Mr. Samsa, indicating the door and\n",
      "without letting the women from him.  \"What do you mean?\", asked the\n",
      "middle of the three gentlemen somewhat disconcerted, and he smiled\n",
      "sweetly.  The other two held their hands behind their backs and\n",
      "continually rubbed them together in gleeful anticipation of a loud\n",
      "quarrel which could only end in their favour.  \"I mean just what I\n",
      "said\", answered  Mr. Samsa, and, with his two companions, went in a\n",
      "straight line towards the man.  At first, he stood there still,\n",
      "looking at the ground as if the contents of his head were\n",
      "rearranging themselves into new positions.  \"Alright, we'll go\n",
      "then\", he said, and looked up at  Mr. Samsa as if he had been\n",
      "suddenly overcome with humility and wanted permission again from\n",
      "Mr. Samsa for his decision.  Mr. Samsa merely opened his eyes wide\n",
      "and briefly nodded to him several times.  At that, and without\n",
      "delay, the man actually did take long strides into the front\n",
      "hallway; his two friends had stopped rubbing their hands some time\n",
      "before and had been listening to what was being said.  Now they\n",
      "jumped off after their friend as if taken with a sudden fear that\n",
      "Mr. Samsa might go into the hallway in front of them and break the\n",
      "connection with their leader.  Once there, all three took their hats\n",
      "from the stand, took their sticks from the holder, bowed without a\n",
      "word and left the premises.  Mr. Samsa and the two women followed\n",
      "them out onto the landing; but they had had no reason to mistrust\n",
      "the men's intentions and as they leaned over the landing they saw how\n",
      "the three gentlemen made slow but steady progress down the many\n",
      "steps.  As they turned the corner on each floor they disappeared and\n",
      "would reappear a few moments later; the further down they went, the\n",
      "more that the Samsa family lost interest in them; when a butcher's\n",
      "boy, proud of posture with his tray on his head, passed them on his\n",
      "way up and came nearer than they were,  Mr. Samsa and the women came\n",
      "away from the landing and went, as if relieved, back into the flat.\n",
      "\n",
      "They decided the best way to make use of that day was for relaxation\n",
      "and to go for a walk; not only had they earned a break from work but\n",
      "they were in serious need of it.  So they sat at the table and wrote\n",
      "three letters of excusal,  Mr. Samsa to his employers,  Mrs. Samsa\n",
      "to her contractor and Grete to her principal.  The cleaner came in\n",
      "while they were writing to tell them she was going, she'd finished\n",
      "her work for that morning.  The three of them at first just nodded\n",
      "without looking up from what they were writing, and it was only when\n",
      "the cleaner still did not seem to want to leave that they looked up\n",
      "in irritation.  \"Well?\", asked  Mr. Samsa.  The charwoman stood in\n",
      "the doorway with a smile on her face as if she had some tremendous\n",
      "good news to report, but would only do it if she was clearly asked\n",
      "to.  The almost vertical little ostrich feather on her hat, which\n",
      "had been a source of irritation to  Mr. Samsa all the time she had\n",
      "been working for them, swayed gently in all directions.  \"What is it\n",
      "you want then?\", asked  Mrs. Samsa, whom the cleaner had the most\n",
      "respect for.  \"Yes\", she answered, and broke into a friendly laugh\n",
      "that made her unable to speak straight away, \"well then, that thing\n",
      "in there, you needn't worry about how you're going to get rid of it.\n",
      " That's all been sorted out.\"   Mrs. Samsa and Grete bent down over\n",
      "their letters as if intent on continuing with what they were\n",
      "writing;  Mr. Samsa saw that the cleaner wanted to start describing\n",
      "everything in detail but, with outstretched hand, he made it quite\n",
      "clear that she was not to.  So, as she was prevented from telling\n",
      "them all about it, she suddenly remembered what a hurry she was in\n",
      "and, clearly peeved, called out \"Cheerio then, everyone\", turned\n",
      "round sharply and left, slamming the door terribly as she went.\n",
      "\n",
      "\"Tonight she gets sacked\", said  Mr. Samsa, but he received no reply\n",
      "from either his wife or his daughter as the charwoman seemed to have\n",
      "destroyed the peace they had only just gained.  They got up and went\n",
      "over to the window where they remained with their arms around each\n",
      "other.  Mr. Samsa twisted round in his chair to look at them and sat\n",
      "there watching for a while.  Then he called out: \"Come here, then.\n",
      "Let's forget about all that old stuff, shall we.  Come and give me a\n",
      "bit of attention\". The two women immediately did as he said,\n",
      "hurrying over to him where they kissed him and hugged him and then\n",
      "they quickly finished their letters.\n",
      "\n",
      "After that, the three of them left the flat together, which was\n",
      "something they had not done for months, and took the tram out to the\n",
      "open country outside the town.  They had the tram, filled with warm\n",
      "sunshine, all to themselves.  Leant back comfortably on their seats,\n",
      "they discussed their prospects and found that on closer examination\n",
      "they were not at all bad - until then they had never asked each\n",
      "other about their work but all three had jobs which were very good\n",
      "and held particularly good promise for the future.  The greatest\n",
      "improvement for the time being, of course, would be achieved quite\n",
      "easily by moving house; what they needed now was a flat that was\n",
      "smaller and cheaper than the current one which had been chosen by\n",
      "Gregor, one that was in a better location and, most of all, more\n",
      "practical.  All the time, Grete was becoming livelier.  With all the\n",
      "worry they had been having of late her cheeks had become pale, but,\n",
      "while they were talking,  Mr. and  Mrs. Samsa were struck, almost\n",
      "simultaneously, with the thought of how their daughter was\n",
      "blossoming into a well built and beautiful young lady.  They became\n",
      "quieter.  Just from each other's glance and almost without knowing\n",
      "it they agreed that it would soon be time to find a good man for\n",
      "her.  And, as if in confirmation of their new dreams and good\n",
      "intentions, as soon as they reached their destination Grete was the\n",
      "first to get up and stretch out her young body.\n"
     ]
    }
   ],
   "source": [
    "print(sample_text)"
   ]
  },
  {
   "cell_type": "markdown",
   "metadata": {},
   "source": [
    "### Extract parts of Strings\n",
    "\n",
    "We can use the index function and square brackets [] to index aprt of the strings."
   ]
  },
  {
   "cell_type": "code",
   "execution_count": 43,
   "metadata": {},
   "outputs": [
    {
     "data": {
      "text/plain": [
       "'O'"
      ]
     },
     "execution_count": 43,
     "metadata": {},
     "output_type": "execute_result"
    }
   ],
   "source": [
    "sample_text[0]"
   ]
  },
  {
   "cell_type": "code",
   "execution_count": 44,
   "metadata": {},
   "outputs": [
    {
     "data": {
      "text/plain": [
       "'n'"
      ]
     },
     "execution_count": 44,
     "metadata": {},
     "output_type": "execute_result"
    }
   ],
   "source": [
    "sample_text[1]"
   ]
  },
  {
   "cell_type": "code",
   "execution_count": 45,
   "metadata": {},
   "outputs": [
    {
     "data": {
      "text/plain": [
       "'e'"
      ]
     },
     "execution_count": 45,
     "metadata": {},
     "output_type": "execute_result"
    }
   ],
   "source": [
    "sample_text[2]"
   ]
  },
  {
   "cell_type": "markdown",
   "metadata": {},
   "source": [
    "### Slicing:\n",
    "\n",
    "Remember, we can slice a string up to or between certain characters or by certan increments.\n",
    "\n",
    "`string[start:stop:step]`"
   ]
  },
  {
   "cell_type": "code",
   "execution_count": 46,
   "metadata": {},
   "outputs": [
    {
     "data": {
      "text/plain": [
       "'One morning, when Gregor Samsa woke from troubled dreams, he found\\nhimself transformed in his bed into a horrible vermin.'"
      ]
     },
     "execution_count": 46,
     "metadata": {},
     "output_type": "execute_result"
    }
   ],
   "source": [
    "sample_text[:121]"
   ]
  },
  {
   "cell_type": "code",
   "execution_count": 47,
   "metadata": {},
   "outputs": [
    {
     "data": {
      "text/plain": [
       "'One morning, when Gregor Samsa woke from troubled dreams, he found\\nhimself transformed in his bed into a horrible vermin.'"
      ]
     },
     "execution_count": 47,
     "metadata": {},
     "output_type": "execute_result"
    }
   ],
   "source": [
    "sample_text[0:121]"
   ]
  },
  {
   "cell_type": "code",
   "execution_count": 48,
   "metadata": {},
   "outputs": [
    {
     "data": {
      "text/plain": [
       "'  He lay on\\nhis armour-like back, and if he lifted his head a little he could\\nsee his brown belly, slightly domed and divided by '"
      ]
     },
     "execution_count": 48,
     "metadata": {},
     "output_type": "execute_result"
    }
   ],
   "source": [
    "sample_text[121:250]"
   ]
  },
  {
   "cell_type": "markdown",
   "metadata": {},
   "source": [
    "Let’s create a variable first_line and assign it the first sentence of *The Metamorphosis*."
   ]
  },
  {
   "cell_type": "code",
   "execution_count": 49,
   "metadata": {},
   "outputs": [
    {
     "name": "stdout",
     "output_type": "stream",
     "text": [
      "One morning, when Gregor Samsa woke from troubled dreams, he found\n",
      "himself transformed in his bed into a horrible vermin.\n"
     ]
    }
   ],
   "source": [
    "first_line = sample_text[:121]\n",
    "print(first_line)"
   ]
  },
  {
   "cell_type": "markdown",
   "metadata": {},
   "source": [
    "### String Methods"
   ]
  },
  {
   "cell_type": "markdown",
   "metadata": {},
   "source": [
    "`string.lower()`  makes the string lowercase\n",
    "\n",
    "`string.upper()`  makes the string uppercase\n",
    "\n",
    "`string.title()` makes the string titlecase\n",
    "\n",
    "`string.strip()` removes lead and trailing white spaces\n",
    "\n",
    "`string.replace('old string', 'new string')` replaces old string with new string\n",
    "\n",
    "`string.split('delim')` returns a list of substrings separated by the given delimiter\n",
    "\n",
    "`string.join(list)` opposite of split(), joins the elements in the given list together using the string\n",
    "\n",
    "`string.startswith('some string')` tests whether string begins with some string\n",
    "\n",
    "`string.endswith('some string')` tests whether string ends with some string\n",
    "\n",
    "`string.isspace()` tests whether string is a space"
   ]
  },
  {
   "cell_type": "markdown",
   "metadata": {},
   "source": [
    "### Replace words\n",
    "\n",
    "We can replace words with a string:\n",
    "\n",
    "`string.replace('old string', 'new string')` : replace one string with another"
   ]
  },
  {
   "cell_type": "code",
   "execution_count": 50,
   "metadata": {},
   "outputs": [
    {
     "name": "stdout",
     "output_type": "stream",
     "text": [
      "One evening, when Gregor Samsa woke from troubled dreams, he found\n",
      "himself transformed in his bed into a horrible vermin.\n"
     ]
    }
   ],
   "source": [
    "print(first_line.replace(\"morning\", \"evening\"))"
   ]
  },
  {
   "cell_type": "code",
   "execution_count": 51,
   "metadata": {},
   "outputs": [
    {
     "name": "stdout",
     "output_type": "stream",
     "text": [
      "One morning, when Gregor Samsa woke from troubled dreams, he found\n",
      "himself transformed in his bed into a horrible grilled cheese.\n"
     ]
    }
   ],
   "source": [
    "print(first_line.replace(\"vermin\", \"grilled cheese\"))"
   ]
  },
  {
   "cell_type": "markdown",
   "metadata": {},
   "source": [
    "### Transform Strings to Lowercase/Uppercase"
   ]
  },
  {
   "cell_type": "code",
   "execution_count": 52,
   "metadata": {},
   "outputs": [
    {
     "data": {
      "text/plain": [
       "'i am really very quiet'"
      ]
     },
     "execution_count": 52,
     "metadata": {},
     "output_type": "execute_result"
    }
   ],
   "source": [
    "(\"I am really very quiet\").lower()"
   ]
  },
  {
   "cell_type": "code",
   "execution_count": 53,
   "metadata": {},
   "outputs": [
    {
     "data": {
      "text/plain": [
       "'I AM REALLY VERY QUIET'"
      ]
     },
     "execution_count": 53,
     "metadata": {},
     "output_type": "execute_result"
    }
   ],
   "source": [
    "(\"I am really very quiet\").upper()"
   ]
  },
  {
   "cell_type": "markdown",
   "metadata": {},
   "source": [
    "### Your turn! \n",
    "\n",
    "## Exercise 3: \n",
    "\n",
    "Transform the first line of Kafka's novella to uppercase:"
   ]
  },
  {
   "cell_type": "code",
   "execution_count": null,
   "metadata": {},
   "outputs": [],
   "source": [
    "# Your code here"
   ]
  },
  {
   "cell_type": "markdown",
   "metadata": {},
   "source": [
    "### Split Strings By a Delimiter"
   ]
  },
  {
   "cell_type": "code",
   "execution_count": 54,
   "metadata": {},
   "outputs": [
    {
     "data": {
      "text/plain": [
       "['One',\n",
       " 'morning,',\n",
       " 'when',\n",
       " 'Gregor',\n",
       " 'Samsa',\n",
       " 'woke',\n",
       " 'from',\n",
       " 'troubled',\n",
       " 'dreams,',\n",
       " 'he',\n",
       " 'found',\n",
       " 'himself',\n",
       " 'transformed',\n",
       " 'in',\n",
       " 'his',\n",
       " 'bed',\n",
       " 'into',\n",
       " 'a',\n",
       " 'horrible',\n",
       " 'vermin.']"
      ]
     },
     "execution_count": 54,
     "metadata": {},
     "output_type": "execute_result"
    }
   ],
   "source": [
    "first_line.split()"
   ]
  },
  {
   "cell_type": "markdown",
   "metadata": {},
   "source": [
    "The default for split is spaces. But we can split on other things"
   ]
  },
  {
   "cell_type": "code",
   "execution_count": 55,
   "metadata": {},
   "outputs": [
    {
     "data": {
      "text/plain": [
       "['One morning, when Gregor Samsa woke from troubled ',\n",
       " ', he found\\nhimself transformed in his bed into a horrible vermin.']"
      ]
     },
     "execution_count": 55,
     "metadata": {},
     "output_type": "execute_result"
    }
   ],
   "source": [
    "first_line.split(\"dreams\")"
   ]
  },
  {
   "cell_type": "markdown",
   "metadata": {},
   "source": [
    "### Join Strings By a Delimiter\n"
   ]
  },
  {
   "cell_type": "code",
   "execution_count": 56,
   "metadata": {},
   "outputs": [
    {
     "data": {
      "text/plain": [
       "['One',\n",
       " 'morning,',\n",
       " 'when',\n",
       " 'Gregor',\n",
       " 'Samsa',\n",
       " 'woke',\n",
       " 'from',\n",
       " 'troubled',\n",
       " 'dreams,',\n",
       " 'he',\n",
       " 'found',\n",
       " 'himself',\n",
       " 'transformed',\n",
       " 'in',\n",
       " 'his',\n",
       " 'bed',\n",
       " 'into',\n",
       " 'a',\n",
       " 'horrible',\n",
       " 'vermin.']"
      ]
     },
     "execution_count": 56,
     "metadata": {},
     "output_type": "execute_result"
    }
   ],
   "source": [
    "kafka_split_words = first_line.split()\n",
    "kafka_split_words"
   ]
  },
  {
   "cell_type": "code",
   "execution_count": 57,
   "metadata": {},
   "outputs": [
    {
     "data": {
      "text/plain": [
       "'OneSPACEmorning,SPACEwhenSPACEGregorSPACESamsaSPACEwokeSPACEfromSPACEtroubledSPACEdreams,SPACEheSPACEfoundSPACEhimselfSPACEtransformedSPACEinSPACEhisSPACEbedSPACEintoSPACEaSPACEhorribleSPACEvermin.'"
      ]
     },
     "execution_count": 57,
     "metadata": {},
     "output_type": "execute_result"
    }
   ],
   "source": [
    "\"SPACE\".join(kafka_split_words)"
   ]
  },
  {
   "cell_type": "code",
   "execution_count": 58,
   "metadata": {},
   "outputs": [
    {
     "data": {
      "text/plain": [
       "'One morning, when Gregor Samsa woke from troubled dreams, he found himself transformed in his bed into a horrible vermin.'"
      ]
     },
     "execution_count": 58,
     "metadata": {},
     "output_type": "execute_result"
    }
   ],
   "source": [
    "\" \".join(kafka_split_words)"
   ]
  },
  {
   "cell_type": "code",
   "execution_count": 59,
   "metadata": {},
   "outputs": [
    {
     "data": {
      "text/plain": [
       "'Onepizzamorning,pizzawhenpizzaGregorpizzaSamsapizzawokepizzafrompizzatroubledpizzadreams,pizzahepizzafoundpizzahimselfpizzatransformedpizzainpizzahispizzabedpizzaintopizzaapizzahorriblepizzavermin.'"
      ]
     },
     "execution_count": 59,
     "metadata": {},
     "output_type": "execute_result"
    }
   ],
   "source": [
    "\"pizza\".join(kafka_split_words)"
   ]
  },
  {
   "cell_type": "markdown",
   "metadata": {},
   "source": [
    "### Files & Character Encoding\n",
    "\n",
    "To read, write, or manipulate a text file, you must `open` it first. This can be accomplished with the `open()` function."
   ]
  },
  {
   "cell_type": "code",
   "execution_count": 60,
   "metadata": {},
   "outputs": [
    {
     "data": {
      "text/plain": [
       "<_io.TextIOWrapper name='Kafka-The-Metamorphosis.txt' mode='r' encoding='utf-8'>"
      ]
     },
     "execution_count": 60,
     "metadata": {},
     "output_type": "execute_result"
    }
   ],
   "source": [
    "open('Kafka-The-Metamorphosis.txt', encoding='utf-8')"
   ]
  },
  {
   "cell_type": "markdown",
   "metadata": {},
   "source": [
    "#### Read a text file\n",
    "File objects are not readable. In order to make it readable, we need to use the .read() method"
   ]
  },
  {
   "cell_type": "code",
   "execution_count": 61,
   "metadata": {},
   "outputs": [
    {
     "data": {
      "text/plain": [
       "'One morning, when Gregor Samsa woke from troubled dreams, he found\\nhimself transformed in his bed into a horrible vermin.  He lay on\\nhis armour-like back, and if he lifted his head a little he could\\nsee his brown belly, slightly domed and divided by arches into stiff\\nsections.  The bedding was hardly able to cover it and seemed ready\\nto slide off any moment.  His many legs, pitifully thin compared\\nwith the size of the rest of him, waved about helplessly as he\\nlooked.\\n\\n\"What\\'s happened to me?\" he thought.  It wasn\\'t a dream.  His room,\\na proper human room although a little too small, lay peacefully\\nbetween its four familiar walls.  A collection of textile samples\\nlay spread out on the table - Samsa was a travelling salesman - and\\nabove it there hung a picture that he had recently cut out of an\\nillustrated magazine and housed in a nice, gilded frame.  It showed\\na lady fitted out with a fur hat and fur boa who sat upright,\\nraising a heavy fur muff that covered the whole of her lower arm\\ntowards the viewer.\\n\\nGregor then turned to look out the window at the dull weather.\\nDrops of rain could be heard hitting the pane, which made him feel\\nquite sad.  \"How about if I sleep a little bit longer and forget all\\nthis nonsense\", he thought, but that was something he was unable to\\ndo because he was used to sleeping on his right, and in his present\\nstate couldn\\'t get into that position.  However hard he threw\\nhimself onto his right, he always rolled back to where he was.  He\\nmust have tried it a hundred times, shut his eyes so that he\\nwouldn\\'t have to look at the floundering legs, and only stopped when\\nhe began to feel a mild, dull pain there that he had never felt\\nbefore.\\n\\n\"Oh, God\", he thought, \"what a strenuous career it is that I\\'ve\\nchosen! Travelling day in and day out.  Doing business like this\\ntakes much more effort than doing your own business at home, and on\\ntop of that there\\'s the curse of travelling, worries about making\\ntrain connections, bad and irregular food, contact with different\\npeople all the time so that you can never get to know anyone or\\nbecome friendly with them.  It can all go to Hell!\"  He felt a\\nslight itch up on his belly; pushed himself slowly up on his back\\ntowards the headboard so that he could lift his head better; found\\nwhere the itch was, and saw that it was covered with lots of little\\nwhite spots which he didn\\'t know what to make of; and when he tried\\nto feel the place with one of his legs he drew it quickly back\\nbecause as soon as he touched it he was overcome by a cold shudder.\\n\\nHe slid back into his former position.  \"Getting up early all the\\ntime\", he thought, \"it makes you stupid.  You\\'ve got to get enough\\nsleep.  Other travelling salesmen live a life of luxury.  For\\ninstance, whenever I go back to the guest house during the morning\\nto copy out the contract, these gentlemen are always still sitting\\nthere eating their breakfasts.  I ought to just try that with my\\nboss; I\\'d get kicked out on the spot.  But who knows, maybe that\\nwould be the best thing for me.  If I didn\\'t have my parents to\\nthink about I\\'d have given in my notice a long time ago, I\\'d have\\ngone up to the boss and told him just what I think, tell him\\neverything I would, let him know just what I feel.  He\\'d fall right\\noff his desk! And it\\'s a funny sort of business to be sitting up\\nthere at your desk, talking down at your subordinates from up there,\\nespecially when you have to go right up close because the boss is\\nhard of hearing.  Well, there\\'s still some hope; once I\\'ve got the\\nmoney together to pay off my parents\\' debt to him - another five or\\nsix years I suppose - that\\'s definitely what I\\'ll do.  That\\'s when\\nI\\'ll make the big change.  First of all though, I\\'ve got to get up,\\nmy train leaves at five.\"\\n\\nAnd he looked over at the alarm clock, ticking on the chest of\\ndrawers.  \"God in Heaven!\" he thought.  It was half past six and the\\nhands were quietly moving forwards, it was even later than half\\npast, more like quarter to seven.  Had the alarm clock not rung? He\\ncould see from the bed that it had been set for four o\\'clock as it\\nshould have been; it certainly must have rung.  Yes, but was it\\npossible to quietly sleep through that furniture-rattling noise?\\nTrue, he had not slept peacefully, but probably all the more deeply\\nbecause of that.  What should he do now? The next train went at\\nseven; if he were to catch that he would have to rush like mad and\\nthe collection of samples was still not packed, and he did not at\\nall feel particularly fresh and lively.  And even if he did catch\\nthe train he would not avoid his boss\\'s anger as the office\\nassistant would have been there to see the five o\\'clock train go, he\\nwould have put in his report about Gregor\\'s not being there a long\\ntime ago.  The office assistant was the boss\\'s man, spineless, and\\nwith no understanding.  What about if he reported sick? But that\\nwould be extremely strained and suspicious as in fifteen years of\\nservice Gregor had never once yet been ill.  His boss would\\ncertainly come round with the doctor from the medical insurance\\ncompany, accuse his parents of having a lazy son, and accept the\\ndoctor\\'s recommendation not to make any claim as the doctor believed\\nthat no-one was ever ill but that many were workshy.  And what\\'s\\nmore, would he have been entirely wrong in this case? Gregor did in\\nfact, apart from excessive sleepiness after sleeping for so long,\\nfeel completely well and even felt much hungrier than usual.\\n\\nHe was still hurriedly thinking all this through, unable to decide\\nto get out of the bed, when the clock struck quarter to seven.\\nThere was a cautious knock at the door near his head.  \"Gregor\",\\nsomebody called - it was his mother - \"it\\'s quarter to seven.\\nDidn\\'t you want to go somewhere?\"  That gentle voice! Gregor was\\nshocked when he heard his own voice answering, it could hardly be\\nrecognised as the voice he had had before.  As if from deep inside\\nhim, there was a painful and uncontrollable squeaking mixed in with\\nit, the words could be made out at first but then there was a sort\\nof echo which made them unclear, leaving the hearer unsure whether\\nhe had heard properly or not.  Gregor had wanted to give a full\\nanswer and explain everything, but in the circumstances contented\\nhimself with saying: \"Yes, mother, yes, thank-you, I\\'m getting up\\nnow.\"  The change in Gregor\\'s voice probably could not be noticed\\noutside through the wooden door, as his mother was satisfied with\\nthis explanation and shuffled away.  But this short conversation\\nmade the other members of the family aware that Gregor, against\\ntheir expectations was still at home, and soon his father came\\nknocking at one of the side doors, gently, but with his fist.\\n\"Gregor, Gregor\", he called, \"what\\'s wrong?\"  And after a short\\nwhile he called again with a warning deepness in his voice: \"Gregor!\\nGregor!\"  At the other side door his sister came plaintively:\\n\"Gregor? Aren\\'t you well? Do you need anything?\"  Gregor answered to\\nboth sides: \"I\\'m ready, now\", making an effort to remove all the\\nstrangeness from his voice by enunciating very carefully and putting\\nlong pauses between each, individual word.  His father went back to\\nhis breakfast, but his sister whispered: \"Gregor, open the door, I\\nbeg of you.\"  Gregor, however, had no thought of opening the door,\\nand instead congratulated himself for his cautious habit, acquired\\nfrom his travelling, of locking all doors at night even when he was\\nat home.\\n\\nThe first thing he wanted to do was to get up in peace without being\\ndisturbed, to get dressed, and most of all to have his breakfast.\\nOnly then would he consider what to do next, as he was well aware\\nthat he would not bring his thoughts to any sensible conclusions by\\nlying in bed.  He remembered that he had often felt a slight pain in\\nbed, perhaps caused by lying awkwardly, but that had always turned\\nout to be pure imagination and he wondered how his imaginings would\\nslowly resolve themselves today.  He did not have the slightest\\ndoubt that the change in his voice was nothing more than the first\\nsign of a serious cold, which was an occupational hazard for\\ntravelling salesmen.\\n\\nIt was a simple matter to throw off the covers; he only had to blow\\nhimself up a little and they fell off by themselves.  But it became\\ndifficult after that, especially as he was so exceptionally broad.\\nHe would have used his arms and his hands to push himself up; but\\ninstead of them he only had all those little legs continuously\\nmoving in different directions, and which he was moreover unable to\\ncontrol.  If he wanted to bend one of them, then that was the first\\none that would stretch itself out; and if he finally managed to do\\nwhat he wanted with that leg, all the others seemed to be set free\\nand would move about painfully.  \"This is something that can\\'t be\\ndone in bed\", Gregor said to himself, \"so don\\'t keep trying to do\\nit\".\\n\\nThe first thing he wanted to do was get the lower part of his body\\nout of the bed, but he had never seen this lower part, and could not\\nimagine what it looked like; it turned out to be too hard to move;\\nit went so slowly; and finally, almost in a frenzy, when he\\ncarelessly shoved himself forwards with all the force he could\\ngather, he chose the wrong direction, hit hard against the lower\\nbedpost, and learned from the burning pain he felt that the lower\\npart of his body might well, at present, be the most sensitive.\\n\\nSo then he tried to get the top part of his body out of the bed\\nfirst, carefully turning his head to the side.  This he managed\\nquite easily, and despite its breadth and its weight, the bulk of\\nhis body eventually followed slowly in the direction of the head.\\nBut when he had at last got his head out of the bed and into the\\nfresh air it occurred to him that if he let himself fall it would be\\na miracle if his head were not injured, so he became afraid to carry\\non pushing himself forward the same way.  And he could not knock\\nhimself out now at any price; better to stay in bed than lose\\nconsciousness.\\n\\nIt took just as much effort to get back to where he had been\\nearlier, but when he lay there sighing, and was once more watching\\nhis legs as they struggled against each other even harder than\\nbefore, if that was possible, he could think of no way of bringing\\npeace and order to this chaos.  He told himself once more that it\\nwas not possible for him to stay in bed and that the most sensible\\nthing to do would be to get free of it in whatever way he could at\\nwhatever sacrifice.  At the same time, though, he did not forget to\\nremind himself that calm consideration was much better than rushing\\nto desperate conclusions.  At times like this he would direct his\\neyes to the window and look out as clearly as he could, but\\nunfortunately, even the other side of the narrow street was\\nenveloped in morning fog and the view had little confidence or cheer\\nto offer him.  \"Seven o\\'clock, already\", he said to himself when the\\nclock struck again, \"seven o\\'clock, and there\\'s still a fog like\\nthis.\"  And he lay there quietly a while longer, breathing lightly\\nas if he perhaps expected the total stillness to bring things back\\nto their real and natural state.\\n\\nBut then he said to himself: \"Before it strikes quarter past seven\\nI\\'ll definitely have to have got properly out of bed.  And by then\\nsomebody will have come round from work to ask what\\'s happened to me\\nas well, as they open up at work before seven o\\'clock.\"  And so he\\nset himself to the task of swinging the entire length of his body\\nout of the bed all at the same time.  If he succeeded in falling out\\nof bed in this way and kept his head raised as he did so he could\\nprobably avoid injuring it.  His back seemed to be quite hard, and\\nprobably nothing would happen to it falling onto the carpet.  His\\nmain concern was for the loud noise he was bound to make, and which\\neven through all the doors would probably raise concern if not\\nalarm.  But it was something that had to be risked.\\n\\nWhen Gregor was already sticking half way out of the bed - the new\\nmethod was more of a game than an effort, all he had to do was rock\\nback and forth - it occurred to him how simple everything would be\\nif somebody came to help him.  Two strong people - he had his father\\nand the maid in mind - would have been more than enough; they would\\nonly have to push their arms under the dome of his back, peel him\\naway from the bed, bend down with the load and then be patient and\\ncareful as he swang over onto the floor, where, hopefully, the\\nlittle legs would find a use.  Should he really call for help\\nthough, even apart from the fact that all the doors were locked?\\nDespite all the difficulty he was in, he could not suppress a smile\\nat this thought.\\n\\nAfter a while he had already moved so far across that it would have\\nbeen hard for him to keep his balance if he rocked too hard.  The\\ntime was now ten past seven and he would have to make a final\\ndecision very soon.  Then there was a ring at the door of the flat.\\n\"That\\'ll be someone from work\", he said to himself, and froze very\\nstill, although his little legs only became all the more lively as\\nthey danced around.  For a moment everything remained quiet.\\n\"They\\'re not opening the door\", Gregor said to himself, caught in\\nsome nonsensical hope.  But then of course, the maid\\'s firm steps\\nwent to the door as ever and opened it.  Gregor only needed to hear\\nthe visitor\\'s first words of greeting and he knew who it was - the\\nchief clerk himself.  Why did Gregor have to be the only one\\ncondemned to work for a company where they immediately became highly\\nsuspicious at the slightest shortcoming? Were all employees, every\\none of them, louts, was there not one of them who was faithful and\\ndevoted who would go so mad with pangs of conscience that he\\ncouldn\\'t get out of bed if he didn\\'t spend at least a couple of\\nhours in the morning on company business? Was it really not enough\\nto let one of the trainees make enquiries - assuming enquiries were\\neven necessary - did the chief clerk have to come himself, and did\\nthey have to show the whole, innocent family that this was so\\nsuspicious that only the chief clerk could be trusted to have the\\nwisdom to investigate it? And more because these thoughts had made\\nhim upset than through any proper decision, he swang himself with\\nall his force out of the bed.  There was a loud thump, but it wasn\\'t\\nreally a loud noise.  His fall was softened a little by the carpet,\\nand Gregor\\'s back was also more elastic than he had thought, which\\nmade the sound muffled and not too noticeable.  He had not held his\\nhead carefully enough, though, and hit it as he fell; annoyed and in\\npain, he turned it and rubbed it against the carpet.\\n\\n\"Something\\'s fallen down in there\", said the chief clerk in the room\\non the left.  Gregor tried to imagine whether something of the sort\\nthat had happened to him today could ever happen to the chief clerk\\ntoo; you had to concede that it was possible.  But as if in gruff\\nreply to this question, the chief clerk\\'s firm footsteps in his\\nhighly polished boots could now be heard in the adjoining room.\\nFrom the room on his right, Gregor\\'s sister whispered to him to let\\nhim know: \"Gregor, the chief clerk is here.\"  \"Yes, I know\", said\\nGregor to himself; but without daring to raise his voice loud enough\\nfor his sister to hear him.\\n\\n\"Gregor\", said his father now from the room to his left, \"the chief\\nclerk has come round and wants to know why you didn\\'t leave on the\\nearly train.  We don\\'t know what to say to him.  And anyway, he\\nwants to speak to you personally.  So please open up this door.  I\\'m\\nsure he\\'ll be good enough to forgive the untidiness of your room.\"\\nThen the chief clerk called \"Good morning,  Mr. Samsa\". \"He isn\\'t\\nwell\", said his mother to the chief clerk, while his father\\ncontinued to speak through the door.  \"He isn\\'t well, please believe\\nme.  Why else would Gregor have missed a train! The lad only ever\\nthinks about the business.  It nearly makes me cross the way he\\nnever goes out in the evenings; he\\'s been in town for a week now but\\nstayed home every evening.  He sits with us in the kitchen and just\\nreads the paper or studies train timetables.  His idea of relaxation\\nis working with his fretsaw.  He\\'s made a little frame, for\\ninstance, it only took him two or three evenings, you\\'ll be amazed\\nhow nice it is; it\\'s hanging up in his room; you\\'ll see it as soon\\nas Gregor opens the door.  Anyway, I\\'m glad you\\'re here; we wouldn\\'t\\nhave been able to get Gregor to open the door by ourselves; he\\'s so\\nstubborn; and I\\'m sure he isn\\'t well, he said this morning that he\\nis, but he isn\\'t.\"  \"I\\'ll be there in a moment\", said Gregor slowly\\nand thoughtfully, but without moving so that he would not miss any\\nword of the conversation.  \"Well I can\\'t think of any other way of\\nexplaining it,  Mrs. Samsa\", said the chief clerk, \"I hope it\\'s\\nnothing serious.  But on the other hand, I must say that if we\\npeople in commerce ever become slightly unwell then, fortunately or\\nunfortunately as you like, we simply have to overcome it because of\\nbusiness considerations.\"  \"Can the chief clerk come in to see you\\nnow then?\", asked his father impatiently, knocking at the door\\nagain.  \"No\", said Gregor.  In the room on his right there followed\\na painful silence; in the room on his left his sister began to cry.\\n\\nSo why did his sister not go and join the others? She had probably\\nonly just got up and had not even begun to get dressed.  And why was\\nshe crying? Was it because he had not got up, and had not let the\\nchief clerk in, because he was in danger of losing his job and if\\nthat happened his boss would once more pursue their parents with the\\nsame demands as before? There was no need to worry about things like\\nthat yet.  Gregor was still there and had not the slightest\\nintention of abandoning his family.  For the time being he just lay\\nthere on the carpet, and no-one who knew the condition he was in\\nwould seriously have expected him to let the chief clerk in.  It was\\nonly a minor discourtesy, and a suitable excuse could easily be\\nfound for it later on, it was not something for which Gregor could\\nbe sacked on the spot.  And it seemed to Gregor much more sensible\\nto leave him now in peace instead of disturbing him with talking at\\nhim and crying.  But the others didn\\'t know what was happening, they\\nwere worried, that would excuse their behaviour.\\n\\nThe chief clerk now raised his voice, \"Mr. Samsa\", he called to him,\\n\"what is wrong? You barricade yourself in your room, give us no more\\nthan yes or no for an answer, you are causing serious and\\nunnecessary concern to your parents and you fail - and I mention\\nthis just by the way - you fail to carry out your business duties in\\na way that is quite unheard of.  I\\'m speaking here on behalf of your\\nparents and of your employer, and really must request a clear and\\nimmediate explanation.  I am astonished, quite astonished.  I\\nthought I knew you as a calm and sensible person, and now you\\nsuddenly seem to be showing off with peculiar whims.  This morning,\\nyour employer did suggest a possible reason for your failure to\\nappear, it\\'s true - it had to do with the money that was recently\\nentrusted to you - but I came near to giving him my word of honour\\nthat that could not be the right explanation.  But now that I see\\nyour incomprehensible stubbornness I no longer feel any wish\\nwhatsoever to intercede on your behalf.  And nor is your position\\nall that secure.  I had originally intended to say all this to you\\nin private, but since you cause me to waste my time here for no good\\nreason I don\\'t see why your parents should not also learn of it.\\nYour turnover has been very unsatisfactory of late; I grant you that\\nit\\'s not the time of year to do especially good business, we\\nrecognise that; but there simply is no time of year to do no\\nbusiness at all,  Mr. Samsa, we cannot allow there to be.\"\\n\\n\"But Sir\", called Gregor, beside himself and forgetting all else in\\nthe excitement, \"I\\'ll open up immediately, just a moment.  I\\'m\\nslightly unwell, an attack of dizziness, I haven\\'t been able to get\\nup.  I\\'m still in bed now.  I\\'m quite fresh again now, though.  I\\'m\\njust getting out of bed.  Just a moment.  Be patient! It\\'s not quite\\nas easy as I\\'d thought.  I\\'m quite alright now, though.  It\\'s\\nshocking, what can suddenly happen to a person! I was quite alright\\nlast night, my parents know about it, perhaps better than me, I had\\na small symptom of it last night already.  They must have noticed\\nit.  I don\\'t know why I didn\\'t let you know at work! But you always\\nthink you can get over an illness without staying at home.  Please,\\ndon\\'t make my parents suffer! There\\'s no basis for any of the\\naccusations you\\'re making; nobody\\'s ever said a word to me about any\\nof these things.  Maybe you haven\\'t read the latest contracts I sent\\nin.  I\\'ll set off with the eight o\\'clock train, as well, these few\\nhours of rest have given me strength.  You don\\'t need to wait, sir;\\nI\\'ll be in the office soon after you, and please be so good as to\\ntell that to the boss and recommend me to him!\"\\n\\nAnd while Gregor gushed out these words, hardly knowing what he was\\nsaying, he made his way over to the chest of drawers - this was\\neasily done, probably because of the practise he had already had in\\nbed - where he now tried to get himself upright.  He really did want\\nto open the door, really did want to let them see him and to speak\\nwith the chief clerk; the others were being so insistent, and he was\\ncurious to learn what they would say when they caught sight of him.\\nIf they were shocked then it would no longer be Gregor\\'s\\nresponsibility and he could rest.  If, however, they took everything\\ncalmly he would still have no reason to be upset, and if he hurried\\nhe really could be at the station for eight o\\'clock.  The first few\\ntimes he tried to climb up on the smooth chest of drawers he just\\nslid down again, but he finally gave himself one last swing and\\nstood there upright; the lower part of his body was in serious pain\\nbut he no longer gave any attention to it.  Now he let himself fall\\nagainst the back of a nearby chair and held tightly to the edges of\\nit with his little legs.  By now he had also calmed down, and kept\\nquiet so that he could listen to what the chief clerk was saying.\\n\\n\"Did you understand a word of all that?\" the chief clerk asked his\\nparents, \"surely he\\'s not trying to make fools of us\". \"Oh, God!\"\\ncalled his mother, who was already in tears, \"he could be seriously\\nill and we\\'re making him suffer.  Grete! Grete!\" she then cried.\\n\"Mother?\" his sister called from the other side.  They communicated\\nacross Gregor\\'s room.  \"You\\'ll have to go for the doctor straight\\naway.  Gregor is ill.  Quick, get the doctor.  Did you hear the way\\nGregor spoke just now?\"  \"That was the voice of an animal\", said the\\nchief clerk, with a calmness that was in contrast with his mother\\'s\\nscreams.  \"Anna! Anna!\" his father called into the kitchen through\\nthe entrance hall, clapping his hands, \"get a locksmith here, now!\"\\nAnd the two girls, their skirts swishing, immediately ran out\\nthrough the hall, wrenching open the front door of the flat as they\\nwent.  How had his sister managed to get dressed so quickly? There\\nwas no sound of the door banging shut again; they must have left it\\nopen;  people often do in homes where something awful has happened.\\n\\nGregor, in contrast, had become much calmer.  So they couldn\\'t\\nunderstand his words any more, although they seemed clear enough to\\nhim, clearer than before - perhaps his ears had become used to the\\nsound.  They had realised, though, that there was something wrong\\nwith him, and were ready to help.  The first response to his\\nsituation had been confident and wise, and that made him feel\\nbetter.  He felt that he had been drawn back in among people, and\\nfrom the doctor and the locksmith he expected great and surprising\\nachievements - although he did not really distinguish one from the\\nother.  Whatever was said next would be crucial, so, in order to\\nmake his voice as clear as possible, he coughed a little, but taking\\ncare to do this not too loudly as even this might well sound\\ndifferent from the way that a human coughs and he was no longer sure\\nhe could judge this for himself.  Meanwhile, it had become very\\nquiet in the next room.  Perhaps his parents were sat at the table\\nwhispering with the chief clerk, or perhaps they were all pressed\\nagainst the door and listening.\\n\\nGregor slowly pushed his way over to the door with the chair.  Once\\nthere he let go of it and threw himself onto the door, holding\\nhimself upright against it using the adhesive on the tips of his\\nlegs.  He rested there a little while to recover from the effort\\ninvolved and then set himself to the task of turning the key in the\\nlock with his mouth.  He seemed, unfortunately, to have no proper\\nteeth - how was he, then, to grasp the key? - but the lack of teeth\\nwas, of course, made up for with a very strong jaw; using the jaw,\\nhe really was able to start the key turning, ignoring the fact that\\nhe must have been causing some kind of damage as a brown fluid came\\nfrom his mouth, flowed over the key and dripped onto the floor.\\n\"Listen\", said the chief clerk in the next room, \"he\\'s turning the\\nkey.\"  Gregor was greatly encouraged by this; but they all should\\nhave been calling to him, his father and his mother too: \"Well done,\\nGregor\", they should have cried, \"keep at it, keep hold of the\\nlock!\"  And with the idea that they were all excitedly following his\\nefforts, he bit on the key with all his strength, paying no\\nattention to the pain he was causing himself.  As the key turned\\nround he turned around the lock with it, only holding himself\\nupright with his mouth, and hung onto the key or pushed it down\\nagain with the whole weight of his body as needed.  The clear sound\\nof the lock as it snapped back was Gregor\\'s sign that he could break\\nhis concentration, and as he regained his breath he said to himself:\\n\"So, I didn\\'t need the locksmith after all\". Then he lay his head on\\nthe handle of the door to open it completely.\\n\\nBecause he had to open the door in this way, it was already wide\\nopen before he could be seen.  He had first to slowly turn himself\\naround one of the double doors, and he had to do it very carefully\\nif he did not want to fall flat on his back before entering the\\nroom.  He was still occupied with this difficult movement, unable to\\npay attention to anything else, when he heard the chief clerk\\nexclaim a loud \"Oh!\", which sounded like the soughing of the wind.\\nNow he also saw him - he was the nearest to the door - his hand\\npressed against his open mouth and slowly retreating as if driven by\\na steady and invisible force.  Gregor\\'s mother, her hair still\\ndishevelled from bed despite the chief clerk\\'s being there, looked\\nat his father.  Then she unfolded her arms, took two steps forward\\ntowards Gregor and sank down onto the floor into her skirts that\\nspread themselves out around her as her head disappeared down onto\\nher breast.  His father looked hostile, and clenched his fists as if\\nwanting to knock Gregor back into his room.  Then he looked\\nuncertainly round the living room, covered his eyes with his hands\\nand wept so that his powerful chest shook.\\n\\nSo Gregor did not go into the room, but leant against the inside of\\nthe other door which was still held bolted in place.  In this way\\nonly half of his body could be seen, along with his head above it\\nwhich he leant over to one side as he peered out at the others.\\nMeanwhile the day had become much lighter; part of the endless,\\ngrey-black building on the other side of the street - which was a\\nhospital - could be seen quite clearly with the austere and regular\\nline of windows piercing its facade; the rain was still\\nfalling, now throwing down large, individual droplets which hit the\\nground one at a time.  The washing up from breakfast lay on the\\ntable; there was so much of it because, for Gregor\\'s father,\\nbreakfast was the most important meal of the day and he would\\nstretch it out for several hours as he sat reading a number of\\ndifferent newspapers.  On the wall exactly opposite there was\\nphotograph of Gregor when he was a lieutenant in the army, his sword\\nin his hand and a carefree smile on his face as he called forth\\nrespect for his uniform and bearing.  The door to the entrance hall\\nwas open and as the front door of the flat was also open he could\\nsee onto the landing and the stairs where they began their way down\\nbelow.\\n\\n\"Now, then\", said Gregor, well aware that he was the only one to\\nhave kept calm, \"I\\'ll get dressed straight away now, pack up my\\nsamples and set off.  Will you please just let me leave? You can\\nsee\", he said to the chief clerk, \"that I\\'m not stubborn and I\\nlike to do my job; being a commercial traveller is arduous but\\nwithout travelling I couldn\\'t earn my living.  So where are you\\ngoing, in to the office? Yes? Will you report everything accurately,\\nthen? It\\'s quite possible for someone to be temporarily unable to\\nwork, but that\\'s just the right time to remember what\\'s been\\nachieved in the past and consider that later on, once the difficulty\\nhas been removed, he will certainly work with all the more diligence\\nand concentration.  You\\'re well aware that I\\'m seriously in debt to\\nour employer as well as having to look after my parents and my\\nsister, so that I\\'m trapped in a difficult situation, but I will\\nwork my way out of it again.  Please don\\'t make things any harder\\nfor me than they are already, and don\\'t take sides against me at the\\noffice.  I know that nobody likes the travellers.  They think we\\nearn an enormous wage as well as having a soft time of it.  That\\'s\\njust prejudice but they have no particular reason to think better of\\nit.  But you, sir, you have a better overview than the rest of the\\nstaff, in fact, if I can say this in confidence, a better overview\\nthan the boss himself - it\\'s very easy for a businessman like him to\\nmake mistakes about his employees and judge them more harshly than\\nhe should.  And you\\'re also well aware that we travellers spend\\nalmost the whole year away from the office, so that we can very\\neasily fall victim to gossip and chance and groundless complaints,\\nand it\\'s almost impossible to defend yourself from that sort of\\nthing, we don\\'t usually even hear about them, or if at all it\\'s when\\nwe arrive back home exhausted from a trip, and that\\'s when we feel\\nthe harmful effects of what\\'s been going on without even knowing\\nwhat caused them.  Please, don\\'t go away, at least first say\\nsomething to show that you grant that I\\'m at least partly right!\"\\n\\nBut the chief clerk had turned away as soon as Gregor had started to\\nspeak, and, with protruding lips, only stared back at him over his\\ntrembling shoulders as he left.  He did not keep still for a moment\\nwhile Gregor was speaking, but moved steadily towards the door\\nwithout taking his eyes off him.  He moved very gradually, as if\\nthere had been some secret prohibition on leaving the room.  It was\\nonly when he had reached the entrance hall that he made a sudden\\nmovement, drew his foot from the living room, and rushed forward in\\na panic.  In the hall, he stretched his right hand far out towards\\nthe stairway as if out there, there were some supernatural force\\nwaiting to save him.\\n\\nGregor realised that it was out of the question to let the chief\\nclerk go away in this mood if his position in the firm was not to be\\nput into extreme danger.  That was something his parents did not\\nunderstand very well; over the years, they had become convinced that\\nthis job would provide for Gregor for his entire life, and besides,\\nthey had so much to worry about at present that they had lost sight\\nof any thought for the future.  Gregor, though, did think about the\\nfuture.  The chief clerk had to be held back, calmed down, convinced\\nand finally won over; the future of Gregor and his family depended\\non it! If only his sister were here! She was clever; she was already\\nin tears while Gregor was still lying peacefully on his back.  And\\nthe chief clerk was a lover of women, surely she could persuade him;\\nshe would close the front door in the entrance hall and talk him out\\nof his shocked state.  But his sister was not there, Gregor would\\nhave to do the job himself.  And without considering that he still\\nwas not familiar with how well he could move about in his present\\nstate, or that his speech still might not - or probably would not -\\nbe understood, he let go of the door; pushed himself through the\\nopening; tried to reach the chief clerk on the landing who,\\nridiculously, was holding on to the banister with both hands; but\\nGregor fell immediately over and, with a little scream as he sought\\nsomething to hold onto, landed on his numerous little legs.  Hardly\\nhad that happened than, for the first time that day, he began to\\nfeel alright with his body; the little legs had the solid ground\\nunder them; to his pleasure, they did exactly as he told them; they\\nwere even making the effort to carry him where he wanted to go; and\\nhe was soon believing that all his sorrows would soon be finally at\\nan end.  He held back the urge to move but swayed from side to side\\nas he crouched there on the floor.  His mother was not far away in\\nfront of him and seemed, at first, quite engrossed in herself, but\\nthen she suddenly jumped up with her arms outstretched and her\\nfingers spread shouting: \"Help, for pity\\'s sake, Help!\"  The way she\\nheld her head suggested she wanted to see Gregor better, but the\\nunthinking way she was hurrying backwards showed that she did not;\\nshe had forgotten that the table was behind her with all the\\nbreakfast things on it; when she reached the table she sat quickly\\ndown on it without knowing what she was doing; without even seeming\\nto notice that the coffee pot had been knocked over and a gush of\\ncoffee was pouring down onto the carpet.\\n\\n\"Mother, mother\", said Gregor gently, looking up at her.  He had\\ncompletely forgotten the chief clerk for the moment, but could not\\nhelp himself snapping in the air with his jaws at the sight of the\\nflow of coffee.  That set his mother screaming anew, she fled from\\nthe table and into the arms of his father as he rushed towards her.\\nGregor, though, had no time to spare for his parents now; the chief\\nclerk had already reached the stairs; with his chin on the banister,\\nhe looked back for the last time.  Gregor made a run for him; he\\nwanted to be sure of reaching him; the chief clerk must have\\nexpected something, as he leapt down several steps at once and\\ndisappeared; his shouts resounding all around the staircase.  The\\nflight of the chief clerk seemed, unfortunately, to put Gregor\\'s\\nfather into a panic as well.  Until then he had been relatively self\\ncontrolled, but now, instead of running after the chief clerk\\nhimself, or at least not impeding Gregor as he ran after him,\\nGregor\\'s father seized the chief clerk\\'s stick in his right hand\\n(the chief clerk had left it behind on a chair, along with his hat\\nand overcoat), picked up a large newspaper from the table with his\\nleft, and used them to drive Gregor back into his room, stamping his\\nfoot at him as he went.  Gregor\\'s appeals to his father were of no\\nhelp, his appeals were simply not understood, however much he humbly\\nturned his head his father merely stamped his foot all the harder.\\nAcross the room, despite the chilly weather, Gregor\\'s mother had\\npulled open a window, leant far out of it and pressed her hands to\\nher face.  A strong draught of air flew in from the street towards\\nthe stairway, the curtains flew up, the newspapers on the table\\nfluttered and some of them were blown onto the floor.  Nothing would\\nstop Gregor\\'s father as he drove him back, making hissing noises at\\nhim like a wild man.  Gregor had never had any practice in moving\\nbackwards and was only able to go very slowly.  If Gregor had only\\nbeen allowed to turn round he would have been back in his room\\nstraight away, but he was afraid that if he took the time to do that\\nhis father would become impatient, and there was the threat of a\\nlethal blow to his back or head from the stick in his father\\'s hand\\nany moment.  Eventually, though, Gregor realised that he had no\\nchoice as he saw, to his disgust, that he was quite incapable of\\ngoing backwards in a straight line; so he began, as quickly as\\npossible and with frequent anxious glances at his father, to turn\\nhimself round.  It went very slowly, but perhaps his father was able\\nto see his good intentions as he did nothing to hinder him, in fact\\nnow and then he used the tip of his stick to give directions from a\\ndistance as to which way to turn.  If only his father would stop\\nthat unbearable hissing! It was making Gregor quite confused.  When\\nhe had nearly finished turning round, still listening to that\\nhissing, he made a mistake and turned himself back a little the way\\nhe had just come.  He was pleased when he finally had his head in\\nfront of the doorway, but then saw that it was too narrow, and his\\nbody was too broad to get through it without further difficulty.  In\\nhis present mood, it obviously did not occur to his father to open\\nthe other of the double doors so that Gregor would have enough space\\nto get through.  He was merely fixed on the idea that Gregor should\\nbe got back into his room as quickly as possible.  Nor would he ever\\nhave allowed Gregor the time to get himself upright as preparation\\nfor getting through the doorway.  What he did, making more noise\\nthan ever, was to drive Gregor forwards all the harder as if there\\nhad been nothing in the way; it sounded to Gregor as if there was\\nnow more than one father behind him; it was not a pleasant\\nexperience, and Gregor pushed himself into the doorway without\\nregard for what might happen.  One side of his body lifted itself,\\nhe lay at an angle in the doorway, one flank scraped on the white\\ndoor and was painfully injured, leaving vile brown flecks on it,\\nsoon he was stuck fast and would not have been able to move at all\\nby himself, the little legs along one side hung quivering in the air\\nwhile those on the other side were pressed painfully against the\\nground.  Then his father gave him a hefty shove from behind which\\nreleased him from where he was held and sent him flying, and heavily\\nbleeding, deep into his room.  The door was slammed shut with the\\nstick, then, finally, all was quiet.\\n\\n\\n\\nII\\n\\n\\nIt was not until it was getting dark that evening that Gregor awoke\\nfrom his deep and coma-like sleep.  He would have woken soon\\nafterwards anyway even if he hadn\\'t been disturbed, as he had had\\nenough sleep and felt fully rested.  But he had the impression that\\nsome hurried steps and the sound of the door leading into the front\\nroom being carefully shut had woken him.  The light from the\\nelectric street lamps shone palely here and there onto the ceiling\\nand tops of the furniture, but down below, where Gregor was, it was\\ndark.  He pushed himself over to the door, feeling his way clumsily\\nwith his antennae - of which he was now beginning to learn the value\\n- in order to see what had been happening there.  The whole of his\\nleft side seemed like one, painfully stretched scar,  and he limped\\nbadly on his two rows of legs.  One of the legs had been badly\\ninjured in the events of that morning - it was nearly a miracle that\\nonly one of them had been - and dragged along lifelessly.\\n\\nIt was only when he had reached the door that he realised what it\\nactually was that had drawn him over to it; it was the smell of\\nsomething to eat.  By the door there was a dish filled with\\nsweetened milk with little pieces of white bread floating in it.  He\\nwas so pleased he almost laughed, as he was even hungrier than he\\nhad been that morning, and immediately dipped his head into the\\nmilk, nearly covering his eyes with it.  But he soon drew his head\\nback again in disappointment; not only did the pain in his tender\\nleft side make it difficult to eat the food - he was only able to\\neat if his whole body worked together as a snuffling whole - but the\\nmilk did not taste at all nice.  Milk like this was normally his\\nfavourite drink, and his sister had certainly left it there for him\\nbecause of that, but he turned, almost against his own will, away\\nfrom the dish and crawled back into the centre of the room.\\n\\nThrough the crack in the door, Gregor could see that the gas had\\nbeen lit in the living room.  His father at this time would normally\\nbe sat with his evening paper, reading it out in a loud voice to\\nGregor\\'s mother, and sometimes to his sister, but there was now not\\na sound to be heard.  Gregor\\'s sister would often write and tell him\\nabout this reading, but maybe his father had lost the habit in\\nrecent times.  It was so quiet all around too, even though there\\nmust have been somebody in the flat.  \"What a quiet life it is the\\nfamily lead\", said Gregor to himself, and, gazing into the darkness,\\nfelt a great pride that he was able to provide a life like that in\\nsuch a nice home for his sister and parents.  But what now, if all\\nthis peace and wealth and comfort should come to a horrible and\\nfrightening end? That was something that Gregor did not want to\\nthink about too much, so he started to move about, crawling up and\\ndown the room.\\n\\nOnce during that long evening, the door on one side of the room was\\nopened very slightly and hurriedly closed again; later on the door\\non the other side did the same; it seemed that someone needed to\\nenter the room but thought better of it.  Gregor went and waited\\nimmediately by the door, resolved either to bring the timorous\\nvisitor into the room in some way or at least to find out who it\\nwas; but the door was opened no more that night and Gregor waited in\\nvain.  The previous morning while the doors were locked everyone had\\nwanted to get in there to him, but now, now that he had opened up\\none of the doors and the other had clearly been unlocked some time\\nduring the day, no-one came, and the keys were in the other sides.\\n\\nIt was not until late at night that the gaslight in the living room\\nwas put out, and now it was easy to see that his parents and sister had\\nstayed awake all that time, as they all could be distinctly heard as\\nthey went away together on tip-toe.  It was clear that no-one would\\ncome into Gregor\\'s room any more until morning; that gave him plenty\\nof time to think undisturbed about how he would have to re-arrange\\nhis life.  For some reason, the tall, empty room where he was forced\\nto remain made him feel uneasy as he lay there flat on the floor,\\neven though he had been living in it for five years.  Hardly aware\\nof what he was doing other than a slight feeling of shame, he\\nhurried under the couch.  It pressed down on his back a little, and\\nhe was no longer able to lift his head, but he nonetheless felt\\nimmediately at ease and his only regret was that his body was too\\nbroad to get it all underneath.\\n\\nHe spent the whole night there.  Some of the time he passed in a\\nlight sleep, although he frequently woke from it in alarm because of\\nhis hunger, and some of the time was spent in worries and vague\\nhopes which, however, always led to the same conclusion: for the\\ntime being he must remain calm, he must show patience and the\\ngreatest consideration so that his family could bear the\\nunpleasantness that he, in his present condition, was forced to\\nimpose on them.\\n\\nGregor soon had the opportunity to test the strength of his\\ndecisions, as early the next morning, almost before the night had\\nended, his sister, nearly fully dressed, opened the door from the\\nfront room and looked anxiously in.  She did not see him straight\\naway, but when she did notice him under the couch - he had to be\\nsomewhere, for God\\'s sake, he couldn\\'t have flown away - she was so\\nshocked that she lost control of herself and slammed the door shut\\nagain from outside.  But she seemed to regret her behaviour, as she\\nopened the door again straight away and came in on tip-toe as if\\nentering the room of someone seriously ill or even of a stranger.\\nGregor had pushed his head forward, right to the edge of the couch,\\nand watched her.  Would she notice that he had left the milk as it\\nwas, realise that it was not from any lack of hunger and bring him\\nin some other food that was more suitable? If she didn\\'t do it\\nherself he would rather go hungry than draw her attention to it,\\nalthough he did feel a terrible urge to rush forward from under the\\ncouch, throw himself at his sister\\'s feet and beg her for something\\ngood to eat.  However, his sister noticed the full dish immediately\\nand looked at it and the few drops of milk splashed around it with\\nsome surprise.  She immediately picked it up - using a rag,\\nnot her bare hands - and carried it out.  Gregor was extremely\\ncurious as to what she would bring in its place, imagining the\\nwildest possibilities, but he never could have guessed what his\\nsister, in her goodness, actually did bring.  In order to test his\\ntaste, she brought him a whole selection of things, all spread out\\non an old newspaper.  There were old, half-rotten vegetables; bones\\nfrom the evening meal, covered in white sauce that had gone hard; a\\nfew raisins and almonds; some cheese that Gregor had declared\\ninedible two days before; a dry roll and some bread spread with\\nbutter and salt.  As well as all that she had poured some water into\\nthe dish, which had probably been permanently set aside for Gregor\\'s\\nuse, and placed it beside them.  Then, out of consideration for\\nGregor\\'s feelings, as she knew that he would not eat in front of\\nher, she hurried out again and even turned the key in the lock so\\nthat Gregor would know he could make things as comfortable for\\nhimself as he liked.  Gregor\\'s little legs whirred, at last he could\\neat.  What\\'s more, his injuries must already have completely healed\\nas he found no difficulty in moving.  This amazed him, as more than\\na month earlier he had cut his finger slightly with a knife, he\\nthought of how his finger had still hurt the day before yesterday.\\n\"Am I less sensitive than I used to be, then?\", he thought, and was\\nalready sucking greedily at the cheese which had immediately, almost\\ncompellingly, attracted him much more than the other foods on the\\nnewspaper.  Quickly one after another, his eyes watering with\\npleasure, he consumed the cheese, the vegetables and the sauce; the\\nfresh foods, on the other hand, he didn\\'t like at all, and even\\ndragged the things he did want to eat a little way away from them\\nbecause he couldn\\'t stand the smell.  Long after he had finished\\neating and lay lethargic in the same place, his sister slowly turned\\nthe key in the lock as a sign to him that he should withdraw.  He\\nwas immediately startled, although he had been half asleep, and he\\nhurried back under the couch.  But he needed great self-control to\\nstay there even for the short time that his sister was in the room,\\nas eating so much food had rounded out his body a little and he\\ncould hardly breathe in that narrow space.  Half suffocating, he\\nwatched with bulging eyes as his sister unselfconsciously took a\\nbroom and swept up the left-overs, mixing them in with the food he\\nhad not even touched at all as if it could not be used any more.\\nShe quickly dropped it all into a bin, closed it with its wooden\\nlid, and carried everything out.  She had hardly turned her back\\nbefore Gregor came out again from under the couch and stretched\\nhimself.\\n\\nThis was how Gregor received his food each day now, once in the\\nmorning while his parents and the maid were still asleep, and the\\nsecond time after everyone had eaten their meal at midday as his\\nparents would sleep for a little while then as well, and Gregor\\'s\\nsister would send the maid away on some errand.  Gregor\\'s father and\\nmother certainly did not want him to starve either, but perhaps it\\nwould have been more than they could stand to have any more\\nexperience of his feeding than being told about it, and perhaps his\\nsister wanted to spare them what distress she could as they were\\nindeed suffering enough.\\n\\nIt was impossible for Gregor to find out what they had told the\\ndoctor and the locksmith that first morning to get them out of the\\nflat.  As nobody could understand him, nobody, not even his sister,\\nthought that he could understand them, so he had to be content to\\nhear his sister\\'s sighs and appeals to the saints as she moved about\\nhis room.  It was only later, when she had become a little more used\\nto everything - there was, of course, no question of her ever\\nbecoming fully used to the situation - that Gregor would sometimes\\ncatch a friendly comment, or at least a comment that could be\\nconstrued as friendly.  \"He\\'s enjoyed his dinner today\", she might\\nsay when he had diligently cleared away all the food left for him,\\nor if he left most of it, which slowly became more and more\\nfrequent, she would often say, sadly, \"now everything\\'s just been\\nleft there again\".\\n\\nAlthough Gregor wasn\\'t able to hear any news directly he did listen\\nto much of what was said in the next rooms, and whenever he heard\\nanyone speaking he would scurry straight to the appropriate door and\\npress his whole body against it.  There was seldom any conversation,\\nespecially at first, that was not about him in some way, even if\\nonly in secret.  For two whole days, all the talk at every mealtime\\nwas about what they should do now; but even between meals they spoke\\nabout the same subject as there were always at least two members of\\nthe family at home - nobody wanted to be at home by themselves and\\nit was out of the question to leave the flat entirely empty.  And on\\nthe very first day the maid had fallen to her knees and begged\\nGregor\\'s mother to let her go without delay.  It was not very clear\\nhow much she knew of what had happened but she left within a quarter\\nof an hour, tearfully thanking Gregor\\'s mother for her dismissal as\\nif she had done her an enormous service.  She even swore\\nemphatically not to tell anyone the slightest about what had\\nhappened, even though no-one had asked that of her.\\n\\nNow Gregor\\'s sister also had to help his mother with the cooking;\\nalthough that was not so much bother as no-one ate very much.\\nGregor often heard how one of them would unsuccessfully urge another\\nto eat, and receive no more answer than \"no thanks, I\\'ve had enough\"\\nor something similar.  No-one drank very much either.  His sister\\nwould sometimes ask his father whether he would like a beer, hoping\\nfor the chance to go and fetch it herself.  When his father then\\nsaid nothing she would add, so that he would not feel selfish, that\\nshe could send the housekeeper for it, but then his father would\\nclose the matter with a big, loud \"No\", and no more would be said.\\n\\nEven before the first day had come to an end, his father had\\nexplained to Gregor\\'s mother and sister what their finances and\\nprospects were.  Now and then he stood up from the table and took\\nsome receipt or document from the little cash box he had saved from\\nhis business when it had collapsed five years earlier.  Gregor heard\\nhow he opened the complicated lock and then closed it again after he\\nhad taken the item he wanted.  What he heard his father say was some\\nof the first good news that Gregor heard since he had first been\\nincarcerated in his room.  He had thought that nothing at all\\nremained from his father\\'s business, at least he had never told him\\nanything different, and Gregor had never asked him about it anyway.\\nTheir business misfortune had reduced the family to a state of total\\ndespair, and Gregor\\'s only concern at that time had been to arrange\\nthings so that they could all forget about it as quickly as\\npossible.  So then he started working especially hard, with a fiery\\nvigour that raised him from a junior salesman to a travelling\\nrepresentative almost overnight, bringing with it the chance to earn\\nmoney in quite different ways.  Gregor converted his success at work\\nstraight into cash that he could lay on the table at home for the\\nbenefit of his astonished and delighted family.  They had been good\\ntimes and they had never come again, at least not with the same\\nsplendour, even though Gregor had later earned so much that he was\\nin a position to bear the costs of the whole family, and did bear\\nthem.  They had even got used to it, both Gregor and the family,\\nthey took the money with gratitude and he was glad to provide it,\\nalthough there was no longer much warm affection given in return.\\nGregor only remained close to his sister now.  Unlike him, she was\\nvery fond of music and a gifted and expressive violinist, it was his\\nsecret plan to send her to the conservatory next year even though it\\nwould cause great expense that would have to be made up for in some\\nother way.  During Gregor\\'s short periods in town, conversation with\\nhis sister would often turn to the conservatory but it was only ever\\nmentioned as a lovely dream that could never be realised.  Their\\nparents did not like to hear this innocent talk, but Gregor thought\\nabout it quite hard and decided he would let them know what he\\nplanned with a grand announcement of it on Christmas day.\\n\\nThat was the sort of totally pointless thing that went through his\\nmind in his present state, pressed upright against the door and\\nlistening.  There were times when he simply became too tired to\\ncontinue listening, when his head would fall wearily against the\\ndoor and he would pull it up again with a start, as even the\\nslightest noise he caused would be heard next door and they would\\nall go silent.  \"What\\'s that he\\'s doing now\", his father would say\\nafter a while, clearly having gone over to the door, and only then\\nwould the interrupted conversation slowly be taken up again.\\n\\nWhen explaining things, his father repeated himself several times,\\npartly because it was a long time since he had been occupied with\\nthese matters himself and partly because Gregor\\'s mother did not\\nunderstand everything the first time.  From these repeated explanations\\nGregor learned, to his pleasure, that despite all their misfortunes\\nthere was still some money available from the old days.  It was not\\na lot, but it had not been touched in the meantime and some interest\\nhad accumulated.  Besides that, they had not been using up all the\\nmoney that Gregor had been bringing home every month, keeping only a\\nlittle for himself, so that that, too, had been accumulating.\\nBehind the door, Gregor nodded with enthusiasm in his pleasure at\\nthis unexpected thrift and caution.  He could actually have used\\nthis surplus money to reduce his father\\'s debt to his boss, and the\\nday when he could have freed himself from that job would have come\\nmuch closer, but now it was certainly better the way his father had\\ndone things.\\n\\nThis money, however, was certainly not enough to enable the family\\nto live off the interest; it was enough to maintain them for,\\nperhaps, one or two years, no more.  That\\'s to say, it was money\\nthat should not really be touched but set aside for emergencies;\\nmoney to live on had to be earned.  His father was healthy but old,\\nand lacking in self confidence.  During the five years that he had\\nnot been working - the first holiday in a life that had been full of\\nstrain and no success - he had put on a lot of weight and become\\nvery slow and clumsy.  Would Gregor\\'s elderly mother now have to go\\nand earn money? She suffered from asthma and it was a strain for her\\njust to move about the home, every other day would be spent\\nstruggling for breath on the sofa by the open window.  Would his\\nsister have to go and earn money? She was still a child of\\nseventeen, her life up till then had been very enviable, consisting\\nof wearing nice clothes, sleeping late, helping out in the business,\\njoining in with a few modest pleasures and most of all playing the\\nviolin.  Whenever they began to talk of the need to earn money,\\nGregor would always first let go of the door and then throw himself\\nonto the cool, leather sofa next to it, as he became quite hot with\\nshame and regret.\\n\\nHe would often lie there the whole night through, not sleeping a\\nwink but scratching at the leather for hours on end.  Or he might go\\nto all the effort of pushing a chair to the window, climbing up onto\\nthe sill and, propped up in the chair, leaning on the window to\\nstare out of it.  He had used to feel a great sense of freedom from\\ndoing this, but doing it now was obviously something more remembered\\nthan experienced,  as what he actually saw in this way was becoming\\nless distinct every day, even things that were quite near; he had\\nused to curse the ever-present view of the hospital across the\\nstreet, but now he could not see it at all, and if he had not known\\nthat he lived in Charlottenstrasse, which was a quiet street despite\\nbeing in the middle of the city, he could have thought that he was\\nlooking out the window at a barren waste where the grey sky and the\\ngrey earth mingled inseparably.  His observant sister only needed to\\nnotice the chair twice before she would always push it back to its\\nexact position by the window after she had tidied up the room, and\\neven left the inner pane of the window open from then on.\\n\\nIf Gregor had only been able to speak to his sister and thank her\\nfor all that she had to do for him it would have been easier for him\\nto bear it; but as it was it caused him pain.  His sister,\\nnaturally, tried as far as possible to pretend there was nothing\\nburdensome about it, and the longer it went on, of course, the\\nbetter she was able to do so, but as time went by Gregor was also\\nable to see through it all so much better.  It had even become very\\nunpleasant for him, now, whenever she entered the room.  No sooner\\nhad she come in than she would quickly close the door as a\\nprecaution so that no-one would have to suffer the view into\\nGregor\\'s room, then she would go straight to the window and pull it\\nhurriedly open almost as if she were suffocating.  Even if it was\\ncold, she would stay at the window breathing deeply for a little\\nwhile.  She would alarm Gregor twice a day with this running about\\nand noise making; he would stay under the couch shivering the whole\\nwhile, knowing full well that she would certainly have liked to\\nspare him this ordeal, but it was impossible for her to be in the\\nsame room with him with the windows closed.\\n\\nOne day, about a month after Gregor\\'s transformation when his sister\\nno longer had any particular reason to be shocked at his appearance,\\nshe came into the room a little earlier than usual and found him\\nstill staring out the window, motionless, and just where he would be\\nmost horrible.  In itself, his sister\\'s not coming into the room\\nwould have been no surprise for Gregor as it would have been\\ndifficult for her to immediately open the window while he was still\\nthere, but not only did she not come in, she went straight back and\\nclosed the door behind her, a stranger would have thought he had\\nthreatened her and tried to bite her.  Gregor went straight to hide\\nhimself under the couch, of course, but he had to wait until midday\\nbefore his sister came back and she seemed much more uneasy than\\nusual.  It made him realise that she still found his appearance\\nunbearable and would continue to do so, she probably even had to\\novercome the urge to flee when she saw the little bit of him that\\nprotruded from under the couch.  One day, in order to spare her even\\nthis sight, he spent four hours carrying the bedsheet over to the\\ncouch on his back and arranged it so that he was completely covered\\nand his sister would not be able to see him even if she bent down.\\nIf she did not think this sheet was necessary then all she had to do\\nwas take it off again, as it was clear enough that it was no\\npleasure for Gregor to cut himself off so completely.  She left the\\nsheet where it was.  Gregor even thought he glimpsed a look of\\ngratitude one time when he carefully looked out from under the sheet\\nto see how his sister liked the new arrangement.\\n\\nFor the first fourteen days, Gregor\\'s parents could not bring\\nthemselves to come into the room to see him.  He would often hear\\nthem say how they appreciated all the new work his sister was doing\\neven though, before, they had seen her as a girl who was somewhat\\nuseless and frequently been annoyed with her.  But now the two of\\nthem, father and mother, would often both wait outside the door of\\nGregor\\'s room while his sister tidied up in there, and as soon as\\nshe went out again she would have to tell them exactly how\\neverything looked, what Gregor had eaten, how he had behaved this\\ntime and whether, perhaps, any slight improvement could be seen.\\nHis mother also wanted to go in and visit Gregor relatively soon but\\nhis father and sister at first persuaded her against it.  Gregor\\nlistened very closely to all this, and approved fully.  Later,\\nthough, she had to be held back by force, which made her call out:\\n\"Let me go and see Gregor, he is my unfortunate son! Can\\'t you\\nunderstand I have to see him?\", and Gregor would think to himself\\nthat maybe it would be better if his mother came in, not every day\\nof course, but one day a week, perhaps; she could understand\\neverything much better than his sister who, for all her courage, was\\nstill just a child after all, and really might not have had an\\nadult\\'s appreciation of the burdensome job she had taken on.\\n\\nGregor\\'s wish to see his mother was soon realised.  Out of\\nconsideration for his parents, Gregor wanted to avoid being seen at\\nthe window during the day, the few square meters of the floor did\\nnot give him much room to crawl about, it was hard to just lie\\nquietly through the night, his food soon stopped giving him any\\npleasure at all, and so, to entertain himself, he got into the habit\\nof crawling up and down the walls and ceiling.  He was especially\\nfond of hanging from the ceiling; it was quite different from lying\\non the floor; he could breathe more freely; his body had a light\\nswing to it; and up there, relaxed and almost happy, it might happen\\nthat he would surprise even himself by letting go of the ceiling and\\nlanding on the floor with a crash.  But now, of course, he had far\\nbetter control of his body than before and, even with a fall as\\ngreat as that, caused himself no damage.  Very soon his sister\\nnoticed Gregor\\'s new way of entertaining himself - he had, after\\nall, left traces of the adhesive from his feet as he crawled about -\\nand got it into her head to make it as easy as possible for him by\\nremoving the furniture that got in his way, especially the chest of\\ndrawers and the desk.  Now, this was not something that she would be\\nable to do by herself; she did not dare to ask for help from her\\nfather; the sixteen year old maid had carried on bravely since the\\ncook had left but she certainly would not have helped in this, she\\nhad even asked to be allowed to keep the kitchen locked at all times\\nand never to have to open the door unless it was especially\\nimportant; so his sister had no choice but to choose some time when\\nGregor\\'s father was not there and fetch his mother to help her.  As\\nshe approached the room, Gregor could hear his mother express her\\njoy, but once at the door she went silent.  First, of course, his\\nsister came in and looked round to see that everything in the room\\nwas alright; and only then did she let her mother enter.  Gregor had\\nhurriedly pulled the sheet down lower over the couch and put more\\nfolds into it so that everything really looked as if it had just\\nbeen thrown down by chance.  Gregor also refrained, this time, from\\nspying out from under the sheet; he gave up the chance to see his\\nmother until later and was simply glad that she had come.  \"You can\\ncome in, he can\\'t be seen\", said his sister, obviously leading her\\nin by the hand.  The old chest of drawers was too heavy for a pair\\nof feeble women to be heaving about, but Gregor listened as they\\npushed it from its place, his sister always taking on the heaviest\\npart of the work for herself and ignoring her mother\\'s warnings that\\nshe would strain herself.  This lasted a very long time.  After\\nlabouring at it for fifteen minutes or more his mother said it would\\nbe better to leave the chest where it was, for one thing it was too\\nheavy for them to get the job finished before Gregor\\'s father got\\nhome and leaving it in the middle of the room it would be in his way\\neven more, and for another thing it wasn\\'t even sure that taking the\\nfurniture away would really be any help to him.  She thought just\\nthe opposite; the sight of the bare walls saddened her right to her\\nheart; and why wouldn\\'t Gregor feel the same way about it, he\\'d been\\nused to this furniture in his room for a long time and it would make\\nhim feel abandoned to be in an empty room like that.  Then, quietly,\\nalmost whispering as if wanting Gregor (whose whereabouts she did\\nnot know) to hear not even the tone of her voice, as she was\\nconvinced that he did not understand her words, she added \"and by\\ntaking the furniture away, won\\'t it seem like we\\'re showing that\\nwe\\'ve given up all hope of improvement and we\\'re abandoning him to\\ncope for himself? I think it\\'d be best to leave the room exactly the\\nway it was before so that when Gregor comes back to us again he\\'ll\\nfind everything unchanged and he\\'ll be able to forget the time in\\nbetween all the easier\".\\n\\nHearing these words from his mother made Gregor realise that the\\nlack of any direct human communication, along with the monotonous\\nlife led by the family during these two months, must have made him\\nconfused - he could think of no other way of explaining to himself\\nwhy he had seriously wanted his room emptied out.  Had he really\\nwanted to transform his room into a cave, a warm room fitted out\\nwith the nice furniture he had inherited? That would have let him\\ncrawl around unimpeded in any direction, but it would also have let\\nhim quickly forget his past when he had still been human.  He had\\ncome very close to forgetting, and it had only been the voice of his\\nmother, unheard for so long, that had shaken him out of it.  Nothing\\nshould be removed; everything had to stay; he could not do without\\nthe good influence the furniture had on his condition; and if the\\nfurniture made it difficult for him to crawl about mindlessly that\\nwas not a loss but a great advantage.\\n\\nHis sister, unfortunately, did not agree; she had become used to the\\nidea, not without reason, that she was Gregor\\'s spokesman to his\\nparents about the things that concerned him.  This meant that his\\nmother\\'s advice now was sufficient reason for her to insist on\\nremoving not only the chest of drawers and the desk, as she had\\nthought at first, but all the furniture apart from the all-important\\ncouch.  It was more than childish perversity, of course, or the\\nunexpected confidence she had recently acquired, that made her\\ninsist; she had indeed noticed that Gregor needed a lot of room to\\ncrawl about in, whereas the furniture, as far as anyone could see,\\nwas of no use to him at all.  Girls of that age, though, do become\\nenthusiastic about things and feel they must get their way whenever\\nthey can.  Perhaps this was what tempted Grete to make Gregor\\'s\\nsituation seem even more shocking than it was so that she could do\\neven more for him.  Grete would probably be the only one who would\\ndare enter a room dominated by Gregor crawling about the bare walls\\nby himself.\\n\\nSo she refused to let her mother dissuade her.  Gregor\\'s mother\\nalready looked uneasy in his room, she soon stopped speaking and\\nhelped Gregor\\'s sister to get the chest of drawers out with what\\nstrength she had.  The chest of drawers was something that Gregor\\ncould do without if he had to, but the writing desk had to stay.\\nHardly had the two women pushed the chest of drawers, groaning, out\\nof the room than Gregor poked his head out from under the couch to\\nsee what he could do about it.  He meant to be as careful and\\nconsiderate as he could, but, unfortunately, it was his mother who\\ncame back first while Grete in the next room had her arms round the\\nchest, pushing and pulling at it from side to side by herself\\nwithout, of course, moving it an inch.  His mother was not used to\\nthe sight of Gregor, he might have made her ill, so Gregor hurried\\nbackwards to the far end of the couch.  In his startlement, though,\\nhe was not able to prevent the sheet at its front from moving a\\nlittle.  It was enough to attract his mother\\'s attention.  She stood\\nvery still, remained there a moment, and then went back out to\\nGrete.\\n\\nGregor kept trying to assure himself that nothing unusual was\\nhappening, it was just a few pieces of furniture being moved after\\nall, but he soon had to admit that the women going to and fro, their\\nlittle calls to each other, the scraping of the furniture on the\\nfloor, all these things made him feel as if he were being assailed\\nfrom all sides.  With his head and legs pulled in against him and\\nhis body pressed to the floor, he was forced to admit to himself\\nthat he could not stand all of this much longer.  They were emptying\\nhis room out; taking away everything that was dear to him; they had\\nalready taken out the chest containing his fretsaw and other tools;\\nnow they threatened to remove the writing desk with its place\\nclearly worn into the floor, the desk where he had done his homework\\nas a business trainee, at high school, even while he had been at\\ninfant school--he really could not wait any longer to see whether\\nthe two women\\'s intentions were good.  He had nearly forgotten they\\nwere there anyway, as they were now too tired to say anything while\\nthey worked and he could only hear their feet as they stepped\\nheavily on the floor.\\n\\nSo, while the women were leant against the desk in the other room\\ncatching their breath, he sallied out, changed direction four times\\nnot knowing what he should save first before his attention was\\nsuddenly caught by the picture on the wall - which was already\\ndenuded of everything else that had been on it - of the lady dressed\\nin copious fur.  He hurried up onto the picture and pressed himself\\nagainst its glass, it held him firmly and felt good on his hot\\nbelly.  This picture at least, now totally covered by Gregor, would\\ncertainly be taken away by no-one.  He turned his head to face the\\ndoor into the living room so that he could watch the women when they\\ncame back.\\n\\nThey had not allowed themselves a long rest and came back quite\\nsoon; Grete had put her arm around her mother and was nearly\\ncarrying her.  \"What shall we take now, then?\", said Grete and\\nlooked around.  Her eyes met those of Gregor on the wall.  Perhaps\\nonly because her mother was there, she remained calm, bent her face\\nto her so that she would not look round and said, albeit hurriedly\\nand with a tremor in her voice: \"Come on, let\\'s go back in the\\nliving room for a while?\"  Gregor could see what Grete had in mind,\\nshe wanted to take her mother somewhere safe and then chase him down\\nfrom the wall.  Well, she could certainly try it! He sat unyielding\\non his picture.  He would rather jump at Grete\\'s face.\\n\\nBut Grete\\'s words had made her mother quite worried, she stepped to\\none side, saw the enormous brown patch against the flowers of the\\nwallpaper, and before she even realised it was Gregor that she saw\\nscreamed: \"Oh God, oh God!\"  Arms outstretched, she fell onto the\\ncouch as if she had given up everything and stayed there immobile.\\n\"Gregor!\" shouted his sister, glowering at him and shaking her fist.\\n That was the first word she had spoken to him directly since his\\ntransformation.  She ran into the other room to fetch some kind of\\nsmelling salts to bring her mother out of her faint; Gregor wanted\\nto help too - he could save his picture later, although he stuck\\nfast to the glass and had to pull himself off by force; then he,\\ntoo, ran into the next room as if he could advise his sister like in\\nthe old days; but he had to just stand behind her doing nothing; she\\nwas looking into various bottles, he startled her when she turned\\nround; a bottle fell to the ground and broke; a splinter cut\\nGregor\\'s face, some kind of caustic medicine splashed all over him;\\nnow, without delaying any longer, Grete took hold of all the bottles\\nshe could and ran with them in to her mother; she slammed the door\\nshut with her foot.  So now Gregor was shut out from his mother,\\nwho, because of him, might be near to death; he could not open the\\ndoor if he did not want to chase his sister away, and she had to\\nstay with his mother; there was nothing for him to do but wait; and,\\noppressed with anxiety and self-reproach, he began to crawl about,\\nhe crawled over everything, walls, furniture, ceiling, and finally\\nin his confusion as the whole room began to spin around him he fell\\ndown into the middle of the dinner table.\\n\\nHe lay there for a while, numb and immobile, all around him it was\\nquiet, maybe that was a good sign.  Then there was someone at the\\ndoor.  The maid, of course, had locked herself in her kitchen so\\nthat Grete would have to go and answer it.  His father had arrived\\nhome.  \"What\\'s happened?\" were his first words; Grete\\'s appearance\\nmust have made everything clear to him.  She answered him with\\nsubdued voice, and openly pressed her face into his chest: \"Mother\\'s\\nfainted, but she\\'s better now.  Gregor got out.\"  \"Just as I\\nexpected\", said his father, \"just as I always said, but you women\\nwouldn\\'t listen, would you.\"  It was clear to Gregor that Grete had\\nnot said enough and that his father took it to mean that something\\nbad had happened, that he was responsible for some act of violence.\\nThat meant Gregor would now have to try to calm his father, as he\\ndid not have the time to explain things to him even if that had been\\npossible.  So he fled to the door of his room and pressed himself\\nagainst it so that his father, when he came in from the hall, could\\nsee straight away that Gregor had the best intentions and would go\\nback into his room without delay, that it would not be necessary to\\ndrive him back but that they had only to open the door and he would\\ndisappear.\\n\\nHis father, though, was not in the mood to notice subtleties like\\nthat; \"Ah!\", he shouted as he came in, sounding as if he were both\\nangry and glad at the same time.  Gregor drew his head back from the\\ndoor and lifted it towards his father.  He really had not imagined\\nhis father the way he stood there now; of late, with his new habit\\nof crawling about, he had neglected to pay attention to what was\\ngoing on the rest of the flat the way he had done before.  He really\\nought to have expected things to have changed, but still, still, was\\nthat really his father? The same tired man as used to be laying\\nthere entombed in his bed when Gregor came back from his business\\ntrips, who would receive him sitting in the armchair in his\\nnightgown when he came back in the evenings; who was hardly even\\nable to stand up but, as a sign of his pleasure, would just raise\\nhis arms and who, on the couple of times a year when they went for a\\nwalk together on a Sunday or public holiday wrapped up tightly in\\nhis overcoat between Gregor and his mother, would always labour his\\nway forward a little more slowly than them, who were already walking\\nslowly for his sake; who would place his stick down carefully and,\\nif he wanted to say something would invariably stop and gather his\\ncompanions around him.  He was standing up straight enough now;\\ndressed in a smart blue uniform with gold buttons, the sort worn by\\nthe employees at the banking institute; above the high, stiff collar\\nof the coat his strong double-chin emerged; under the bushy\\neyebrows, his piercing, dark eyes looked out fresh and alert; his\\nnormally unkempt white hair was combed down painfully close to his\\nscalp.  He took his cap, with its gold monogram from, probably, some\\nbank, and threw it in an arc right across the room onto the sofa,\\nput his hands in his trouser pockets, pushing back the bottom of his\\nlong uniform coat, and, with look of determination, walked towards\\nGregor.  He probably did not even know himself what he had in mind,\\nbut nonetheless lifted his feet unusually high.  Gregor was amazed\\nat the enormous size of the soles of his boots, but wasted no time\\nwith that - he knew full well, right from the first day of his new\\nlife, that his father thought it necessary to always be extremely\\nstrict with him.  And so he ran up to his father, stopped when his\\nfather stopped, scurried forwards again when he moved, even\\nslightly.  In this way they went round the room several times\\nwithout anything decisive happening, without even giving the\\nimpression of a chase as everything went so slowly.  Gregor remained\\nall this time on the floor, largely because he feared his father\\nmight see it as especially provoking if he fled onto the wall or\\nceiling.  Whatever he did, Gregor had to admit that he certainly\\nwould not be able to keep up this running about for long, as for\\neach step his father took he had to carry out countless movements.\\nHe became noticeably short of breath, even in his earlier life his\\nlungs had not been very reliable.  Now, as he lurched about in his\\nefforts to muster all the strength he could for running he could\\nhardly keep his eyes open; his thoughts became too slow for him to\\nthink of any other way of saving himself than running; he almost\\nforgot that the walls were there for him to use although, here, they\\nwere concealed behind carefully carved furniture full of notches and\\nprotrusions - then, right beside him, lightly tossed, something flew\\ndown and rolled in front of him.  It was an apple; then another one\\nimmediately flew at him; Gregor froze in shock; there was no longer\\nany point in running as his father had decided to bombard him.  He\\nhad filled his pockets with fruit from the bowl on the sideboard and\\nnow, without even taking the time for careful aim, threw one apple\\nafter another.  These little, red apples rolled about on the floor,\\nknocking into each other as if they had electric motors.  An apple\\nthrown without much force glanced against Gregor\\'s back and slid off\\nwithout doing any harm.  Another one however, immediately following\\nit, hit squarely and lodged in his back; Gregor wanted to drag\\nhimself away, as if he could remove the surprising, the incredible\\npain by changing his position; but he felt as if nailed to the spot\\nand spread himself out, all his senses in confusion.  The last thing\\nhe saw was the door of his room being pulled open, his sister was\\nscreaming, his mother ran out in front of her in her blouse (as his\\nsister had taken off some of her clothes after she had fainted to\\nmake it easier for her to breathe), she ran to his father, her\\nskirts unfastened and sliding one after another to the ground,\\nstumbling over the skirts she pushed herself to his father, her arms\\naround him, uniting herself with him totally - now Gregor lost his\\nability to see anything - her hands behind his father\\'s head begging\\nhim to spare Gregor\\'s life.\\n\\n\\n\\nIII\\n\\n\\nNo-one dared to remove the apple lodged in Gregor\\'s flesh, so it\\nremained there as a visible reminder of his injury.  He had suffered\\nit there for more than a month, and his condition seemed serious\\nenough to remind even his father that Gregor, despite his current\\nsad and revolting form, was a family member who could not be treated\\nas an enemy.  On the contrary, as a family there was a duty to\\nswallow any revulsion for him and to be patient, just to be patient.\\n\\nBecause of his injuries, Gregor had lost much of his mobility -\\nprobably permanently.  He had been reduced to the condition of an\\nancient invalid and it took him long, long minutes to crawl across\\nhis room - crawling over the ceiling was out of the question - but\\nthis deterioration in his condition was fully (in his opinion) made\\nup for by the door to the living room being left open every evening.\\n He got into the habit of closely watching it for one or two hours\\nbefore it was opened and then, lying in the darkness of his room\\nwhere he could not be seen from the living room, he could watch the\\nfamily in the light of the dinner table and listen to their\\nconversation - with everyone\\'s permission, in a way, and thus quite\\ndifferently from before.\\n\\nThey no longer held the lively conversations of earlier times, of\\ncourse, the ones that Gregor always thought about with longing when\\nhe was tired and getting into the damp bed in some small hotel room.\\n All of them were usually very quiet nowadays.  Soon after dinner,\\nhis father would go to sleep in his chair; his mother and sister\\nwould urge each other to be quiet; his mother, bent deeply under the\\nlamp, would sew fancy underwear for a fashion shop; his sister, who\\nhad taken a sales job, learned shorthand and French in the evenings\\nso that she might be able to get a better position later on.\\nSometimes his father would wake up and say to Gregor\\'s mother\\n\"you\\'re doing so much sewing again today!\", as if he did not know\\nthat he had been dozing - and then he would go back to sleep again\\nwhile mother and sister would exchange a tired grin.\\n\\nWith a kind of stubbornness, Gregor\\'s father refused to take his\\nuniform off even at home; while his nightgown hung unused on its peg\\nGregor\\'s father would slumber where he was, fully dressed, as if\\nalways ready to serve and expecting to hear the voice of his\\nsuperior even here.  The uniform had not been new to start with, but\\nas a result of this it slowly became even shabbier despite the\\nefforts of Gregor\\'s mother and sister to look after it.  Gregor\\nwould often spend the whole evening looking at all the stains on\\nthis coat, with its gold buttons always kept polished and shiny,\\nwhile the old man in it would sleep, highly uncomfortable but\\npeaceful.\\n\\nAs soon as it struck ten, Gregor\\'s mother would speak gently to his\\nfather to wake him and try to persuade him to go to bed, as he\\ncouldn\\'t sleep properly where he was and he really had to get his\\nsleep if he was to be up at six to get to work.  But since he had\\nbeen in work he had become more obstinate and would always insist on\\nstaying longer at the table, even though he regularly fell asleep\\nand it was then harder than ever to persuade him to exchange the\\nchair for his bed.  Then, however much mother and sister would\\nimportune him with little reproaches and warnings he would keep\\nslowly shaking his head for a quarter of an hour with his eyes\\nclosed and refusing to get up.  Gregor\\'s mother would tug at his\\nsleeve, whisper endearments into his ear, Gregor\\'s sister would\\nleave her work to help her mother, but nothing would have any effect\\non him.  He would just sink deeper into his chair.  Only when the\\ntwo women took him under the arms he would abruptly open his eyes,\\nlook at them one after the other and say: \"What a life! This is what\\npeace I get in my old age!\"  And supported by the two women he would\\nlift himself up carefully as if he were carrying the greatest load\\nhimself, let the women take him to the door, send them off and carry\\non by himself while Gregor\\'s mother would throw down her needle and\\nhis sister her pen so that they could run after his father and\\ncontinue being of help to him.\\n\\nWho, in this tired and overworked family, would have had time to\\ngive more attention to Gregor than was absolutely necessary? The\\nhousehold budget became even smaller; so now the maid was dismissed;\\nan enormous, thick-boned charwoman with white hair that flapped\\naround her head came every morning and evening to do the heaviest\\nwork; everything else was looked after by Gregor\\'s mother on top of\\nthe large amount of sewing work she did.  Gregor even learned,\\nlistening to the evening conversation about what price they had\\nhoped for, that several items of jewellery belonging to the family\\nhad been sold, even though both mother and sister had been very fond\\nof wearing them at functions and celebrations.  But the loudest\\ncomplaint was that although the flat was much too big for their\\npresent circumstances, they could not move out of it, there was no\\nimaginable way of transferring Gregor to the new address.  He could\\nsee quite well, though, that there were more reasons than\\nconsideration for him that made it difficult for them to move, it\\nwould have been quite easy to transport him in any suitable crate\\nwith a few air holes in it; the main thing holding the family back\\nfrom their decision to move was much more to do with their total\\ndespair, and the thought that they had been struck with a misfortune\\nunlike anything experienced by anyone else they knew or were related\\nto.  They carried out absolutely everything that the world expects\\nfrom poor people, Gregor\\'s father brought bank employees their\\nbreakfast, his mother sacrificed herself by washing clothes for\\nstrangers, his sister ran back and forth behind her desk at the\\nbehest of the customers, but they just did not have the strength to\\ndo any more.  And the injury in Gregor\\'s back began to hurt as much\\nas when it was new.  After they had come back from taking his father\\nto bed Gregor\\'s mother and sister would now leave their work where\\nit was and sit close together, cheek to cheek; his mother would\\npoint to Gregor\\'s room and say \"Close that door, Grete\", and then,\\nwhen he was in the dark again, they would sit in the next room and\\ntheir tears would mingle, or they would simply sit there staring\\ndry-eyed at the table.\\n\\nGregor hardly slept at all, either night or day.  Sometimes he would\\nthink of taking over the family\\'s affairs, just like before, the\\nnext time the door was opened; he had long forgotten about his boss\\nand the chief clerk, but they would appear again in his thoughts,\\nthe salesmen and the apprentices, that stupid teaboy, two or three\\nfriends from other businesses, one of the chambermaids from a\\nprovincial hotel, a tender memory that appeared and disappeared\\nagain, a cashier from a hat shop for whom his attention had been\\nserious but too slow, - all of them appeared to him, mixed together\\nwith strangers and others he had forgotten, but instead of helping\\nhim and his family they were all of them inaccessible, and he was\\nglad when they disappeared.  Other times he was not at all in the\\nmood to look after his family, he was filled with simple rage about\\nthe lack of attention he was shown, and although he could think of\\nnothing he would have wanted, he made plans of how he could get into\\nthe pantry where he could take all the things he was entitled to,\\neven if he was not hungry.  Gregor\\'s sister no longer thought about\\nhow she could please him but would hurriedly push some food or other\\ninto his room with her foot before she rushed out to work in the\\nmorning and at midday, and in the evening she would sweep it away\\nagain with the broom, indifferent as to whether it had been eaten or\\n- more often than not - had been left totally untouched.  She still\\ncleared up the room in the evening, but now she could not have been\\nany quicker about it.  Smears of dirt were left on the walls, here\\nand there were little balls of dust and filth.  At first, Gregor\\nwent into one of the worst of these places when his sister arrived\\nas a reproach to her, but he could have stayed there for weeks\\nwithout his sister doing anything about it; she could see the dirt\\nas well as he could but she had simply decided to leave him to it.\\nAt the same time she became touchy in a way that was quite new for\\nher and which everyone in the family understood - cleaning up\\nGregor\\'s room was for her and her alone.  Gregor\\'s mother did once\\nthoroughly clean his room, and needed to use several bucketfuls of\\nwater to do it - although that much dampness also made Gregor ill\\nand he lay flat on the couch, bitter and immobile.  But his mother\\nwas to be punished still more for what she had done, as hardly had\\nhis sister arrived home in the evening than she noticed the change\\nin Gregor\\'s room and, highly aggrieved, ran back into the living\\nroom where, despite her mothers raised and imploring hands, she\\nbroke into convulsive tears.  Her father, of course, was startled\\nout of his chair and the two parents looked on astonished and\\nhelpless; then they, too, became agitated; Gregor\\'s father, standing\\nto the right of his mother, accused her of not leaving the cleaning\\nof Gregor\\'s room to his sister; from her left, Gregor\\'s sister\\nscreamed at her that she was never to clean Gregor\\'s room again;\\nwhile his mother tried to draw his father, who was beside himself\\nwith anger, into the bedroom; his sister, quaking with tears,\\nthumped on the table with her small fists; and Gregor hissed in\\nanger that no-one had even thought of closing the door to save him\\nthe sight of this and all its noise.\\n\\nGregor\\'s sister was exhausted from going out to work, and looking\\nafter Gregor as she had done before was even more work for her, but\\neven so his mother ought certainly not to have taken her place.\\nGregor, on the other hand, ought not to be neglected.  Now, though,\\nthe charwoman was here.  This elderly widow, with a robust bone\\nstructure that made her able to withstand the hardest of things in\\nher long life, wasn\\'t really repelled by Gregor.  Just by chance one\\nday, rather than any real curiosity, she opened the door to Gregor\\'s\\nroom and found herself face to face with him.  He was taken totally\\nby surprise, no-one was chasing him but he began to rush to and fro\\nwhile she just stood there in amazement with her hands crossed in\\nfront of her.  From then on she never failed to open the door\\nslightly every evening and morning and look briefly in on him.  At\\nfirst she would call to him as she did so with words that she\\nprobably considered friendly, such as \"come on then, you old\\ndung-beetle!\", or \"look at the old dung-beetle there!\"  Gregor never\\nresponded to being spoken to in that way, but just remained where he\\nwas without moving as if the door had never even been opened.  If\\nonly they had told this charwoman to clean up his room every day\\ninstead of letting her disturb him for no reason whenever she felt\\nlike it! One day, early in the morning while a heavy rain struck the\\nwindowpanes, perhaps indicating that spring was coming, she began to\\nspeak to him in that way once again.  Gregor was so resentful of it\\nthat he started to move toward her, he was slow and infirm, but it\\nwas like a kind of attack.  Instead of being afraid, the charwoman\\njust lifted up one of the chairs from near the door and stood there\\nwith her mouth open, clearly intending not to close her mouth until\\nthe chair in her hand had been slammed down into Gregor\\'s back.\\n\"Aren\\'t you coming any closer, then?\", she asked when Gregor turned\\nround again, and she calmly put the chair back in the corner.\\n\\nGregor had almost entirely stopped eating.  Only if he happened to\\nfind himself next to the food that had been prepared for him he\\nmight take some of it into his mouth to play with it, leave it there\\na few hours and then, more often than not, spit it out again.  At\\nfirst he thought it was distress at the state of his room that\\nstopped him eating, but he had soon got used to the changes made\\nthere.  They had got into the habit of putting things into this room\\nthat they had no room for anywhere else, and there were now many\\nsuch things as one of the rooms in the flat had been rented out to\\nthree gentlemen.  These earnest gentlemen - all three of them had\\nfull beards, as Gregor learned peering through the crack in the door\\none day - were painfully insistent on things\\' being tidy.  This\\nmeant not only in their own room but, since they had taken a room in\\nthis establishment, in the entire flat and especially in the\\nkitchen.  Unnecessary clutter was something they could not tolerate,\\nespecially if it was dirty.  They had moreover brought most of their\\nown furnishings and equipment with them.  For this reason, many\\nthings had become superfluous which, although they could not be\\nsold, the family did not wish to discard.  All these things found\\ntheir way into Gregor\\'s room.  The dustbins from the kitchen found\\ntheir way in there too.  The charwoman was always in a hurry, and\\nanything she couldn\\'t use for the time being she would just chuck in\\nthere.  He, fortunately, would usually see no more than the object\\nand the hand that held it.  The woman most likely meant to fetch the\\nthings back out again when she had time and the opportunity, or to\\nthrow everything out in one go, but what actually happened was that\\nthey were left where they landed when they had first been thrown\\nunless Gregor made his way through the junk and moved it somewhere\\nelse.  At first he moved it because, with no other room free where\\nhe could crawl about, he was forced to, but later on he came to\\nenjoy it although moving about in that way left him sad and tired to\\ndeath, and he would remain immobile for hours afterwards.\\n\\nThe gentlemen who rented the room would sometimes take their evening\\nmeal at home in the living room that was used by everyone, and so\\nthe door to this room was often kept closed in the evening.  But\\nGregor found it easy to give up having the door open, he had, after\\nall, often failed to make use of it when it was open and, without\\nthe family having noticed it, lain in his room in its darkest\\ncorner.  One time, though, the charwoman left the door to the living\\nroom slightly open, and it remained open when the gentlemen who\\nrented the room came in in the evening and the light was put on.\\nThey sat up at the table where, formerly, Gregor had taken his meals\\nwith his father and mother, they unfolded the serviettes and picked\\nup their knives and forks.  Gregor\\'s mother immediately appeared in\\nthe doorway with a dish of meat and soon behind her came his sister\\nwith a dish piled high with potatoes.  The food was steaming, and\\nfilled the room with its smell.  The gentlemen bent over the dishes\\nset in front of them as if they wanted to test the food before\\neating it, and the gentleman in the middle, who seemed to count as\\nan authority for the other two, did indeed cut off a piece of meat\\nwhile it was still in its dish, clearly wishing to establish whether\\nit was sufficiently cooked or whether it should be sent back to the\\nkitchen.  It was to his satisfaction, and Gregor\\'s mother and\\nsister, who had been looking on anxiously, began to breathe again\\nand smiled.\\n\\nThe family themselves ate in the kitchen.  Nonetheless, Gregor\\'s\\nfather came into the living room before he went into the kitchen,\\nbowed once with his cap in his hand and did his round of the table.\\nThe gentlemen stood as one, and mumbled something into their beards.\\n Then, once they were alone, they ate in near perfect silence.  It\\nseemed remarkable to Gregor that above all the various noises of\\neating their chewing teeth could still be heard, as if they had\\nwanted to show Gregor that you need teeth in order to eat and it was\\nnot possible to perform anything with jaws that are toothless\\nhowever nice they might be.  \"I\\'d like to eat something\", said\\nGregor anxiously, \"but not anything like they\\'re eating.  They do\\nfeed themselves.  And here I am, dying!\"\\n\\nThroughout all this time, Gregor could not remember having heard the\\nviolin being played, but this evening it began to be heard from the\\nkitchen.  The three gentlemen had already finished their meal, the\\none in the middle had produced a newspaper, given a page to each of\\nthe others, and now they leant back in their chairs reading them and\\nsmoking.  When the violin began playing they became attentive, stood\\nup and went on tip-toe over to the door of the hallway where they\\nstood pressed against each other.  Someone must have heard them in\\nthe kitchen, as Gregor\\'s father called out: \"Is the playing perhaps\\nunpleasant for the gentlemen? We can stop it straight away.\"  \"On\\nthe contrary\", said the middle gentleman, \"would the young lady not\\nlike to come in and play for us here in the room, where it is, after\\nall, much more cosy and comfortable?\"  \"Oh yes, we\\'d love to\",\\ncalled back Gregor\\'s father as if he had been the violin player\\nhimself.  The gentlemen stepped back into the room and waited.\\nGregor\\'s father soon appeared with the music stand, his mother with\\nthe music and his sister with the violin.  She calmly prepared\\neverything for her to begin playing; his parents, who had never\\nrented a room out before and therefore showed an exaggerated\\ncourtesy towards the three gentlemen, did not even dare to sit on\\ntheir own chairs; his father leant against the door with his right\\nhand pushed in between two buttons on his uniform coat; his mother,\\nthough, was offered a seat by one of the gentlemen and sat - leaving\\nthe chair where the gentleman happened to have placed it - out of\\nthe way in a corner.\\n\\nHis sister began to play; father and mother paid close attention,\\none on each side, to the movements of her hands.  Drawn in by the\\nplaying, Gregor had dared to come forward a little and already had\\nhis head in the living room.  Before, he had taken great pride in\\nhow considerate he was but now it hardly occurred to him that he had\\nbecome so thoughtless about the others.  What\\'s more, there was now\\nall the more reason to keep himself hidden as he was covered in the\\ndust that lay everywhere in his room and flew up at the slightest\\nmovement; he carried threads, hairs, and remains of food about on\\nhis back and sides; he was much too indifferent to everything now to\\nlay on his back and wipe himself on the carpet like he had used to\\ndo several times a day.  And despite this condition, he was not too\\nshy to move forward a little onto the immaculate floor of the living\\nroom.\\n\\nNo-one noticed him, though.  The family was totally preoccupied with\\nthe violin playing; at first, the three gentlemen had put their\\nhands in their pockets and come up far too close behind the music\\nstand to look at all the notes being played, and they must have\\ndisturbed Gregor\\'s sister, but soon, in contrast with the family,\\nthey  withdrew back to the window with their heads sunk and talking\\nto each other at half volume, and they stayed by the window while\\nGregor\\'s father observed them anxiously.  It really now seemed very\\nobvious that they had expected to hear some beautiful or\\nentertaining violin playing but had been disappointed, that they had\\nhad enough of the whole performance and it was only now out of\\npoliteness that they allowed their peace to be disturbed.  It was\\nespecially unnerving, the way they all blew the smoke from their\\ncigarettes upwards from their mouth and noses.  Yet Gregor\\'s sister\\nwas playing so beautifully.  Her face was leant to one side,\\nfollowing the lines of music with a careful and melancholy\\nexpression.  Gregor crawled a little further forward, keeping his\\nhead close to the ground so that he could meet her eyes if the\\nchance came.  Was he an animal if music could captivate him so? It\\nseemed to him that he was being shown the way to the unknown\\nnourishment he had been yearning for.  He was determined to make his\\nway forward to his sister and tug at her skirt to show her she might\\ncome into his room with her violin, as no-one appreciated her\\nplaying here as much as he would.  He never wanted to let her out of\\nhis room, not while he lived, anyway; his shocking appearance\\nshould, for once, be of some use to him; he wanted to be at every\\ndoor of his room at once to hiss and spit at the attackers; his\\nsister should not be forced to stay with him, though, but stay of\\nher own free will; she would sit beside him on the couch with her\\near bent down to him while he told her how he had always intended to\\nsend her to the conservatory, how he would have told everyone about\\nit last Christmas - had Christmas really come and gone already? - if\\nthis misfortune hadn\\'t got in the way, and refuse to let anyone\\ndissuade him from it.  On hearing all this, his sister would break\\nout in tears of emotion, and Gregor would climb up to her shoulder\\nand kiss her neck, which, since she had been going out to work, she\\nhad kept free without any necklace or collar.\\n\\n\"Mr. Samsa!\", shouted the middle gentleman to Gregor\\'s father,\\npointing, without wasting any more words, with his forefinger at\\nGregor as he slowly moved forward.  The violin went silent, the\\nmiddle of the three gentlemen first smiled at his two friends,\\nshaking his head, and then looked back at Gregor.  His father seemed\\nto think it more important to calm the three gentlemen before\\ndriving Gregor out, even though they were not at all upset and\\nseemed to think Gregor was more entertaining than the violin playing\\nhad been.  He rushed up to them with his arms spread out and\\nattempted to drive them back into their room at the same time as\\ntrying to block their view of Gregor with his body.  Now they did\\nbecome a little annoyed, and it was not clear whether it was his\\nfather\\'s behaviour that annoyed them or the dawning realisation that\\nthey had had a neighbour like Gregor in the next room without\\nknowing it.  They asked Gregor\\'s father for explanations, raised\\ntheir arms like he had, tugged excitedly at their beards and moved\\nback towards their room only very slowly.  Meanwhile Gregor\\'s sister\\nhad overcome the despair she had fallen into when her playing was\\nsuddenly interrupted.  She had let her hands drop and let violin and\\nbow hang limply for a while but continued to look at the music as if\\nstill playing, but then she suddenly pulled herself together, lay\\nthe instrument on her mother\\'s lap who still sat laboriously\\nstruggling for breath where she was, and ran into the next room\\nwhich, under pressure from her father, the three gentlemen were more\\nquickly moving toward.  Under his sister\\'s experienced hand, the\\npillows and covers on the beds flew up and were put into order and\\nshe had already finished making the beds and slipped out again\\nbefore the three gentlemen had reached the room.  Gregor\\'s father\\nseemed so obsessed with what he was doing that he forgot all the\\nrespect he owed to his tenants.  He urged them and pressed them\\nuntil, when he was already at the door of the room, the middle of\\nthe three gentlemen shouted like thunder and stamped his foot and\\nthereby brought Gregor\\'s father to a halt.  \"I declare here and\\nnow\", he said, raising his hand and glancing at Gregor\\'s mother and\\nsister to gain their attention too, \"that with regard to the\\nrepugnant conditions that prevail in this flat and with this family\"\\n- here he looked briefly but decisively at the floor - \"I give\\nimmediate notice on my room.  For the days that I have been living\\nhere I will, of course, pay nothing at all, on the contrary I will\\nconsider whether to proceed with some kind of action for damages\\nfrom you, and believe me it would be very easy to set out the\\ngrounds for such an action.\"  He was silent and looked straight\\nahead as if waiting for something.  And indeed, his two friends\\njoined in with the words: \"And we also give immediate notice.\"  With\\nthat, he took hold of the door handle and slammed the door.\\n\\nGregor\\'s father staggered back to his seat, feeling his way with his\\nhands, and fell into it; it looked as if he was stretching himself\\nout for his usual evening nap but from the uncontrolled way his head\\nkept nodding it could be seen that he was not sleeping at all.\\nThroughout all this, Gregor had lain still where the three gentlemen\\nhad first seen him.  His disappointment at the failure of his plan,\\nand perhaps also because he was weak from hunger, made it impossible\\nfor him to move.  He was sure that everyone would turn on him any\\nmoment, and he waited.  He was not even startled out of this state\\nwhen the violin on his mother\\'s lap fell from her trembling fingers\\nand landed loudly on the floor.\\n\\n\"Father, Mother\", said his sister, hitting the table with her hand\\nas introduction, \"we can\\'t carry on like this.  Maybe you can\\'t see\\nit, but I can.  I don\\'t want to call this monster my brother, all I\\ncan say is: we have to try and get rid of it.  We\\'ve done all that\\'s\\nhumanly possible to look after it and be patient, I don\\'t think\\nanyone could accuse us of doing anything wrong.\"\\n\\n\"She\\'s absolutely right\", said Gregor\\'s father to himself.  His\\nmother, who still had not had time to catch her breath, began to\\ncough dully, her hand held out in front of her and a deranged\\nexpression in her eyes.\\n\\nGregor\\'s sister rushed to his mother and put her hand on her\\nforehead.  Her words seemed to give Gregor\\'s father some more\\ndefinite ideas.  He sat upright, played with his uniform cap between\\nthe plates left by the three gentlemen after their meal, and\\noccasionally looked down at Gregor as he lay there immobile.\\n\\n\"We have to try and get rid of it\", said Gregor\\'s sister, now\\nspeaking only to her father, as her mother was too occupied with\\ncoughing to listen, \"it\\'ll be the death of both of you, I can see it\\ncoming.  We can\\'t all work as hard as we have to and then come home\\nto be tortured like this, we can\\'t endure it.  I can\\'t endure it any\\nmore.\"  And she broke out so heavily in tears that they flowed down\\nthe face of her mother, and she wiped them away with mechanical hand\\nmovements.\\n\\n\"My child\", said her father with sympathy and obvious understanding,\\n\"what are we to do?\"\\n\\nHis sister just shrugged her shoulders as a sign of the helplessness\\nand tears that had taken hold of her, displacing her earlier\\ncertainty.\\n\\n\"If he could just understand us\", said his father almost as a\\nquestion; his sister shook her hand vigorously through her tears as\\na sign that of that there was no question.\\n\\n\"If he could just understand us\", repeated Gregor\\'s father, closing\\nhis eyes in acceptance of his sister\\'s certainty that that was quite\\nimpossible, \"then perhaps we could come to some kind of arrangement\\nwith him.  But as it is ...\"\\n\\n\"It\\'s got to go\", shouted his sister, \"that\\'s the only way, Father.\\nYou\\'ve got to get rid of the idea that that\\'s Gregor.  We\\'ve only\\nharmed ourselves by believing it for so long.  How can that be\\nGregor? If it were Gregor he would have seen long ago that it\\'s not\\npossible for human beings to live with an animal like that and he\\nwould have gone of his own free will.  We wouldn\\'t have a brother\\nany more, then, but we could carry on with our lives and remember\\nhim with respect.  As it is this animal is persecuting us, it\\'s\\ndriven out our tenants, it obviously wants to take over the whole\\nflat and force us to sleep on the streets.  Father, look, just\\nlook\", she suddenly screamed, \"he\\'s starting again!\"   In her alarm,\\nwhich was totally beyond Gregor\\'s comprehension, his sister even\\nabandoned his mother as she pushed herself vigorously out of her\\nchair as if more willing to sacrifice her own mother than stay\\nanywhere near Gregor.  She rushed over to behind her father, who had\\nbecome excited merely because she was and stood up half raising his\\nhands in front of Gregor\\'s sister as if to protect her.\\n\\nBut Gregor had had no intention of frightening anyone, least of all\\nhis sister.  All he had done was begin to turn round so that he\\ncould go back into his room, although that was in itself quite\\nstartling as his pain-wracked condition meant that turning round\\nrequired a great deal of effort and he was using his head to help\\nhimself do it, repeatedly raising it and striking it against the\\nfloor.  He stopped and looked round.  They seemed to have realised\\nhis good intention and had only been alarmed briefly.  Now they all\\nlooked at him in unhappy silence.  His mother lay in her chair with\\nher legs stretched out and pressed against each other, her eyes\\nnearly closed with exhaustion; his sister sat next to his father\\nwith her arms around his neck.\\n\\n\"Maybe now they\\'ll let me turn round\", thought Gregor and went back\\nto work.  He could not help panting loudly with the effort and had\\nsometimes to stop and take a rest.  No-one was making him rush any\\nmore, everything was left up to him.  As soon as he had finally\\nfinished turning round he began to move straight ahead.  He was\\namazed at the great distance that separated him from his room, and\\ncould not understand how he had covered that distance in his weak\\nstate a little while before and almost without noticing it.  He\\nconcentrated on crawling as fast as he could and hardly noticed that\\nthere was not a word, not any cry, from his family to distract him.\\nHe did not turn his head until he had reached the doorway.  He did\\nnot turn it all the way round as he felt his neck becoming stiff,\\nbut it was nonetheless enough to see that nothing behind him had\\nchanged, only his sister had stood up.  With his last glance he saw\\nthat his mother had now fallen completely asleep.\\n\\nHe was hardly inside his room before the door was hurriedly shut,\\nbolted and locked.  The sudden noise behind Gregor so startled him\\nthat his little legs collapsed under him.  It was his sister who had\\nbeen in so much of a rush.  She had been standing there waiting and\\nsprung forward lightly, Gregor had not heard her coming at all, and\\nas she turned the key in the lock she said loudly to her parents \"At\\nlast!\".\\n\\n\"What now, then?\", Gregor asked himself as he looked round in the\\ndarkness.  He soon made the discovery that he could no longer move\\nat all.  This was no surprise to him, it seemed rather that being\\nable to actually move around on those spindly little legs until then\\nwas unnatural.  He also felt relatively comfortable.  It is true\\nthat his entire body was aching, but the pain seemed to be slowly\\ngetting weaker and weaker and would finally disappear altogether.\\nHe could already hardly feel the decayed apple in his back or the\\ninflamed area around it, which was entirely covered in white dust.\\nHe thought back of his family with emotion and love.  If it was\\npossible, he felt that he must go away even more strongly than his\\nsister.  He remained in this state of empty and peaceful rumination\\nuntil he heard the clock tower strike three in the morning.  He\\nwatched as it slowly began to get light everywhere outside the\\nwindow too.  Then, without his willing it, his head sank down\\ncompletely, and his last breath flowed weakly from his nostrils.\\n\\nWhen the cleaner came in early in the morning - they\\'d often asked\\nher not to keep slamming the doors but with her strength and in her\\nhurry she still did, so that everyone in the flat knew when she\\'d\\narrived and from then on it was impossible to sleep in peace - she\\nmade her usual brief look in on Gregor and at first found nothing\\nspecial.  She thought he was laying there so still on purpose,\\nplaying the martyr; she attributed all possible understanding to\\nhim.  She happened to be holding the long broom in her hand, so she\\ntried to tickle Gregor with it from the doorway.  When she had no\\nsuccess with that she tried to make a nuisance of herself and poked\\nat him a little, and only when she found she could shove him across\\nthe floor with no resistance at all did she start to pay attention.\\nShe soon realised what had really happened, opened her eyes wide,\\nwhistled to herself, but did not waste time to yank open the bedroom\\ndoors and shout loudly into the darkness of the bedrooms: \"Come and\\n\\'ave a look at this, it\\'s dead, just lying there, stone dead!\"\\n\\nMr. and  Mrs. Samsa sat upright there in their marriage bed and had\\nto make an effort to get over the shock caused by the cleaner before\\nthey could grasp what she was saying.  But then, each from his own\\nside, they hurried out of bed.  Mr. Samsa threw the blanket over his\\nshoulders,  Mrs. Samsa just came out in her nightdress; and that is\\nhow they went into Gregor\\'s room.  On the way they opened the door\\nto the living room where Grete had been sleeping since the three\\ngentlemen had moved in; she was fully dressed as if she had never\\nbeen asleep, and the paleness of her face seemed to confirm this.\\n\"Dead?\", asked  Mrs. Samsa, looking at the charwoman enquiringly,\\neven though she could have checked for herself and could have known\\nit even without checking.  \"That\\'s what I said\",  replied the\\ncleaner, and to prove it she gave Gregor\\'s body another shove with\\nthe broom, sending it sideways across the floor.  Mrs. Samsa made a\\nmovement as if she wanted to hold back the broom, but did not\\ncomplete it.  \"Now then\", said  Mr. Samsa, \"let\\'s give thanks to God\\nfor that\". He crossed himself, and the three women followed his\\nexample.  Grete, who had not taken her eyes from the corpse, said:\\n\"Just look how thin he was.  He didn\\'t eat anything for so long.\\nThe food came out again just the same as when it went in\". Gregor\\'s\\nbody was indeed completely dried up and flat, they had not seen it\\nuntil then, but now he was not lifted up on his little legs, nor did\\nhe do anything to make them look away.\\n\\n\"Grete, come with us in here for a little while\", said  Mrs. Samsa\\nwith a pained smile, and Grete followed her parents into the bedroom\\nbut not without looking back at the body.  The cleaner shut the door\\nand opened the window wide.  Although it was still early in the\\nmorning the fresh air had something of warmth mixed in with it.  It\\nwas already the end of March, after all.\\n\\nThe three gentlemen stepped out of their room and looked round in\\namazement for their breakfasts;  they had been forgotten about.\\n\"Where is our breakfast?\", the middle gentleman asked the cleaner\\nirritably.  She just put her finger on her lips and made a quick and\\nsilent sign to the men that they might like to come into Gregor\\'s\\nroom.  They did so, and stood around Gregor\\'s corpse with their\\nhands in the pockets of their well-worn coats. It was now quite\\nlight in the room.\\n\\nThen the door of the bedroom opened and  Mr. Samsa appeared in his\\nuniform with his wife on one arm and his daughter on the other.  All\\nof them had been crying a little; Grete now and then pressed her\\nface against her father\\'s arm.\\n\\n\"Leave my home.  Now!\", said  Mr. Samsa, indicating the door and\\nwithout letting the women from him.  \"What do you mean?\", asked the\\nmiddle of the three gentlemen somewhat disconcerted, and he smiled\\nsweetly.  The other two held their hands behind their backs and\\ncontinually rubbed them together in gleeful anticipation of a loud\\nquarrel which could only end in their favour.  \"I mean just what I\\nsaid\", answered  Mr. Samsa, and, with his two companions, went in a\\nstraight line towards the man.  At first, he stood there still,\\nlooking at the ground as if the contents of his head were\\nrearranging themselves into new positions.  \"Alright, we\\'ll go\\nthen\", he said, and looked up at  Mr. Samsa as if he had been\\nsuddenly overcome with humility and wanted permission again from\\nMr. Samsa for his decision.  Mr. Samsa merely opened his eyes wide\\nand briefly nodded to him several times.  At that, and without\\ndelay, the man actually did take long strides into the front\\nhallway; his two friends had stopped rubbing their hands some time\\nbefore and had been listening to what was being said.  Now they\\njumped off after their friend as if taken with a sudden fear that\\nMr. Samsa might go into the hallway in front of them and break the\\nconnection with their leader.  Once there, all three took their hats\\nfrom the stand, took their sticks from the holder, bowed without a\\nword and left the premises.  Mr. Samsa and the two women followed\\nthem out onto the landing; but they had had no reason to mistrust\\nthe men\\'s intentions and as they leaned over the landing they saw how\\nthe three gentlemen made slow but steady progress down the many\\nsteps.  As they turned the corner on each floor they disappeared and\\nwould reappear a few moments later; the further down they went, the\\nmore that the Samsa family lost interest in them; when a butcher\\'s\\nboy, proud of posture with his tray on his head, passed them on his\\nway up and came nearer than they were,  Mr. Samsa and the women came\\naway from the landing and went, as if relieved, back into the flat.\\n\\nThey decided the best way to make use of that day was for relaxation\\nand to go for a walk; not only had they earned a break from work but\\nthey were in serious need of it.  So they sat at the table and wrote\\nthree letters of excusal,  Mr. Samsa to his employers,  Mrs. Samsa\\nto her contractor and Grete to her principal.  The cleaner came in\\nwhile they were writing to tell them she was going, she\\'d finished\\nher work for that morning.  The three of them at first just nodded\\nwithout looking up from what they were writing, and it was only when\\nthe cleaner still did not seem to want to leave that they looked up\\nin irritation.  \"Well?\", asked  Mr. Samsa.  The charwoman stood in\\nthe doorway with a smile on her face as if she had some tremendous\\ngood news to report, but would only do it if she was clearly asked\\nto.  The almost vertical little ostrich feather on her hat, which\\nhad been a source of irritation to  Mr. Samsa all the time she had\\nbeen working for them, swayed gently in all directions.  \"What is it\\nyou want then?\", asked  Mrs. Samsa, whom the cleaner had the most\\nrespect for.  \"Yes\", she answered, and broke into a friendly laugh\\nthat made her unable to speak straight away, \"well then, that thing\\nin there, you needn\\'t worry about how you\\'re going to get rid of it.\\n That\\'s all been sorted out.\"   Mrs. Samsa and Grete bent down over\\ntheir letters as if intent on continuing with what they were\\nwriting;  Mr. Samsa saw that the cleaner wanted to start describing\\neverything in detail but, with outstretched hand, he made it quite\\nclear that she was not to.  So, as she was prevented from telling\\nthem all about it, she suddenly remembered what a hurry she was in\\nand, clearly peeved, called out \"Cheerio then, everyone\", turned\\nround sharply and left, slamming the door terribly as she went.\\n\\n\"Tonight she gets sacked\", said  Mr. Samsa, but he received no reply\\nfrom either his wife or his daughter as the charwoman seemed to have\\ndestroyed the peace they had only just gained.  They got up and went\\nover to the window where they remained with their arms around each\\nother.  Mr. Samsa twisted round in his chair to look at them and sat\\nthere watching for a while.  Then he called out: \"Come here, then.\\nLet\\'s forget about all that old stuff, shall we.  Come and give me a\\nbit of attention\". The two women immediately did as he said,\\nhurrying over to him where they kissed him and hugged him and then\\nthey quickly finished their letters.\\n\\nAfter that, the three of them left the flat together, which was\\nsomething they had not done for months, and took the tram out to the\\nopen country outside the town.  They had the tram, filled with warm\\nsunshine, all to themselves.  Leant back comfortably on their seats,\\nthey discussed their prospects and found that on closer examination\\nthey were not at all bad - until then they had never asked each\\nother about their work but all three had jobs which were very good\\nand held particularly good promise for the future.  The greatest\\nimprovement for the time being, of course, would be achieved quite\\neasily by moving house; what they needed now was a flat that was\\nsmaller and cheaper than the current one which had been chosen by\\nGregor, one that was in a better location and, most of all, more\\npractical.  All the time, Grete was becoming livelier.  With all the\\nworry they had been having of late her cheeks had become pale, but,\\nwhile they were talking,  Mr. and  Mrs. Samsa were struck, almost\\nsimultaneously, with the thought of how their daughter was\\nblossoming into a well built and beautiful young lady.  They became\\nquieter.  Just from each other\\'s glance and almost without knowing\\nit they agreed that it would soon be time to find a good man for\\nher.  And, as if in confirmation of their new dreams and good\\nintentions, as soon as they reached their destination Grete was the\\nfirst to get up and stretch out her young body.'"
      ]
     },
     "execution_count": 61,
     "metadata": {},
     "output_type": "execute_result"
    }
   ],
   "source": [
    "open('Kafka-The-Metamorphosis.txt', encoding='utf-8').read()"
   ]
  },
  {
   "cell_type": "markdown",
   "metadata": {},
   "source": [
    "#### Write a text file"
   ]
  },
  {
   "cell_type": "code",
   "execution_count": 62,
   "metadata": {},
   "outputs": [
    {
     "data": {
      "text/plain": [
       "<_io.TextIOWrapper name='a-new-file.txt' mode='w' encoding='utf-8'>"
      ]
     },
     "execution_count": 62,
     "metadata": {},
     "output_type": "execute_result"
    }
   ],
   "source": [
    "open('a-new-file.txt', mode='w', encoding='utf-8')"
   ]
  },
  {
   "cell_type": "code",
   "execution_count": 63,
   "metadata": {},
   "outputs": [
    {
     "data": {
      "text/plain": [
       "42"
      ]
     },
     "execution_count": 63,
     "metadata": {},
     "output_type": "execute_result"
    }
   ],
   "source": [
    "open('a-new-file.txt', mode='w', encoding='utf-8').write('I just wrote this to a text file. Alright!')"
   ]
  },
  {
   "cell_type": "code",
   "execution_count": 64,
   "metadata": {},
   "outputs": [
    {
     "data": {
      "text/plain": [
       "'I just wrote this to a text file. Alright!'"
      ]
     },
     "execution_count": 64,
     "metadata": {},
     "output_type": "execute_result"
    }
   ],
   "source": [
    "open('a-new-file.txt', mode='r', encoding='utf-8').read()\n"
   ]
  },
  {
   "cell_type": "markdown",
   "metadata": {},
   "source": [
    "It's good practice to specify the encoding!"
   ]
  },
  {
   "cell_type": "markdown",
   "metadata": {},
   "source": [
    "## 5. Conditionals and Comparisons\n",
    "\n",
    "Now that we've covered some basics, we can do a few more complicated things with Python. We can use it to ask very precise instrucitons about variables, lists, or data that we've defined: "
   ]
  },
  {
   "cell_type": "markdown",
   "metadata": {},
   "source": [
    "### Comparisons\n",
    "\n",
    "There are a number of ways we can compare values in Python! Here's a list of some of them:\n"
   ]
  },
  {
   "cell_type": "markdown",
   "metadata": {},
   "source": [
    "#### Greater than\n",
    "Is the variable `person1` greater than `person2`?"
   ]
  },
  {
   "cell_type": "code",
   "execution_count": 65,
   "metadata": {},
   "outputs": [
    {
     "data": {
      "text/plain": [
       "False"
      ]
     },
     "execution_count": 65,
     "metadata": {},
     "output_type": "execute_result"
    }
   ],
   "source": [
    "person1 = 30\n",
    "person2 = 30.5\n",
    "person1 > person2"
   ]
  },
  {
   "cell_type": "markdown",
   "metadata": {},
   "source": [
    "#### Not Equal\n",
    "\n",
    "Is the variable `person1` not equal to `person2`?"
   ]
  },
  {
   "cell_type": "code",
   "execution_count": 66,
   "metadata": {},
   "outputs": [
    {
     "data": {
      "text/plain": [
       "True"
      ]
     },
     "execution_count": 66,
     "metadata": {},
     "output_type": "execute_result"
    }
   ],
   "source": [
    "person1 = 30\n",
    "person2 = 30.5\n",
    "person1 != person2"
   ]
  },
  {
   "cell_type": "markdown",
   "metadata": {},
   "source": [
    "#### And\n",
    "What will happen if we check whether `person1` > 30 and `person2` > 30?"
   ]
  },
  {
   "cell_type": "code",
   "execution_count": 67,
   "metadata": {},
   "outputs": [
    {
     "data": {
      "text/plain": [
       "False"
      ]
     },
     "execution_count": 67,
     "metadata": {},
     "output_type": "execute_result"
    }
   ],
   "source": [
    "person1 = 30\n",
    "person2 = 30.5\n",
    "person1 > 30 and person2 > 30"
   ]
  },
  {
   "cell_type": "markdown",
   "metadata": {},
   "source": [
    "The boolean answer is False because `person1` is not greater than 30 (`person1` is exactly 30) even though `person2` is greater than 30. The and requires that both conditions are True."
   ]
  },
  {
   "cell_type": "markdown",
   "metadata": {},
   "source": [
    "#### Or\n",
    "\n",
    "\n",
    "What will happen if we check whether `person1 > 30 or person2 > 30`?\n"
   ]
  },
  {
   "cell_type": "code",
   "execution_count": 68,
   "metadata": {},
   "outputs": [
    {
     "data": {
      "text/plain": [
       "True"
      ]
     },
     "execution_count": 68,
     "metadata": {},
     "output_type": "execute_result"
    }
   ],
   "source": [
    "person1 = 30\n",
    "person2 = 30.5\n",
    "person1 > 30 or person2 > 30"
   ]
  },
  {
   "cell_type": "markdown",
   "metadata": {},
   "source": [
    "### Conditionals\n",
    "\n",
    "### If Statement\n",
    "\n",
    "An `if` statemetn is an insutruction to do soemthing *if* a particular condition is met.\n",
    "This typically takes the follwoing two line form:\n",
    "\n",
    "- On the first line, you type the English word `if` followed by an expression and then a colon (`:`)\n",
    "- On the second line, you indent and write an instruction or \"statement\" to be completed if the condition is met\n",
    "\n",
    "\n",
    "\n",
    "Here's a statement, followed by a conditional with a comparison"
   ]
  },
  {
   "cell_type": "code",
   "execution_count": 69,
   "metadata": {},
   "outputs": [],
   "source": [
    "beyonce = \"Grammy award-winner\""
   ]
  },
  {
   "cell_type": "code",
   "execution_count": 70,
   "metadata": {},
   "outputs": [
    {
     "name": "stdout",
     "output_type": "stream",
     "text": [
      "Congratulations, Beyonce!\n"
     ]
    }
   ],
   "source": [
    "if beyonce == \"Grammy award-winner\": # This is a conditional 'if' statement, followed by a comparison\n",
    "    print(\"Congratulations, Beyonce!\")"
   ]
  },
  {
   "cell_type": "markdown",
   "metadata": {},
   "source": [
    "**Formatting matters!**\n",
    "\n",
    "Take a look at the two examples below. Can you figure out what's wrong with the syntax?"
   ]
  },
  {
   "cell_type": "code",
   "execution_count": 71,
   "metadata": {},
   "outputs": [
    {
     "ename": "IndentationError",
     "evalue": "expected an indented block (<ipython-input-71-2ee10a666716>, line 4)",
     "output_type": "error",
     "traceback": [
      "\u001b[0;36m  File \u001b[0;32m\"<ipython-input-71-2ee10a666716>\"\u001b[0;36m, line \u001b[0;32m4\u001b[0m\n\u001b[0;31m    print(\"Congratulations, Beyonce!\")\u001b[0m\n\u001b[0m    ^\u001b[0m\n\u001b[0;31mIndentationError\u001b[0m\u001b[0;31m:\u001b[0m expected an indented block\n"
     ]
    }
   ],
   "source": [
    "# What's wrong with this example?\n",
    "\n",
    "if beyonce == \"Grammy award-winner\":\n",
    "print(\"Congratulations, Beyonce!\")"
   ]
  },
  {
   "cell_type": "code",
   "execution_count": 72,
   "metadata": {},
   "outputs": [
    {
     "ename": "SyntaxError",
     "evalue": "invalid syntax (<ipython-input-72-b97c0652827d>, line 3)",
     "output_type": "error",
     "traceback": [
      "\u001b[0;36m  File \u001b[0;32m\"<ipython-input-72-b97c0652827d>\"\u001b[0;36m, line \u001b[0;32m3\u001b[0m\n\u001b[0;31m    if beyonce == \"Grammy award-winner\"\u001b[0m\n\u001b[0m                                       ^\u001b[0m\n\u001b[0;31mSyntaxError\u001b[0m\u001b[0;31m:\u001b[0m invalid syntax\n"
     ]
    }
   ],
   "source": [
    "# What's wrong with this example?\n",
    "\n",
    "if beyonce == \"Grammy award-winner\"\n",
    "    print(\"Congratulations, Beyonce!\")"
   ]
  },
  {
   "cell_type": "markdown",
   "metadata": {},
   "source": [
    "### Else Statements\n",
    "You can add other conditions to conditionals and make them more complicated with `else` statements. This will instruct the program to do something in case the condition is not met. An `else` comes after an `if` statement and should be formatted it the same way."
   ]
  },
  {
   "cell_type": "code",
   "execution_count": 73,
   "metadata": {},
   "outputs": [],
   "source": [
    "beyonce = \"not a Grammy award-winner this year\""
   ]
  },
  {
   "cell_type": "code",
   "execution_count": 74,
   "metadata": {},
   "outputs": [
    {
     "name": "stdout",
     "output_type": "stream",
     "text": [
      "They messed up, Beyonce.\n"
     ]
    }
   ],
   "source": [
    "if beyonce == \"Grammy award-winner\":\n",
    "    print(\"Congratulations, Beyonce!\")\n",
    "else:\n",
    "    print(\"They messed up, Beyonce.\")"
   ]
  },
  {
   "cell_type": "markdown",
   "metadata": {},
   "source": [
    "### Elif Statements\n",
    "What if we wanted EVEN MORE complexity? You can add **even more** nuance with `elif` statments. Short for *else if*, these statments tell the computer to evaluate the first `if` statement. If that statement is not True, it will then evaluate the `elif` statement."
   ]
  },
  {
   "cell_type": "code",
   "execution_count": 75,
   "metadata": {},
   "outputs": [],
   "source": [
    "beyonce = \"Grammy award-nominee\""
   ]
  },
  {
   "cell_type": "code",
   "execution_count": 76,
   "metadata": {},
   "outputs": [
    {
     "name": "stdout",
     "output_type": "stream",
     "text": [
      "Ok well at least they nominated you, Beyonce.\n"
     ]
    }
   ],
   "source": [
    "if beyonce == \"Grammy award-winner\":\n",
    "    print(\"Congratulations, Beyonce!\")\n",
    "elif beyonce == \"Grammy award-nominee\":\n",
    "    print(\"Ok well at least they nominated you, Beyonce.\")\n",
    "else:\n",
    "    print(\"They messed up, Beyonce.\")"
   ]
  },
  {
   "cell_type": "markdown",
   "metadata": {},
   "source": [
    "## 6. List and Loops\n",
    "\n",
    "When working with data, we're often not just dealing with single variables, but collections of variables, stored in places like spreadsheets, as we've seen. \n",
    "\n",
    "\n",
    "One of the most common Python data collections is a *list*. By using a list, we can put the names of the people featured in the dataset into a single collection."
   ]
  },
  {
   "cell_type": "code",
   "execution_count": 77,
   "metadata": {},
   "outputs": [],
   "source": [
    "names = ['Mary', 'John', 'Margaret', 'Anthony']"
   ]
  },
  {
   "cell_type": "code",
   "execution_count": 78,
   "metadata": {},
   "outputs": [
    {
     "data": {
      "text/plain": [
       "list"
      ]
     },
     "execution_count": 78,
     "metadata": {},
     "output_type": "execute_result"
    }
   ],
   "source": [
    "type(names)"
   ]
  },
  {
   "cell_type": "markdown",
   "metadata": {},
   "source": [
    "\n",
    "\n",
    "A **list** is always enclosed by square brackets [ ] and accepts items in a row separated by commas (,). A list can contain any combination of Python data types.\n"
   ]
  },
  {
   "cell_type": "code",
   "execution_count": 79,
   "metadata": {},
   "outputs": [],
   "source": [
    "ages = [28, 19, 60, 30]"
   ]
  },
  {
   "cell_type": "markdown",
   "metadata": {},
   "source": [
    "### Index\n",
    "\n",
    "Like with strings, we can index a list! \n",
    "\n",
    "If we wanted to pull the first entry in our names list, we would type the following:"
   ]
  },
  {
   "cell_type": "code",
   "execution_count": 80,
   "metadata": {},
   "outputs": [
    {
     "data": {
      "text/plain": [
       "'Mary'"
      ]
     },
     "execution_count": 80,
     "metadata": {},
     "output_type": "execute_result"
    }
   ],
   "source": [
    "names[0]"
   ]
  },
  {
   "cell_type": "code",
   "execution_count": 81,
   "metadata": {},
   "outputs": [
    {
     "data": {
      "text/plain": [
       "'John'"
      ]
     },
     "execution_count": 81,
     "metadata": {},
     "output_type": "execute_result"
    }
   ],
   "source": [
    "names[1]"
   ]
  },
  {
   "cell_type": "markdown",
   "metadata": {},
   "source": [
    "### Slice\n",
    "\n",
    "\n",
    "You can also slice lists like you can slice a string.\n"
   ]
  },
  {
   "cell_type": "code",
   "execution_count": 82,
   "metadata": {},
   "outputs": [],
   "source": [
    "more_names = ['Unity', 'Catherine', 'Thomas', 'William', 'Patrick',\n",
    "              'Mary Anne', 'Morris', 'Michael', 'Ellen', 'James']"
   ]
  },
  {
   "cell_type": "markdown",
   "metadata": {},
   "source": [
    "Here's how we would slicke to get the list starting from the 3rd item of the list onward:"
   ]
  },
  {
   "cell_type": "code",
   "execution_count": 83,
   "metadata": {},
   "outputs": [
    {
     "data": {
      "text/plain": [
       "['Thomas',\n",
       " 'William',\n",
       " 'Patrick',\n",
       " 'Mary Anne',\n",
       " 'Morris',\n",
       " 'Michael',\n",
       " 'Ellen',\n",
       " 'James']"
      ]
     },
     "execution_count": 83,
     "metadata": {},
     "output_type": "execute_result"
    }
   ],
   "source": [
    " more_names[2:]"
   ]
  },
  {
   "cell_type": "markdown",
   "metadata": {},
   "source": [
    "### Reverse index\n",
    "\n",
    "\n",
    "Because we can reverse index a list from the end to the beginning, we can also slice a list by starting from the 2nd to last item until the end.\n"
   ]
  },
  {
   "cell_type": "code",
   "execution_count": 84,
   "metadata": {},
   "outputs": [
    {
     "data": {
      "text/plain": [
       "['Ellen', 'James']"
      ]
     },
     "execution_count": 84,
     "metadata": {},
     "output_type": "execute_result"
    }
   ],
   "source": [
    "more_names[-2:]"
   ]
  },
  {
   "cell_type": "markdown",
   "metadata": {},
   "source": [
    "### List Methods\n",
    "`list.append(another_item)` \tadds new item to end of list  \n",
    "`list.extend(another_list)` \tadds items from another_list to list  \n",
    "`list.remove(item)` \tremoves first instance of item  \n",
    "`list.sort(reverse=False)` \tsort the order of list  \n",
    "`list.reverse()` \treverses order of list  "
   ]
  },
  {
   "cell_type": "markdown",
   "metadata": {},
   "source": [
    "Let's try a few of these list methods out:"
   ]
  },
  {
   "cell_type": "code",
   "execution_count": 86,
   "metadata": {},
   "outputs": [],
   "source": [
    "names.append(\"Isabel\")"
   ]
  },
  {
   "cell_type": "code",
   "execution_count": 87,
   "metadata": {},
   "outputs": [
    {
     "data": {
      "text/plain": [
       "['Mary', 'John', 'Margaret', 'Anthony', 'Isabel', 'Isabel']"
      ]
     },
     "execution_count": 87,
     "metadata": {},
     "output_type": "execute_result"
    }
   ],
   "source": [
    "names"
   ]
  },
  {
   "cell_type": "markdown",
   "metadata": {},
   "source": [
    "Notice what happened?"
   ]
  },
  {
   "cell_type": "code",
   "execution_count": 88,
   "metadata": {},
   "outputs": [],
   "source": [
    "names.sort()"
   ]
  },
  {
   "cell_type": "code",
   "execution_count": 89,
   "metadata": {},
   "outputs": [
    {
     "data": {
      "text/plain": [
       "['Anthony', 'Isabel', 'Isabel', 'John', 'Margaret', 'Mary']"
      ]
     },
     "execution_count": 89,
     "metadata": {},
     "output_type": "execute_result"
    }
   ],
   "source": [
    "names"
   ]
  },
  {
   "cell_type": "code",
   "execution_count": 90,
   "metadata": {},
   "outputs": [],
   "source": [
    "ages = [28, 19, 60, 30]"
   ]
  },
  {
   "cell_type": "code",
   "execution_count": 91,
   "metadata": {},
   "outputs": [],
   "source": [
    "ages.sort()"
   ]
  },
  {
   "cell_type": "code",
   "execution_count": 92,
   "metadata": {},
   "outputs": [
    {
     "data": {
      "text/plain": [
       "[19, 28, 30, 60]"
      ]
     },
     "execution_count": 92,
     "metadata": {},
     "output_type": "execute_result"
    }
   ],
   "source": [
    "ages"
   ]
  },
  {
   "cell_type": "markdown",
   "metadata": {},
   "source": [
    "### For Loops\n",
    "\n",
    "\n",
    "\n",
    "One of the best ways to work with a list is with `for` loops. This is a way of considering each item in the list or \"iterating\" through the list.\n"
   ]
  },
  {
   "cell_type": "code",
   "execution_count": 93,
   "metadata": {},
   "outputs": [],
   "source": [
    "names = ['Mary', 'John', 'Margaret', 'Anthony']"
   ]
  },
  {
   "cell_type": "code",
   "execution_count": 94,
   "metadata": {},
   "outputs": [
    {
     "name": "stdout",
     "output_type": "stream",
     "text": [
      "Mary\n",
      "John\n",
      "Margaret\n",
      "Anthony\n"
     ]
    }
   ],
   "source": [
    "for name in names:\n",
    "    print(name)"
   ]
  },
  {
   "cell_type": "markdown",
   "metadata": {},
   "source": [
    "\n",
    "\n",
    "A basic basic for loop will consist of two lines:\n",
    "\n",
    "- On the first line, you type the English word `for`, a new variable name for each item in the list, the English word `in`, the name of the list, and a colon (`:`)\n",
    "- On the second line, you indent and write an instruction or “statement” to be completed for each item in the list\n",
    "\n"
   ]
  },
  {
   "cell_type": "code",
   "execution_count": 95,
   "metadata": {},
   "outputs": [
    {
     "name": "stdout",
     "output_type": "stream",
     "text": [
      "Person's name is Mary\n",
      "Person's name is John\n",
      "Person's name is Margaret\n",
      "Person's name is Anthony\n"
     ]
    }
   ],
   "source": [
    "for name in names:\n",
    "    print(f\"Person's name is {name}\")"
   ]
  },
  {
   "cell_type": "markdown",
   "metadata": {},
   "source": [
    "We can name variables in our list whatever we would like, so long as we're consistent (though it helps to name them something legible:)"
   ]
  },
  {
   "cell_type": "code",
   "execution_count": 96,
   "metadata": {},
   "outputs": [
    {
     "name": "stdout",
     "output_type": "stream",
     "text": [
      "Person's name is Mary\n",
      "Person's name is John\n",
      "Person's name is Margaret\n",
      "Person's name is Anthony\n"
     ]
    }
   ],
   "source": [
    "for x in names:\n",
    "    print(f\"Person's name is {x}\")"
   ]
  },
  {
   "cell_type": "markdown",
   "metadata": {},
   "source": [
    "We can combine `for` loops with other functions."
   ]
  },
  {
   "cell_type": "code",
   "execution_count": 97,
   "metadata": {},
   "outputs": [],
   "source": [
    "ages = [28, 19, 60, 30]"
   ]
  },
  {
   "cell_type": "code",
   "execution_count": 98,
   "metadata": {},
   "outputs": [
    {
     "name": "stdout",
     "output_type": "stream",
     "text": [
      "56\n",
      "38\n",
      "120\n",
      "60\n"
     ]
    }
   ],
   "source": [
    "for age in ages:\n",
    "    print(age * 2)"
   ]
  },
  {
   "cell_type": "code",
   "execution_count": 132,
   "metadata": {},
   "outputs": [
    {
     "name": "stdout",
     "output_type": "stream",
     "text": [
      "Person is more than 30 years old\n",
      "Person is more than 30 years old\n",
      "Person is less than 30 years old\n",
      "Person is more than 30 years old\n"
     ]
    }
   ],
   "source": [
    "for age in ages:\n",
    "    if age > 30:\n",
    "        print(\"Person is less than 30 years old\")\n",
    "    else:\n",
    "        print(\"Person is more than 30 years old\")"
   ]
  }
 ],
 "metadata": {
  "kernelspec": {
   "display_name": "Python 3",
   "language": "python",
   "name": "python3"
  },
  "language_info": {
   "codemirror_mode": {
    "name": "ipython",
    "version": 3
   },
   "file_extension": ".py",
   "mimetype": "text/x-python",
   "name": "python",
   "nbconvert_exporter": "python",
   "pygments_lexer": "ipython3",
   "version": "3.8.3"
  }
 },
 "nbformat": 4,
 "nbformat_minor": 4
}
