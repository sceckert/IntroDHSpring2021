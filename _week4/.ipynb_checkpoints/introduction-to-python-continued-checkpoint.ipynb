{
 "cells": [
  {
   "cell_type": "markdown",
   "metadata": {},
   "source": [
    "# Introduction to Python (Continued)"
   ]
  },
  {
   "cell_type": "markdown",
   "metadata": {},
   "source": [
    "Thursday, Feb. 25, 2021\n",
    "\n",
    "Today, we're going to practice what we've learned to do so far in Python and learn a few more basic elements of Python data analysis.\n",
    "\n",
    "- [Exercise 1.Using Python to calculate the most frequent words in a text file](#Exercise-1:-Using-Python-to-calculate-the-most-frequent-words-in-a-text-file)\n",
    "- [2. Manipulate, clean, and sort lists](#2.-Using-Python-to-manipulate,-clean,-and-sort-lists-of-data) \n",
    "- [3. Read  and explore tabular data](#3.-Using-Python-to-read-&-explore-tabular-data)\n",
    "- [4. (time permitting) Make simple data visualizations](#4.-Making-simple-data-visualizations)\n",
    "\n",
    "## Recap of Python basics:\n",
    "\n",
    "As part of your homework, you learned some of the basic ways we can use Python to open and manipulate text files (files that end in .txt). \n",
    "\n",
    "We also learned how to store and sort variables in short lists.\n",
    "\n",
    "We learned the basic shape of a Python script:\n",
    "\n",
    "- **import** statements come first, telling pythong what libraries \n",
    "- next we **define** filepaths and assign variables\n",
    "- then we **define** any functions\n",
    "- then we **read in** any external text files (files ending .txt) or tabular data that you'll be working with (files ending .csv)\n",
    "- then we **manipulate** and **ananlyze your file** using the functions we've imported or defined\n",
    "- then we **output** results\n",
    "- And throughout the script we **add** comments with # hashtags to explain what your script does\n",
    "\n"
   ]
  },
  {
   "cell_type": "markdown",
   "metadata": {},
   "source": [
    "## QUESTIONS??? <img align=\"right\" src=\"images/cat-typing.gif\" width=\"300\" height=\"200\"/>\n",
    "\n",
    "What was confusing? Interesting?\n",
    "\n",
    "Are there words or terms that it would be helpful to define?\n",
    "\n",
    "What lingering questions do you have about the exercises?\n",
    "\n",
    "> Python can be confusing––when I first encountered it, it seemed confusing! (Why do I need quotation marks around some things? What's the difference between a function and a variable? Why do I keep getting errors?) \n",
    "\n",
    ">If you, like me, felt like this cat flailing around on a keyboard, that's TOTALLY NORMAL!!! =>"
   ]
  },
  {
   "cell_type": "markdown",
   "metadata": {},
   "source": [
    "### Let's practice what we've learned! "
   ]
  },
  {
   "cell_type": "markdown",
   "metadata": {},
   "source": [
    "## Exercise 1: Using Python to calculate the most frequent words in a text file\n",
    "\n",
    "### Step 1. \n",
    "Copy our script for counting word frequency in [Introduction to Python Basics](https://mybinder.org/v2/gh/sceckert/introdhspring2021/main?urlpath=lab/tree/_week4/introduction-to-python.ipynb), part 1 into the cell below:"
   ]
  },
  {
   "cell_type": "code",
   "execution_count": null,
   "metadata": {},
   "outputs": [],
   "source": [
    "# word-frequencies.py\n",
    "\n",
    "# Import Libraries and Modules\n",
    "\n",
    "import re\n",
    "from collections import Counter\n",
    "\n",
    "# Define Functions\n",
    "\n",
    "\n",
    "def split_into_words(any_chunk_of_text):\n",
    "    lowercase_text = any_chunk_of_text.lower()\n",
    "    split_words = re.split(\"\\W+\", lowercase_text) \n",
    "    return split_words\n",
    "\n",
    "# Define Filepaths and Assign Variables\n",
    "\n",
    "# Try substituting in a new file here!\n",
    "filepath_of_text = '../_datasets/texts/literature/Mary-Shelley-Frankenstein-1818.txt' \n",
    "number_of_desired_words = 40\n",
    "\n",
    "stopwords = ['i', 'me', 'my', 'myself', 'we', 'our', 'ours', 'ourselves', 'you', 'your', 'yours',\n",
    "'yourself', 'yourselves', 'he', 'him', 'his', 'himself', 'she', 'her', 'hers',\n",
    " 'herself', 'it', 'its', 'itself', 'they', 'them', 'their', 'theirs', 'themselves',\n",
    " 'what', 'which', 'who', 'whom', 'this', 'that', 'these', 'those', 'am', 'is', 'are',\n",
    " 'was', 'were', 'be', 'been', 'being', 'have', 'has', 'had', 'having', 'do', 'does',\n",
    " 'did', 'doing', 'a', 'an', 'the', 'and', 'but', 'if', 'or', 'because', 'as', 'until',\n",
    " 'while', 'of', 'at', 'by', 'for', 'with', 'about', 'against', 'between', 'into',\n",
    " 'through', 'during', 'before', 'after', 'above', 'below', 'to', 'from', 'up', 'down',\n",
    " 'in', 'out', 'on', 'off', 'over', 'under', 'again', 'further', 'then', 'once', 'here',\n",
    " 'there', 'when', 'where', 'why', 'how', 'all', 'any', 'both', 'each', 'few', 'more',\n",
    " 'most', 'other', 'some', 'such', 'no', 'nor', 'not', 'only', 'own', 'same', 'so',\n",
    " 'than', 'too', 'very', 's', 't', 'can', 'will', 'just', 'don', 'should', 'now', 've', 'll', 'amp']\n",
    "\n",
    "# Read in File\n",
    "\n",
    "full_text = open(filepath_of_text, encoding=\"utf-8\").read()\n",
    "\n",
    "# Manipulate and Analyze File\n",
    "\n",
    "all_the_words = split_into_words(full_text)\n",
    "meaningful_words = [word for word in all_the_words if word not in stopwords]\n",
    "meaningful_words_tally = Counter(meaningful_words)\n",
    "most_frequent_meaningful_words = meaningful_words_tally.most_common(number_of_desired_words)\n",
    "\n",
    "# Output Results\n",
    "\n",
    "most_frequent_meaningful_words"
   ]
  },
  {
   "cell_type": "markdown",
   "metadata": {},
   "source": [
    "### Step 2. \n",
    "As a group, take a minute to **describe what this script does**, in plain English. \n",
    "\n",
    "- What is the sequence of steps in the script?\n",
    "- What are stopwords? \n",
    "- What efect do they have on the output?\n",
    "\n",
    "> Sidenote:  \n",
    "> If you want to learn more about stopwords (and their history), check out Daniel Rosenberg's article [\"Stop, Words\"](https://www-jstor-org.ezproxy.princeton.edu/stable/10.1525/rep.2014.127.1.83?seq=1#metadata_info_tab_contents) (2014)\n",
    "\n",
    "### Step 3. \n",
    "Let's test out our script on other texts. \n",
    "\n",
    "1. Choose a text from one of the following list and paste it in to `filepath_of_text` variable. in the cell above\n",
    "     - Start by comparing the 1818 and 1831 editions of Mary Shelley's novel (both downloaded from the [Project Gutenberg](https://www.gutenberg.org/) text library)\n",
    "     - Then try some others, like the full lyrics of Beyoncé's album, *Lemondade*, , *Frankenstein*, or the full texts of the tweets used in [whatisdigitalhumanities.com](https://whatisdigitalhumanities.com/)"
   ]
  },
  {
   "cell_type": "markdown",
   "metadata": {},
   "source": [
    "```\n",
    "filepath_of_text = '../_datasets/texts/literature/Mary-Shelley-Frankenstein-1818.txt'\n",
    "filepath_of_text = '../_datasets/texts/literature/Mary-Shelley-Frankenstein-1831.txt'\n",
    "filepath_of_text = '../_datasets/texts/literature/Jane-Austen-Pride-and-Prejudice.txt'\n",
    "filepath_of_text = '../_datasets/texts/music/Beyonce-Lemonade.txt'\n",
    "filepath_of_text = '../_datasets/texts/music/Lin-Manuel-Miranda-Hamilton-Musical.txt'\n",
    "filepath_of_text = '../_datasets/texts/social-media/Trump-Tweets_2016-2020.txt'\n",
    "filepath_of_text = '../_datasets/texts/social-media/day_of_DH_just_quotes.csv' \n",
    "\n",
    "# This last one is from Jason Heppler's WhatIsDigitalHumanities.com dataset -- pulled from DayofDH tweets 2009-2014\n",
    "```"
   ]
  },
  {
   "cell_type": "markdown",
   "metadata": {},
   "source": [
    "### ✨For the future✨:\n",
    "### I want to try this out on other texts!  Where else can I find text files? \n",
    "\n",
    "[Project Gutenberg](https://www.gutenberg.org/)\n",
    "<img src=\"images/gutenberg.png\" width=\"700\" height=\"40\"/>\n",
    "\n",
    "[Oxford Text Archive](https://ota.bodleian.ox.ac.uk/repository/xmlui/)\n",
    "<img src=\"images/ota.png\" width=\"700\" height=\"40\"/>\n",
    "\n",
    "Alan Liu's [list of demo corpora](http://dhresourcesforprojectbuilding.pbworks.com/w/page/69244469/Data%20Collections%20and%20Datasets#demo-corpora) -- collections of text files\n",
    "\n",
    "Projects that create databases for specifice :\n",
    "- [Old Bailey Online](https://www.oldbaileyonline.org/) (a database of 18th-century criminal trials)\n",
    "- [Early Novels Database](https://github.com/earlynovels/end-dataset) (a database of early fiction)\n"
   ]
  },
  {
   "cell_type": "markdown",
   "metadata": {},
   "source": [
    "-----\n",
    "## 💡Let's learn some new Python tricks! 💡\n",
    "---"
   ]
  },
  {
   "cell_type": "markdown",
   "metadata": {},
   "source": [
    "## 2. Using Python to manipulate, clean, and sort lists of data\n",
    "\n",
    "Let's say we're a historian who are interested in critically analyzing representations of disease in public health data. You might turn to a dataset like the Bellevue Almhouse Dataset, which records Irish imigrants in the  how \"disease\" was captured in the [Bellevue Almhouse Dataset](https://nyuirish.net/almshouse/the-almshouse-records/), which draws on records from the 19th Bellevue Almhouse in New York City.\n",
    "\n",
    "We could look at a small sample of this data. "
   ]
  },
  {
   "cell_type": "code",
   "execution_count": 12,
   "metadata": {},
   "outputs": [
    {
     "data": {
      "text/html": [
       "<div>\n",
       "<style scoped>\n",
       "    .dataframe tbody tr th:only-of-type {\n",
       "        vertical-align: middle;\n",
       "    }\n",
       "\n",
       "    .dataframe tbody tr th {\n",
       "        vertical-align: top;\n",
       "    }\n",
       "\n",
       "    .dataframe thead th {\n",
       "        text-align: right;\n",
       "    }\n",
       "</style>\n",
       "<table border=\"1\" class=\"dataframe\">\n",
       "  <thead>\n",
       "    <tr style=\"text-align: right;\">\n",
       "      <th></th>\n",
       "      <th>date_in</th>\n",
       "      <th>first_name</th>\n",
       "      <th>last_name</th>\n",
       "      <th>age</th>\n",
       "      <th>disease</th>\n",
       "      <th>profession</th>\n",
       "      <th>gender</th>\n",
       "      <th>children</th>\n",
       "    </tr>\n",
       "  </thead>\n",
       "  <tbody>\n",
       "    <tr>\n",
       "      <th>0</th>\n",
       "      <td>1847-04-17</td>\n",
       "      <td>Mary</td>\n",
       "      <td>Gallagher</td>\n",
       "      <td>28.0</td>\n",
       "      <td>recent emigrant</td>\n",
       "      <td>married</td>\n",
       "      <td>w</td>\n",
       "      <td>Child Alana 10 days</td>\n",
       "    </tr>\n",
       "    <tr>\n",
       "      <th>1</th>\n",
       "      <td>1847-04-08</td>\n",
       "      <td>John</td>\n",
       "      <td>Sanin (?)</td>\n",
       "      <td>19.0</td>\n",
       "      <td>recent emigrant</td>\n",
       "      <td>laborer</td>\n",
       "      <td>m</td>\n",
       "      <td>Catherine 2 mo</td>\n",
       "    </tr>\n",
       "    <tr>\n",
       "      <th>2</th>\n",
       "      <td>1847-04-17</td>\n",
       "      <td>Anthony</td>\n",
       "      <td>Clark</td>\n",
       "      <td>60.0</td>\n",
       "      <td>recent emigrant</td>\n",
       "      <td>laborer</td>\n",
       "      <td>m</td>\n",
       "      <td>Charles Riley afed 10 days</td>\n",
       "    </tr>\n",
       "    <tr>\n",
       "      <th>3</th>\n",
       "      <td>1847-04-08</td>\n",
       "      <td>Lawrence</td>\n",
       "      <td>Feeney</td>\n",
       "      <td>32.0</td>\n",
       "      <td>recent emigrant</td>\n",
       "      <td>laborer</td>\n",
       "      <td>m</td>\n",
       "      <td>Child</td>\n",
       "    </tr>\n",
       "    <tr>\n",
       "      <th>4</th>\n",
       "      <td>1847-04-13</td>\n",
       "      <td>Henry</td>\n",
       "      <td>Joyce</td>\n",
       "      <td>21.0</td>\n",
       "      <td>recent emigrant</td>\n",
       "      <td>NaN</td>\n",
       "      <td>m</td>\n",
       "      <td>Child 1 mo</td>\n",
       "    </tr>\n",
       "    <tr>\n",
       "      <th>5</th>\n",
       "      <td>1847-04-14</td>\n",
       "      <td>Bridget</td>\n",
       "      <td>Hart</td>\n",
       "      <td>20.0</td>\n",
       "      <td>recent emigrant</td>\n",
       "      <td>spinster</td>\n",
       "      <td>w</td>\n",
       "      <td>Child</td>\n",
       "    </tr>\n",
       "    <tr>\n",
       "      <th>6</th>\n",
       "      <td>1847-04-14</td>\n",
       "      <td>Mary</td>\n",
       "      <td>Green</td>\n",
       "      <td>40.0</td>\n",
       "      <td>recent emigrant</td>\n",
       "      <td>spinster</td>\n",
       "      <td>w</td>\n",
       "      <td>And child 2 months</td>\n",
       "    </tr>\n",
       "    <tr>\n",
       "      <th>7</th>\n",
       "      <td>1847-04-19</td>\n",
       "      <td>Daniel</td>\n",
       "      <td>Loftus</td>\n",
       "      <td>27.0</td>\n",
       "      <td>destitution</td>\n",
       "      <td>laborer</td>\n",
       "      <td>m</td>\n",
       "      <td>NaN</td>\n",
       "    </tr>\n",
       "    <tr>\n",
       "      <th>8</th>\n",
       "      <td>1847-04-10</td>\n",
       "      <td>James</td>\n",
       "      <td>Day</td>\n",
       "      <td>35.0</td>\n",
       "      <td>recent emigrant</td>\n",
       "      <td>laborer</td>\n",
       "      <td>m</td>\n",
       "      <td>NaN</td>\n",
       "    </tr>\n",
       "    <tr>\n",
       "      <th>9</th>\n",
       "      <td>1847-04-10</td>\n",
       "      <td>Margaret</td>\n",
       "      <td>Farrell</td>\n",
       "      <td>30.0</td>\n",
       "      <td>recent emigrant</td>\n",
       "      <td>widow</td>\n",
       "      <td>w</td>\n",
       "      <td>NaN</td>\n",
       "    </tr>\n",
       "  </tbody>\n",
       "</table>\n",
       "</div>"
      ],
      "text/plain": [
       "      date_in first_name  last_name   age          disease profession gender  \\\n",
       "0  1847-04-17       Mary  Gallagher  28.0  recent emigrant    married      w   \n",
       "1  1847-04-08       John  Sanin (?)  19.0  recent emigrant    laborer      m   \n",
       "2  1847-04-17    Anthony      Clark  60.0  recent emigrant    laborer      m   \n",
       "3  1847-04-08   Lawrence     Feeney  32.0  recent emigrant    laborer      m   \n",
       "4  1847-04-13      Henry      Joyce  21.0  recent emigrant        NaN      m   \n",
       "5  1847-04-14    Bridget       Hart  20.0  recent emigrant   spinster      w   \n",
       "6  1847-04-14       Mary      Green  40.0  recent emigrant   spinster      w   \n",
       "7  1847-04-19     Daniel     Loftus  27.0      destitution    laborer      m   \n",
       "8  1847-04-10      James        Day  35.0  recent emigrant    laborer      m   \n",
       "9  1847-04-10   Margaret    Farrell  30.0  recent emigrant      widow      w   \n",
       "\n",
       "                     children  \n",
       "0         Child Alana 10 days  \n",
       "1              Catherine 2 mo  \n",
       "2  Charles Riley afed 10 days  \n",
       "3                       Child  \n",
       "4                  Child 1 mo  \n",
       "5                       Child  \n",
       "6          And child 2 months  \n",
       "7                         NaN  \n",
       "8                         NaN  \n",
       "9                         NaN  "
      ]
     },
     "execution_count": 12,
     "metadata": {},
     "output_type": "execute_result"
    }
   ],
   "source": [
    "import pandas as pd # This command imports the library `pandas` --  we'll be learning more about in a later lesson!\n",
    "pd.read_csv('../_datasets/bellevue_almshouse_modified.csv').head(10)"
   ]
  },
  {
   "cell_type": "markdown",
   "metadata": {},
   "source": [
    "In our dataset above, notice those NaN values?? This is the way that the dataframe datatype indicates MISSING DATA––i.e. a blank field in our CSV file. Keep this at the back of your mind, we'll come back to what those blank values might mean for our dataset. "
   ]
  },
  {
   "cell_type": "markdown",
   "metadata": {},
   "source": [
    "What if we wanted to:\n",
    "\n",
    "- know how many times a certain value appears in the data (e.g., the so-called disease “recent emigrant”)\n",
    "\n",
    "- programatically change all blank values in the data (e.g., from a blank to “no disease recorded”)\n",
    "\n",
    "- find the most and least common values in the data (e.g., most common “diseases” or professions)?\n",
    "\n",
    "We can use something called a Python list to store data and perform an operation on it!\n",
    "\n",
    "Let's look at some sample lists. Each of the lists below contain rows that are drawn from the dataset above."
   ]
  },
  {
   "cell_type": "code",
   "execution_count": 13,
   "metadata": {},
   "outputs": [],
   "source": [
    "first_names = ['Unity', 'Catherine', 'Thomas', 'William', 'Patrick', 'Mary Anne', 'Morris',\n",
    "               'Michael', 'Ellen', 'James', 'Michael', 'Hannah', 'Alexander', 'Mary A', 'Serena?',\n",
    "               'Margaret', 'Michael', 'Jane', 'Rosanna', 'James', 'Michael', 'John', 'John', 'Mary',\n",
    "               'Bantel', 'Marcella', 'Arthur', 'Michael', 'Mary', 'Martin']\n",
    "\n",
    "last_names =  ['Harkin', 'Doyle', 'McDonald', 'Jordan', 'Rouse', 'Keene', 'Brown',\n",
    "               'McLoughlin', 'Cassidy', 'Whittle', 'Coyle', 'Cullen', 'Cozens', \n",
    "               'Maly', 'McGuire', 'Laly', 'Bahan', 'Combs', 'McGovern', 'Gallagher', \n",
    "               'Crone', 'Brannon', 'McDonal', 'Atkins', 'Garragan', 'Wood', 'Kelly', 'Galeny', 'Welch', 'Kerly']\n",
    "\n",
    "diseases = ['', 'recent emigrant', 'sickness', '', '', '', 'destitution', '', 'sickness', '',\n",
    "            'sickness', 'recent emigrant', '', 'insane', 'recent emigrant', 'insane', '', '',\n",
    "            'sickness', 'sickness', '', 'syphilis', 'sickness', '', 'recent emigrant', 'destitution',\n",
    "            'sickness', 'recent emigrant', 'sickness', 'sickness']\n",
    "\n",
    "\n",
    "ages = ['22', '21', '23', '47', '45', '28', '23', '50', '26', '28', '30', '30', '65', '17', '35',\n",
    "        '27', '32', '40', '22', '30', '27', '40', '41', '37', '16', '20', '30', '30', '35', '9']"
   ]
  },
  {
   "cell_type": "markdown",
   "metadata": {},
   "source": [
    "### Using a `for` loop to iterate over a list\n",
    "In your homework, you learned about `for` loops: they're a way of iterating over a set of items in a list in Python. \n",
    "\n",
    "For instance, we could iterate over all of the categories that appear in our `diseases` list:"
   ]
  },
  {
   "cell_type": "code",
   "execution_count": 14,
   "metadata": {},
   "outputs": [
    {
     "name": "stdout",
     "output_type": "stream",
     "text": [
      "\n",
      "recent emigrant\n",
      "sickness\n",
      "\n",
      "\n",
      "\n",
      "destitution\n",
      "\n",
      "sickness\n",
      "\n",
      "sickness\n",
      "recent emigrant\n",
      "\n",
      "insane\n",
      "recent emigrant\n",
      "insane\n",
      "\n",
      "\n",
      "sickness\n",
      "sickness\n",
      "\n",
      "syphilis\n",
      "sickness\n",
      "\n",
      "recent emigrant\n",
      "destitution\n",
      "sickness\n",
      "recent emigrant\n",
      "sickness\n",
      "sickness\n"
     ]
    }
   ],
   "source": [
    "for disease in diseases:\n",
    "    print(disease)"
   ]
  },
  {
   "cell_type": "markdown",
   "metadata": {},
   "source": [
    "We could also add more information, like print the line number for each item in our list.\n",
    "\n",
    "To do this, we use the `enumerate()` operation:\n",
    "\n",
    "###  `enumerate()` "
   ]
  },
  {
   "cell_type": "code",
   "execution_count": 15,
   "metadata": {},
   "outputs": [
    {
     "name": "stdout",
     "output_type": "stream",
     "text": [
      "Person 0: \n",
      "Person 1: recent emigrant\n",
      "Person 2: sickness\n",
      "Person 3: \n",
      "Person 4: \n",
      "Person 5: \n",
      "Person 6: destitution\n",
      "Person 7: \n",
      "Person 8: sickness\n",
      "Person 9: \n",
      "Person 10: sickness\n",
      "Person 11: recent emigrant\n",
      "Person 12: \n",
      "Person 13: insane\n",
      "Person 14: recent emigrant\n",
      "Person 15: insane\n",
      "Person 16: \n",
      "Person 17: \n",
      "Person 18: sickness\n",
      "Person 19: sickness\n",
      "Person 20: \n",
      "Person 21: syphilis\n",
      "Person 22: sickness\n",
      "Person 23: \n",
      "Person 24: recent emigrant\n",
      "Person 25: destitution\n",
      "Person 26: sickness\n",
      "Person 27: recent emigrant\n",
      "Person 28: sickness\n",
      "Person 29: sickness\n"
     ]
    }
   ],
   "source": [
    "# We can get a little fancy and add more to our label: \n",
    "for number, disease in enumerate(diseases):\n",
    "    print(f'Person {number}:', disease) # Here we use an `f-string` to add a text string to our variable."
   ]
  },
  {
   "cell_type": "markdown",
   "metadata": {},
   "source": [
    "\n",
    "### Using loops to extract subsets of our data\n",
    "\n",
    "We can use a loop to select only some items from a list.\n",
    "\n",
    "We create a new empty list and then use a `for` loop and an `if` to add items to it from our list *if* they meet our requirements:"
   ]
  },
  {
   "cell_type": "code",
   "execution_count": 16,
   "metadata": {},
   "outputs": [],
   "source": [
    "original_list = ['oranges', 'item_we_want', 'item_we_want', 'apples','item_we_want','item_we_DO_NOT_want']\n",
    "\n",
    "new_list = []\n",
    "for item in original_list:\n",
    "    if item == 'item_we_want':\n",
    "        new_list.append(item)"
   ]
  },
  {
   "cell_type": "code",
   "execution_count": 17,
   "metadata": {},
   "outputs": [
    {
     "name": "stdout",
     "output_type": "stream",
     "text": [
      "['item_we_want', 'item_we_want', 'item_we_want']\n"
     ]
    }
   ],
   "source": [
    "print(new_list)"
   ]
  },
  {
   "cell_type": "markdown",
   "metadata": {},
   "source": [
    "Say we wanted a list of persons whose listed `disease` was \"sickness.\"  We create a new (empty) list, called `diseases_subset`, and then use a `for` loop and an `if` to add items to it."
   ]
  },
  {
   "cell_type": "code",
   "execution_count": 18,
   "metadata": {},
   "outputs": [],
   "source": [
    "diseases_subset = []\n",
    "\n",
    "for disease in diseases:\n",
    "    if disease == \"sickness\":\n",
    "        diseases_subset.append(disease)"
   ]
  },
  {
   "cell_type": "code",
   "execution_count": 19,
   "metadata": {},
   "outputs": [
    {
     "name": "stdout",
     "output_type": "stream",
     "text": [
      "['sickness', 'sickness', 'sickness', 'sickness', 'sickness', 'sickness', 'sickness', 'sickness', 'sickness']\n"
     ]
    }
   ],
   "source": [
    "print(diseases_subset)"
   ]
  },
  {
   "cell_type": "markdown",
   "metadata": {},
   "source": [
    "We can create this list in a slightly more compact fashion, called a *list comprehension*.\n",
    "\n",
    "Instead of writing out the full `for` loop, we can put the loop *INSIDE* the brackets that contain the list we want to make:"
   ]
  },
  {
   "cell_type": "code",
   "execution_count": 20,
   "metadata": {},
   "outputs": [],
   "source": [
    "newer_list = [item for item in original_list if item == 'item_we_want']"
   ]
  },
  {
   "cell_type": "code",
   "execution_count": 21,
   "metadata": {},
   "outputs": [
    {
     "name": "stdout",
     "output_type": "stream",
     "text": [
      "['item_we_want', 'item_we_want', 'item_we_want']\n"
     ]
    }
   ],
   "source": [
    "print(newer_list)"
   ]
  },
  {
   "cell_type": "markdown",
   "metadata": {},
   "source": [
    "### Using loops to clean our data\n",
    "What if we wanted to update our data, so that blank data was not just a blank, but something more descriptive?\n",
    "\n",
    "We can use `for` loops and conditional statements to add items to the list if they meet some conditions, or modify and add them if they meet others:\n",
    "\n",
    "We create a new list called `updated_diseases`, and then use `if` and `else` statements:"
   ]
  },
  {
   "cell_type": "code",
   "execution_count": 22,
   "metadata": {},
   "outputs": [],
   "source": [
    "updated_diseases = []\n",
    "\n",
    "for disease in diseases:\n",
    "    if disease == '':# Here, we're telling the loop to look for diseases that are marked as blank\n",
    "        new_disease = 'no disease recorded' # assigning a new variable called `new_disease`\n",
    "        updated_diseases.append(new_disease) # tell the loop to record 'no disease recorded' if disease field originally blank\n",
    "    else:\n",
    "        updated_diseases.append(disease) # Here we're telling the loop to add the disease label as is, if it's not blank."
   ]
  },
  {
   "cell_type": "markdown",
   "metadata": {},
   "source": [
    " Let's check inside our new list:"
   ]
  },
  {
   "cell_type": "code",
   "execution_count": 23,
   "metadata": {},
   "outputs": [
    {
     "data": {
      "text/plain": [
       "['no disease recorded',\n",
       " 'recent emigrant',\n",
       " 'sickness',\n",
       " 'no disease recorded',\n",
       " 'no disease recorded',\n",
       " 'no disease recorded',\n",
       " 'destitution',\n",
       " 'no disease recorded',\n",
       " 'sickness',\n",
       " 'no disease recorded',\n",
       " 'sickness',\n",
       " 'recent emigrant',\n",
       " 'no disease recorded',\n",
       " 'insane',\n",
       " 'recent emigrant',\n",
       " 'insane',\n",
       " 'no disease recorded',\n",
       " 'no disease recorded',\n",
       " 'sickness',\n",
       " 'sickness',\n",
       " 'no disease recorded',\n",
       " 'syphilis',\n",
       " 'sickness',\n",
       " 'no disease recorded',\n",
       " 'recent emigrant',\n",
       " 'destitution',\n",
       " 'sickness',\n",
       " 'recent emigrant',\n",
       " 'sickness',\n",
       " 'sickness']"
      ]
     },
     "execution_count": 23,
     "metadata": {},
     "output_type": "execute_result"
    }
   ],
   "source": [
    "updated_diseases"
   ]
  },
  {
   "cell_type": "markdown",
   "metadata": {},
   "source": [
    "### Counting items in a list or collection\n",
    "\n",
    "To count items in lists or collections, we'll have to **`import`** a pre-written function called `Counter` from a library called `collections`\n"
   ]
  },
  {
   "cell_type": "code",
   "execution_count": 24,
   "metadata": {},
   "outputs": [],
   "source": [
    "from collections import Counter"
   ]
  },
  {
   "cell_type": "markdown",
   "metadata": {},
   "source": [
    "To use the `Counter()` function, we just need to put the thing we want counted inside the parentheses."
   ]
  },
  {
   "cell_type": "code",
   "execution_count": 25,
   "metadata": {},
   "outputs": [
    {
     "data": {
      "text/plain": [
       "Counter({'no disease recorded': 11,\n",
       "         'recent emigrant': 5,\n",
       "         'sickness': 9,\n",
       "         'destitution': 2,\n",
       "         'insane': 2,\n",
       "         'syphilis': 1})"
      ]
     },
     "execution_count": 25,
     "metadata": {},
     "output_type": "execute_result"
    }
   ],
   "source": [
    "Counter(updated_diseases)"
   ]
  },
  {
   "cell_type": "markdown",
   "metadata": {},
   "source": [
    "What we've created is a dictionary where the entries are the category of \"disease\" and the number of times it appears in our list.\n",
    "\n",
    "We can do some nifty things with this dictionary, like sort it into the most and least common diseases.\n"
   ]
  },
  {
   "cell_type": "code",
   "execution_count": 26,
   "metadata": {},
   "outputs": [
    {
     "data": {
      "text/plain": [
       "[('no disease recorded', 11),\n",
       " ('sickness', 9),\n",
       " ('recent emigrant', 5),\n",
       " ('destitution', 2),\n",
       " ('insane', 2),\n",
       " ('syphilis', 1)]"
      ]
     },
     "execution_count": 26,
     "metadata": {},
     "output_type": "execute_result"
    }
   ],
   "source": [
    "# To sort into the most common diseases:\n",
    "disease_tally = Counter(updated_diseases)\n",
    "disease_tally.most_common()"
   ]
  },
  {
   "cell_type": "code",
   "execution_count": 27,
   "metadata": {},
   "outputs": [
    {
     "data": {
      "text/plain": [
       "[('insane', 2), ('syphilis', 1)]"
      ]
     },
     "execution_count": 27,
     "metadata": {},
     "output_type": "execute_result"
    }
   ],
   "source": [
    "# To sort into the two least common diseases:\n",
    "disease_tally = Counter(updated_diseases)\n",
    "disease_tally.most_common()[-2:] # here we sort in reverse from the least common"
   ]
  },
  {
   "cell_type": "markdown",
   "metadata": {},
   "source": [
    "### Exercise 2: Counting and sorting \"professions\" in a list"
   ]
  },
  {
   "cell_type": "code",
   "execution_count": 10,
   "metadata": {},
   "outputs": [],
   "source": [
    "professions = ['married', 'married', 'laborer', 'laborer', 'widow', 'married', 'spinster',\n",
    "                     'laborer', 'spinster', 'laborer', 'spinster', 'spinster', 'married', 'laborer',\n",
    "                     'laborer', 'spinster', 'laborer', 'laborer', 'laborer', 'laborer', 'laborer', 'spinster',\n",
    "                     'laborer', 'spinster', 'widow', 'spinster', 'painter', 'laborer', 'weaver', 'laborer']\n"
   ]
  },
  {
   "cell_type": "markdown",
   "metadata": {},
   "source": [
    "1. Make a list of the top most common professions"
   ]
  },
  {
   "cell_type": "code",
   "execution_count": 8,
   "metadata": {},
   "outputs": [],
   "source": [
    "## Your code here"
   ]
  },
  {
   "cell_type": "markdown",
   "metadata": {},
   "source": [
    "2. Make a new list of professions that contains only the category `spinster`\n"
   ]
  },
  {
   "cell_type": "code",
   "execution_count": 11,
   "metadata": {},
   "outputs": [],
   "source": [
    "## Your code here"
   ]
  },
  {
   "cell_type": "markdown",
   "metadata": {},
   "source": [
    "----\n",
    "## 💡Check in: \n",
    "\n",
    "Let's take a minute to think about the categories we've been analyzing-- `dieseases` and `professions`. \n",
    "\n",
    "What are we actually counting wehen we count these labels? \n",
    "\n",
    "Is anything in the Anelise Shrout essay that could help us think about these labels? \n",
    "\n",
    "---"
   ]
  },
  {
   "cell_type": "markdown",
   "metadata": {},
   "source": [
    "## 3. Using Python to read & explore tabular data\n",
    "\n",
    "We'll be covering this more in future week, but for now, we can look at a few more things that Python can help us do:\n",
    "\n",
    "- Read in a CSV file (remember, CSV is short for comma-separarated values, a format for storing tabular data)\n",
    "- Explore and filter data\n",
    "\n",
    "Let's look back at our Bellevue Almshouse Dataset. First we have to load a special library called \"pandas\" which will help us load in tabular data (from a CSV) and store it as something called a **dataframe** -- a special Python object that we can perform operations on. Think of a dataframe as a souped up spreadsheet––it stores values in an array."
   ]
  },
  {
   "cell_type": "code",
   "execution_count": null,
   "metadata": {},
   "outputs": [],
   "source": [
    "# Import Pandas library, nicknaming it \"pd\"\n",
    "import pandas as pd\n",
    "# Set the maximum number of rows to display\n",
    "pd.options.display.max_rows = 100"
   ]
  },
  {
   "cell_type": "markdown",
   "metadata": {},
   "source": [
    "### Read in our CSV\n",
    "Here, we're going to read in a CSV spreadsheet of bellevue_almshouse data using pandas (which we've nicknamed `pd`) and the `.read_csv()` operation and assign it to the variable `bellevue_df` (so we can remind ourselves that this is the bellevue dataframe)."
   ]
  },
  {
   "cell_type": "code",
   "execution_count": null,
   "metadata": {},
   "outputs": [],
   "source": [
    "bellevue_df = pd.read_csv('../_datasets/bellevue_almshouse_modified.csv', delimiter=\",\", parse_dates=['date_in'])"
   ]
  },
  {
   "cell_type": "markdown",
   "metadata": {},
   "source": [
    "### Display our DataFrame\n",
    "Like other Python variables, we can simply type the name of our DataFrame to get a peek at what it contains"
   ]
  },
  {
   "cell_type": "code",
   "execution_count": null,
   "metadata": {},
   "outputs": [],
   "source": [
    "bellevue_df"
   ]
  },
  {
   "cell_type": "markdown",
   "metadata": {},
   "source": [
    "Display just the first 5 rows:"
   ]
  },
  {
   "cell_type": "code",
   "execution_count": null,
   "metadata": {},
   "outputs": [],
   "source": [
    "bellevue_df.head(5) # Use the .head() operation. Remember head and tail from the command line? It's the same principle"
   ]
  },
  {
   "cell_type": "markdown",
   "metadata": {},
   "source": [
    "### Calculate summary statistics of the DataFrame\n",
    "We can calculate some statistics on a DataFrame. This is a little like calculating summary statistics in Microsoft Excel or GoogleSheets "
   ]
  },
  {
   "cell_type": "code",
   "execution_count": null,
   "metadata": {},
   "outputs": [],
   "source": [
    "bellevue_df.describe(include='all')"
   ]
  },
  {
   "cell_type": "markdown",
   "metadata": {},
   "source": [
    "### Select columns\n",
    "To select a column from the DataFrame, we will type the name of the DataFrame followed by square brackets `[]`and a column name in quotations marks."
   ]
  },
  {
   "cell_type": "code",
   "execution_count": null,
   "metadata": {},
   "outputs": [],
   "source": [
    "# Select only the column labeled \"disease\"\n",
    "bellevue_df['disease']"
   ]
  },
  {
   "cell_type": "markdown",
   "metadata": {},
   "source": [
    "To select multiple columns, we need to treat them like a datafram, and enclose them in TWO sets of square brackets `[[ ]]`. "
   ]
  },
  {
   "cell_type": "code",
   "execution_count": null,
   "metadata": {},
   "outputs": [],
   "source": [
    "bellevue_df[['first_name', 'last_name', 'disease']]"
   ]
  },
  {
   "cell_type": "markdown",
   "metadata": {},
   "source": [
    "### Count Values\n",
    "To count values, we select a column, and use the `.value_counts()` operator"
   ]
  },
  {
   "cell_type": "code",
   "execution_count": null,
   "metadata": {},
   "outputs": [],
   "source": [
    "bellevue_df['disease'].value_counts()"
   ]
  },
  {
   "cell_type": "markdown",
   "metadata": {},
   "source": [
    "To count only the top 10 \"diseases\", use brackets to slice:"
   ]
  },
  {
   "cell_type": "code",
   "execution_count": null,
   "metadata": {},
   "outputs": [],
   "source": [
    "bellevue_df['disease'].value_counts()[:10]"
   ]
  },
  {
   "cell_type": "markdown",
   "metadata": {},
   "source": [
    "### Exercise 3: Counting and sorting professions from a DataFrame\n",
    "\n",
    "\n",
    "Using the operations we've learned, count the top 10 most common \"professions\" in our `bellevue_df`:"
   ]
  },
  {
   "cell_type": "code",
   "execution_count": null,
   "metadata": {},
   "outputs": [],
   "source": [
    "### Your code here"
   ]
  },
  {
   "cell_type": "markdown",
   "metadata": {},
   "source": [
    "## 4. Making simple data visualizations"
   ]
  },
  {
   "cell_type": "markdown",
   "metadata": {},
   "source": [
    "We can make some simple visualizations of what we've found!\n",
    "Run the cell below:"
   ]
  },
  {
   "cell_type": "code",
   "execution_count": null,
   "metadata": {},
   "outputs": [],
   "source": [
    "bellevue_df['disease'].value_counts()[:10].plot(kind='bar', title='Bellevue Almshouse:\\nMost Frequent \"Diseases\"') "
   ]
  },
  {
   "cell_type": "markdown",
   "metadata": {},
   "source": [
    "But wait --- what about all those ***blank spots*** that show up as NaN??\n",
    "\n",
    "Plotting functions in Python will ignore blank values. So all of those blank columns are ignored.\n",
    "\n",
    "We can try and make these blank spots a little more descriptive, much like we did for our simpler lists! \n",
    "\n",
    "\n",
    "### `.isna()` , `.notna()`, and `.fillna()`\n",
    "For dataframes, there are ways of sorting through missing data. These operations are called `.isna()` `.notna()` and `.fillna()`, which allow us to check if a value is NaN (or not), and to fill in blank values in a dataframe or in a section of a dataframe (like a column)."
   ]
  },
  {
   "cell_type": "code",
   "execution_count": null,
   "metadata": {},
   "outputs": [],
   "source": [
    "# Create a new column caled `disease_updated` that fills in all the blank spots in our `disease` column with \n",
    "# \"no disease recorded\"\n",
    "bellevue_df['disease_updated'] = bellevue_df['disease'].fillna('no disease recorded')"
   ]
  },
  {
   "cell_type": "markdown",
   "metadata": {},
   "source": [
    "Now, let's check our dataframe -- we should see a new column called `disease_updated`:"
   ]
  },
  {
   "cell_type": "code",
   "execution_count": null,
   "metadata": {},
   "outputs": [],
   "source": [
    "bellevue_df"
   ]
  },
  {
   "cell_type": "markdown",
   "metadata": {},
   "source": [
    "And now let's try and plot again, this time, plotting the column of updated diseases:"
   ]
  },
  {
   "cell_type": "code",
   "execution_count": null,
   "metadata": {},
   "outputs": [],
   "source": [
    "bellevue_df['disease_updated'].value_counts()[:10].plot(kind='bar', title='Bellevue Almshouse:\\nMost Frequent \"Diseases\"') "
   ]
  },
  {
   "cell_type": "markdown",
   "metadata": {},
   "source": [
    "Compare this to our earlier plot. What do you notice?"
   ]
  }
 ],
 "metadata": {
  "kernelspec": {
   "display_name": "Python 3",
   "language": "python",
   "name": "python3"
  },
  "language_info": {
   "codemirror_mode": {
    "name": "ipython",
    "version": 3
   },
   "file_extension": ".py",
   "mimetype": "text/x-python",
   "name": "python",
   "nbconvert_exporter": "python",
   "pygments_lexer": "ipython3",
   "version": "3.8.3"
  }
 },
 "nbformat": 4,
 "nbformat_minor": 4
}
