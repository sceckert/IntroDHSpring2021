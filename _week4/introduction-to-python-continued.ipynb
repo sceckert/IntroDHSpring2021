{
 "cells": [
  {
   "cell_type": "markdown",
   "metadata": {},
   "source": [
    "# Introduction to Python (Continued)"
   ]
  },
  {
   "cell_type": "markdown",
   "metadata": {},
   "source": [
    "Thursday, Feb. 25, 2021\n",
    "\n",
    "Today, we're going to learn to do a few more with Python.\n",
    "\n",
    "\n",
    "## Recap of Python basics:\n",
    "\n",
    "As part of your homework, you learned some of the basic ways we can use Python to open and manipulate text files (files that end in .txt). We also learned how to store and sort variables in short lists.\n",
    "\n",
    "We learned how any basic work with Python takes the same basic shape:\n",
    "\n",
    "- **import** any libraries \n",
    "- **define** filepaths and assign variables\n",
    "- **define** any functions\n",
    "- **read in** any external text files (files ending .txt) or tabular data that you'll be working with (files ending .csv)\n",
    "- **manipulate** and **ananlyze your file**\n",
    "- **output** results \n",
    "\n",
    "And you remembered to \n",
    "- **add** comments with # hashtags\n",
    "\n"
   ]
  },
  {
   "cell_type": "markdown",
   "metadata": {},
   "source": [
    "## QUESTIONS??\n",
    "\n",
    "<img src=\"https://media.giphy.com/media/lJNoBCvQYp7nq/giphy.gif\" width=\"300\" height=\"200\"/>"
   ]
  },
  {
   "cell_type": "markdown",
   "metadata": {},
   "source": [
    "## 1. Using Python to calculate the word frequency of a text file"
   ]
  },
  {
   "cell_type": "markdown",
   "metadata": {},
   "source": [
    "### Let's practice! "
   ]
  },
  {
   "cell_type": "markdown",
   "metadata": {},
   "source": [
    "1. Copy our script for counting word frequency in [Introduction to Python Basics](https://mybinder.org/v2/gh/sceckert/introdhspring2021/main?urlpath=lab/tree/_week4/introduction-to-python.ipynb), part 1 into the cell below:"
   ]
  },
  {
   "cell_type": "code",
   "execution_count": null,
   "metadata": {},
   "outputs": [],
   "source": []
  },
  {
   "cell_type": "markdown",
   "metadata": {},
   "source": [
    "2. Choose a text from one of the following sets to serve as your file\n"
   ]
  },
  {
   "cell_type": "markdown",
   "metadata": {},
   "source": [
    "#### Where else can I find text files? \n",
    "\n",
    "[Project Gutenberg](https://www.gutenberg.org/)\n",
    "<img src=\"images/gutenberg.png\" width=\"700\" height=\"40\"/>\n",
    "\n",
    "[Oxford Text Archive](https://ota.bodleian.ox.ac.uk/repository/xmlui/)\n",
    "<img src=\"images/ota.png\" width=\"700\" height=\"40\"/>\n",
    "\n",
    "Alan Liu's [list of demo corpora](http://dhresourcesforprojectbuilding.pbworks.com/w/page/69244469/Data%20Collections%20and%20Datasets#demo-corpora) -- collections of text files\n",
    "\n",
    "Projects that create databases for specifice :\n",
    "- [Old Bailey Online](https://www.oldbaileyonline.org/) (a database of 18th-century criminal trials)\n",
    "- [Early Novels Database](https://github.com/earlynovels/end-dataset) (a database of early fiction)\n"
   ]
  },
  {
   "cell_type": "markdown",
   "metadata": {},
   "source": [
    "## 2. Using Python to manipulate, clean, and sort lists of data\n",
    "\n",
    "Let's say we're a historian who are interested in critically analyzing representations of disease in public health data. You might turn to a dataset like the Bellevue Almhouse Dataset, which records Irish imigrants in the  how \"disease\" was captured in the [Bellevue Almhouse Dataset](https://nyuirish.net/almshouse/the-almshouse-records/), which draws on records from the 19th Bellevue Almhouse in New York City.\n",
    "\n",
    "We could look at a small sample of this data. "
   ]
  },
  {
   "cell_type": "code",
   "execution_count": null,
   "metadata": {},
   "outputs": [],
   "source": [
    "import pandas as pd # This command imports the library `pandas` --  we'll be learning more about in a later lesson!\n",
    "pd.read_csv('../_datasets/bellevue_almshouse_modified.csv').head(10)"
   ]
  },
  {
   "cell_type": "markdown",
   "metadata": {},
   "source": [
    "In our dataset above, notice those NaN values?? This is the way that the dataframe datatype indicates MISSING DATA––i.e. a blank field in our CSV file. Keep this at the back of your mind, we'll come back to what those blank values might mean for our dataset. "
   ]
  },
  {
   "cell_type": "markdown",
   "metadata": {},
   "source": [
    "What if we wanted to:\n",
    "\n",
    "- know how many times a certain value appears in the data (e.g., the so-called disease “recent emigrant”)\n",
    "\n",
    "- programatically change all blank values in the data (e.g., from a blank to “no disease recorded”)\n",
    "\n",
    "- find the most and least common values in the data (e.g., most common “diseases” or professions)?\n",
    "\n",
    "We can use something called a Python list!\n",
    "\n",
    "Let's learn what that is using some sample lists. Each of the lists below contain rows that are drawn from the dataset above."
   ]
  },
  {
   "cell_type": "code",
   "execution_count": null,
   "metadata": {},
   "outputs": [],
   "source": [
    "first_names = ['Unity', 'Catherine', 'Thomas', 'William', 'Patrick', 'Mary Anne', 'Morris',\n",
    "               'Michael', 'Ellen', 'James', 'Michael', 'Hannah', 'Alexander', 'Mary A', 'Serena?',\n",
    "               'Margaret', 'Michael', 'Jane', 'Rosanna', 'James', 'Michael', 'John', 'John', 'Mary',\n",
    "               'Bantel', 'Marcella', 'Arthur', 'Michael', 'Mary', 'Martin']\n",
    "\n",
    "last_names =  ['Harkin', 'Doyle', 'McDonald', 'Jordan', 'Rouse', 'Keene', 'Brown',\n",
    "               'McLoughlin', 'Cassidy', 'Whittle', 'Coyle', 'Cullen', 'Cozens', \n",
    "               'Maly', 'McGuire', 'Laly', 'Bahan', 'Combs', 'McGovern', 'Gallagher', \n",
    "               'Crone', 'Brannon', 'McDonal', 'Atkins', 'Garragan', 'Wood', 'Kelly', 'Galeny', 'Welch', 'Kerly']\n",
    "\n",
    "diseases = ['', 'recent emigrant', 'sickness', '', '', '', 'destitution', '', 'sickness', '',\n",
    "            'sickness', 'recent emigrant', '', 'insane', 'recent emigrant', 'insane', '', '',\n",
    "            'sickness', 'sickness', '', 'syphilis', 'sickness', '', 'recent emigrant', 'destitution',\n",
    "            'sickness', 'recent emigrant', 'sickness', 'sickness']\n",
    "\n",
    "\n",
    "ages = ['22', '21', '23', '47', '45', '28', '23', '50', '26', '28', '30', '30', '65', '17', '35',\n",
    "        '27', '32', '40', '22', '30', '27', '40', '41', '37', '16', '20', '30', '30', '35', '9']"
   ]
  },
  {
   "cell_type": "markdown",
   "metadata": {},
   "source": [
    "### Using a `for` loop to iterate over a list\n",
    "In your homework, you learned about `for` loops: they're a way of iterating over a set of items in a list in Python. \n",
    "\n",
    "For instance, we could iterate over all of the categories that appear in our `diseases` list:"
   ]
  },
  {
   "cell_type": "code",
   "execution_count": null,
   "metadata": {},
   "outputs": [],
   "source": [
    "for disease in diseases:\n",
    "    print(disease)"
   ]
  },
  {
   "cell_type": "markdown",
   "metadata": {},
   "source": [
    "We could also add more information, like print the line number for each item in our list.\n",
    "\n",
    "To do this, we use the `enumerate()` operation:\n",
    "\n",
    "###  `enumerate()` "
   ]
  },
  {
   "cell_type": "code",
   "execution_count": null,
   "metadata": {},
   "outputs": [],
   "source": [
    "# We can get a little fancy and add more to our label: \n",
    "for number, disease in enumerate(diseases):\n",
    "    print(f'Person {number}:', disease) # Here we use an `f-string` to add a text string to our variable."
   ]
  },
  {
   "cell_type": "markdown",
   "metadata": {},
   "source": [
    "\n",
    "### Using loops to extract subsets of our data\n",
    "\n",
    "We can use a loop to select only some items from a list.\n",
    "\n",
    "We create a new empty list and then use a `for` loop and an `if` to add items to it from our list *if* they meet our requirements:"
   ]
  },
  {
   "cell_type": "code",
   "execution_count": null,
   "metadata": {},
   "outputs": [],
   "source": [
    "original_list = ['oranges', 'item_we_want', 'item_we_want', 'apples','item_we_want','item_we_DO_NOT_want']\n",
    "\n",
    "new_list = []\n",
    "for item in original_list:\n",
    "    if item == 'item_we_want':\n",
    "        new_list.append(item)"
   ]
  },
  {
   "cell_type": "code",
   "execution_count": null,
   "metadata": {},
   "outputs": [],
   "source": [
    "print(new_list)"
   ]
  },
  {
   "cell_type": "markdown",
   "metadata": {},
   "source": [
    "Say we wanted a list of persons whose listed `disease` was \"sickness.\"  We create a new (empty) list, called `diseases_subset`, and then use a `for` loop and an `if` to add items to it."
   ]
  },
  {
   "cell_type": "code",
   "execution_count": null,
   "metadata": {},
   "outputs": [],
   "source": [
    "diseases_subset = []\n",
    "\n",
    "for disease in diseases:\n",
    "    if disease == \"sickness\":\n",
    "        diseases_subset.append(disease)"
   ]
  },
  {
   "cell_type": "code",
   "execution_count": null,
   "metadata": {},
   "outputs": [],
   "source": [
    "print(diseases_subset)"
   ]
  },
  {
   "cell_type": "markdown",
   "metadata": {},
   "source": [
    "We can create this list in a slightly more compact fashion, called a *list comprehension*.\n",
    "\n",
    "Instead of writing out the full `for` loop, we can put the loop *INSIDE* the brackets that contain the list we want to make:"
   ]
  },
  {
   "cell_type": "code",
   "execution_count": null,
   "metadata": {},
   "outputs": [],
   "source": [
    "newer_list = [item for item in original_list if item == 'item_we_want']"
   ]
  },
  {
   "cell_type": "code",
   "execution_count": null,
   "metadata": {},
   "outputs": [],
   "source": [
    "print(newer_list)"
   ]
  },
  {
   "cell_type": "markdown",
   "metadata": {},
   "source": [
    "### Using loops to clean our data\n",
    "What if we wanted to update our data, so that blank data was not just a blank, but something more descriptive?\n",
    "\n",
    "We can use `for` loops and conditional statements to add items to the list if they meet some conditions, or modify and add them if they meet others:\n",
    "\n",
    "We create a new list called `updated_diseases`, and then use `if` and `else` statements:"
   ]
  },
  {
   "cell_type": "code",
   "execution_count": null,
   "metadata": {},
   "outputs": [],
   "source": [
    "updated_diseases = []\n",
    "\n",
    "for disease in diseases:\n",
    "    if disease == '':# Here, we're telling the loop to look for diseases that are marked as blank\n",
    "        new_disease = 'no disease recorded' # assigning a new variable called `new_disease`\n",
    "        updated_diseases.append(new_disease) # tell the loop to record 'no disease recorded' if disease field originally blank\n",
    "    else:\n",
    "        updated_diseases.append(disease) # Here we're telling the loop to add the disease label as is, if it's not blank."
   ]
  },
  {
   "cell_type": "markdown",
   "metadata": {},
   "source": [
    " Let's check inside our new list:"
   ]
  },
  {
   "cell_type": "code",
   "execution_count": null,
   "metadata": {},
   "outputs": [],
   "source": [
    "updated_diseases"
   ]
  },
  {
   "cell_type": "markdown",
   "metadata": {},
   "source": [
    "### Counting items in a list or collection\n",
    "\n",
    "To count items in lists or collections, we'll have to **`import`** a pre-written function called `Counter` from a library called `collections`\n"
   ]
  },
  {
   "cell_type": "code",
   "execution_count": null,
   "metadata": {},
   "outputs": [],
   "source": [
    "from collections import Counter"
   ]
  },
  {
   "cell_type": "markdown",
   "metadata": {},
   "source": [
    "To use the `Counter()` function, we just need to put the thing we want counted inside the parentheses."
   ]
  },
  {
   "cell_type": "code",
   "execution_count": null,
   "metadata": {},
   "outputs": [],
   "source": [
    "Counter(updated_diseases)"
   ]
  },
  {
   "cell_type": "markdown",
   "metadata": {},
   "source": [
    "What we've created is a dictionary where the entries are the category of \"disease\" and the number of times it appears in our list.\n",
    "\n",
    "We can do some nifty things with this dictionary, like sort it into the most and least common diseases.\n"
   ]
  },
  {
   "cell_type": "code",
   "execution_count": null,
   "metadata": {},
   "outputs": [],
   "source": [
    "# To sort into the most common diseases:\n",
    "disease_tally = Counter(updated_diseases)\n",
    "disease_tally.most_common()"
   ]
  },
  {
   "cell_type": "code",
   "execution_count": null,
   "metadata": {},
   "outputs": [],
   "source": [
    "# To sort into the two least common diseases:\n",
    "disease_tally = Counter(updated_diseases)\n",
    "disease_tally.most_common()[-2:] # here we sort in reverse from the least common"
   ]
  },
  {
   "cell_type": "markdown",
   "metadata": {},
   "source": [
    "Try to do the same with professions:"
   ]
  },
  {
   "cell_type": "markdown",
   "metadata": {},
   "source": [
    "## 3. Using Python to read & explore tabular data\n",
    "\n",
    "We'll be covering this more in future week, but for now, we can look at a few more things that Python can help us do:\n",
    "\n",
    "- Read in a CSV file (remember, CSV is short for comma-separarated values, a format for storing tabular data)\n",
    "- Explore and filter data\n",
    "- Make simple plots and data visualizations\n",
    "\n",
    "Let's look back at our Bellevue Almshouse Dataset. We're going to get a piek "
   ]
  },
  {
   "cell_type": "code",
   "execution_count": 199,
   "metadata": {},
   "outputs": [],
   "source": [
    "# Import Pandas library, nicknaming it \"pd\"\n",
    "import pandas as pd\n",
    "# Set the maximum number of rows to display\n",
    "pd.options.display.max_rows = 100"
   ]
  },
  {
   "cell_type": "markdown",
   "metadata": {},
   "source": [
    "### Read in our CSV"
   ]
  },
  {
   "cell_type": "code",
   "execution_count": null,
   "metadata": {},
   "outputs": [],
   "source": [
    "bellevue_df = pd.read_csv('../_datasets/bellevue_almshouse_modified.csv', delimiter=\",\", parse_dates=['date_in'])"
   ]
  },
  {
   "cell_type": "markdown",
   "metadata": {},
   "source": [
    "### Display our dataframe"
   ]
  },
  {
   "cell_type": "code",
   "execution_count": null,
   "metadata": {},
   "outputs": [],
   "source": [
    "bellevue_df"
   ]
  },
  {
   "cell_type": "markdown",
   "metadata": {},
   "source": [
    "Display just the first 5 rows:"
   ]
  },
  {
   "cell_type": "code",
   "execution_count": null,
   "metadata": {},
   "outputs": [],
   "source": [
    "bellevue_df.head(5) # Use the .head() operation. Remember head and tail from the command line? It's the same principle"
   ]
  },
  {
   "cell_type": "markdown",
   "metadata": {},
   "source": [
    "### Calculate statistics:"
   ]
  },
  {
   "cell_type": "code",
   "execution_count": null,
   "metadata": {},
   "outputs": [],
   "source": [
    "bellevue_df.describe(include='all')"
   ]
  },
  {
   "cell_type": "markdown",
   "metadata": {},
   "source": [
    "### Select Columns\n",
    "To select a column from the DataFrame, we will type the name of the DataFrame followed by square brackets and a column name in quotations marks."
   ]
  },
  {
   "cell_type": "code",
   "execution_count": null,
   "metadata": {},
   "outputs": [],
   "source": [
    "# Select only the column labeled \"disease\"\n",
    "bellevue_df['disease']"
   ]
  },
  {
   "cell_type": "markdown",
   "metadata": {},
   "source": [
    "To select multiple columns, we need to treat them like a datafram, and enclose them in TWO sets of square brackets:"
   ]
  },
  {
   "cell_type": "code",
   "execution_count": null,
   "metadata": {},
   "outputs": [],
   "source": [
    "bellevue_df[['first_name', 'last_name', 'disease']]"
   ]
  },
  {
   "cell_type": "markdown",
   "metadata": {},
   "source": [
    "### Count Values\n",
    "To count values, we select a column, and use the `.value_counts()` operator"
   ]
  },
  {
   "cell_type": "code",
   "execution_count": null,
   "metadata": {},
   "outputs": [],
   "source": [
    "bellevue_df['disease'].value_counts()"
   ]
  },
  {
   "cell_type": "markdown",
   "metadata": {},
   "source": [
    "To count only the top 10, use brackets to slice:"
   ]
  },
  {
   "cell_type": "code",
   "execution_count": null,
   "metadata": {},
   "outputs": [],
   "source": [
    "bellevue_df['disease'].value_counts()[:10]"
   ]
  },
  {
   "cell_type": "code",
   "execution_count": null,
   "metadata": {},
   "outputs": [],
   "source": [
    "bellevue_df['profession'].value_counts()[:10]"
   ]
  },
  {
   "cell_type": "markdown",
   "metadata": {},
   "source": [
    "## 4. Making simple data visualizations"
   ]
  },
  {
   "cell_type": "markdown",
   "metadata": {},
   "source": [
    "We can make some simple visualizations of what we've found!\n",
    "Run the cell below:"
   ]
  },
  {
   "cell_type": "code",
   "execution_count": null,
   "metadata": {},
   "outputs": [],
   "source": [
    "bellevue_df['disease'].value_counts()[:10].plot(kind='bar', title='Bellevue Almshouse:\\nMost Frequent \"Diseases\"') "
   ]
  },
  {
   "cell_type": "markdown",
   "metadata": {},
   "source": [
    "But wait --- what about all those ***blank spots*** that show up as NaN??\n",
    "\n",
    "Plotting functions in Python will ignore blank values. So all of those blank columns are ignored.\n",
    "\n",
    "We can try and fix this, much like we did for our simpler lists! \n",
    "\n",
    "### `.isna()` , `.notna()`, and `.fillna()`\n",
    "For dataframes, there are ways of sorting through the missing data. These operations are called `.isna()` `.notna()` and `.fillna()`, which allow us to check if a value is NaN (or not), and to fill in blank values in a dataframe or in a section of a dataframe (like a column)."
   ]
  },
  {
   "cell_type": "code",
   "execution_count": null,
   "metadata": {},
   "outputs": [],
   "source": [
    "# Create a new column caled `disease_updated` that fills in all the blank spots in our `disease` column with \n",
    "# \"no disease recorded\"\n",
    "bellevue_df['disease_updated'] = bellevue_df['disease'].fillna('no disease recorded')"
   ]
  },
  {
   "cell_type": "markdown",
   "metadata": {},
   "source": [
    "Now, let's check our dataframe -- we should see a new column called `disease_updated`:"
   ]
  },
  {
   "cell_type": "code",
   "execution_count": null,
   "metadata": {},
   "outputs": [],
   "source": [
    "bellevue_df"
   ]
  },
  {
   "cell_type": "markdown",
   "metadata": {},
   "source": [
    "And now let's try and plot again, this time, plotting the column of updated diseases:"
   ]
  },
  {
   "cell_type": "code",
   "execution_count": null,
   "metadata": {},
   "outputs": [],
   "source": [
    "bellevue_df['disease_updated'].value_counts()[:10].plot(kind='bar', title='Bellevue Almshouse:\\nMost Frequent \"Diseases\"') "
   ]
  },
  {
   "cell_type": "markdown",
   "metadata": {},
   "source": [
    "Compare this to our earlier plot. What do you notice?"
   ]
  }
 ],
 "metadata": {
  "kernelspec": {
   "display_name": "Python 3",
   "language": "python",
   "name": "python3"
  },
  "language_info": {
   "codemirror_mode": {
    "name": "ipython",
    "version": 3
   },
   "file_extension": ".py",
   "mimetype": "text/x-python",
   "name": "python",
   "nbconvert_exporter": "python",
   "pygments_lexer": "ipython3",
   "version": "3.8.3"
  }
 },
 "nbformat": 4,
 "nbformat_minor": 4
}
