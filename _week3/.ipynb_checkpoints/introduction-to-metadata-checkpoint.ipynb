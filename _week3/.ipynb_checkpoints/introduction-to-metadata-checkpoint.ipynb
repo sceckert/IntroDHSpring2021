{
 "cells": [
  {
   "cell_type": "markdown",
   "metadata": {},
   "source": [
    "# Exploring a Dataset through Its Metadata\n",
    "\n",
    "This is sneak preview of what we'll be using Jupyter notebooks to do in this course. For now, look at the code cells below. These Python commands will let you explore the Knoedler Art dataset that we explored in Exercise #2. \n",
    "\n",
    "NOTE: the first cell must be run before you can reun the others. "
   ]
  },
  {
   "cell_type": "markdown",
   "metadata": {},
   "source": [
    "Click on the box below and then click on the (►), the \"Run\" icon, in the menu above:"
   ]
  },
  {
   "cell_type": "code",
   "execution_count": null,
   "metadata": {},
   "outputs": [],
   "source": [
    "import pandas as pd\n",
    "knoedler_data = pd.read_csv(\"../_datasets/nyc_knoedler.csv\")\n",
    "#knoedler_data = pd.read_csv(\"knoedler_data_clean.csv\")\n",
    "pd.options.display.max_rows = 100\n",
    "knoedler_data.head(10)"
   ]
  },
  {
   "cell_type": "markdown",
   "metadata": {},
   "source": [
    "### Using metadata to filter our dataset"
   ]
  },
  {
   "cell_type": "markdown",
   "metadata": {},
   "source": [
    "What if we want to use the \"genre\" category to look for only paintings that were classified as \"Animals\"? Click on the cell below, then click (►)."
   ]
  },
  {
   "cell_type": "code",
   "execution_count": null,
   "metadata": {},
   "outputs": [],
   "source": [
    "knoedler_data[knoedler_data[\"genre\"] == \"Animals\"]"
   ]
  },
  {
   "cell_type": "markdown",
   "metadata": {},
   "source": [
    "### Using metadata to count \n",
    "What if we want to know the frequence of certain data categories, like the top buyers, the different nationalities of the artists sold by Knoedler, or the type of art sold?  Click on any ofthe 3 cells below, then click (►)."
   ]
  },
  {
   "cell_type": "code",
   "execution_count": null,
   "metadata": {},
   "outputs": [],
   "source": [
    "#Show the top 20 buyers of art from Knoedler\n",
    "knoedler_data[\"buyer\"].value_counts()[:20]"
   ]
  },
  {
   "cell_type": "code",
   "execution_count": null,
   "metadata": {},
   "outputs": [],
   "source": [
    "#Show the artist nationalities, in order of frequency\n",
    "knoedler_data[\"artist_nationality\"].value_counts()"
   ]
  },
  {
   "cell_type": "code",
   "execution_count": null,
   "metadata": {},
   "outputs": [],
   "source": [
    "knoedler_data[\"object_type\"].value_counts()"
   ]
  },
  {
   "cell_type": "markdown",
   "metadata": {},
   "source": [
    "What if we wanted to look at at the frequencies of a different cateogry, like the genres?\n",
    "Copy the text in the cell above, and change `object-type` to `genre`, then run the cell."
   ]
  },
  {
   "cell_type": "code",
   "execution_count": null,
   "metadata": {},
   "outputs": [],
   "source": []
  },
  {
   "cell_type": "markdown",
   "metadata": {},
   "source": [
    "## Using Metadata to get a sense of the dataset itself\n",
    "\n",
    "Metadtaa can tell us a lot! Importantly, it can tell us not just the things that the dataset describes, but what's going on in the dataset itself. Click on the cell below, and then click (►)."
   ]
  },
  {
   "cell_type": "code",
   "execution_count": null,
   "metadata": {},
   "outputs": [],
   "source": [
    "knoedler_data[\"coordinates\"].value_counts()[:20]"
   ]
  },
  {
   "cell_type": "markdown",
   "metadata": {},
   "source": [
    "Let's take a look at those coordinates. Click on the cell below, then click (►)."
   ]
  },
  {
   "cell_type": "code",
   "execution_count": null,
   "metadata": {},
   "outputs": [],
   "source": [
    "knoedler_data[knoedler_data[\"coordinates\"] == \"40.806416,-73.942262\"]"
   ]
  },
  {
   "cell_type": "markdown",
   "metadata": {},
   "source": [
    "We can also plot the datset on a timeline to get a sense of what the DATASET looks like:\n",
    "Click on the two cells belwo, and then click (►). What do you notice about the patterns in sale? What can we say about those gaps––knowing what we know about the dataset?"
   ]
  },
  {
   "cell_type": "code",
   "execution_count": null,
   "metadata": {},
   "outputs": [],
   "source": [
    "sales_by_year = knoedler_data.groupby(['sale_year']).size()\n",
    "sales_by_year.plot(kind=\"bar\", figsize=(20,6), title='Artworks Recorded as Sold Each Year')"
   ]
  },
  {
   "cell_type": "code",
   "execution_count": null,
   "metadata": {},
   "outputs": [],
   "source": [
    "purchases_by_year = knoedler_data.groupby(['purchase_year']).size()\n",
    "purchases_by_year.plot(kind=\"bar\", figsize=(20,6), title='Artworks Recorded as Purchased Each Year')"
   ]
  },
  {
   "cell_type": "markdown",
   "metadata": {},
   "source": [
    "Click on the cell below and click (►) to get the exact number of sales recorded or each year"
   ]
  },
  {
   "cell_type": "code",
   "execution_count": null,
   "metadata": {},
   "outputs": [],
   "source": [
    "knoedler_data[\"sale_year\"].value_counts()"
   ]
  }
 ],
 "metadata": {
  "kernelspec": {
   "display_name": "Python 3",
   "language": "python",
   "name": "python3"
  },
  "language_info": {
   "codemirror_mode": {
    "name": "ipython",
    "version": 3
   },
   "file_extension": ".py",
   "mimetype": "text/x-python",
   "name": "python",
   "nbconvert_exporter": "python",
   "pygments_lexer": "ipython3",
   "version": "3.8.3"
  }
 },
 "nbformat": 4,
 "nbformat_minor": 4
}
